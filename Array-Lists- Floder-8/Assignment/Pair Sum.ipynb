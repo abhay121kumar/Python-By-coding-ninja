{
 "cells": [
  {
   "cell_type": "markdown",
   "id": "0ace1c3a",
   "metadata": {},
   "source": [
    "Pair Sum\n",
    "Send Feedback\n",
    "You have been given an integer array/list(ARR) and a number X. Find and return the total number of pairs in the array/list which sum to X.\n",
    "Note:\n",
    "### Given array/list can contain duplicate elements. \n",
    "Input format :\n",
    "The first line contains an Integer 't' which denotes the number of test cases or queries to be run. Then the test cases follow.\n",
    "\n",
    "First line of each test case or query contains an integer 'N' representing the size of the first array/list.\n",
    "\n",
    "Second line contains 'N' single space separated integers representing the elements in the array/list.\n",
    "\n",
    "Third line contains an integer 'X'.\n",
    "Output format :\n",
    "For each test case, print the total number of pairs present in the array/list.\n",
    "\n",
    "Output for every test case will be printed in a separate line.\n",
    "Constraints :\n",
    "1 <= t <= 10^2\n",
    "0 <= N <= 10^3\n",
    "0 <= X <= 10^9\n",
    "Time Limit: 1 sec\n",
    "Sample Input 1:\n",
    "1\n",
    "9\n",
    "1 3 6 2 5 4 3 2 4\n",
    "7\n",
    "Sample Output 1:\n",
    "7\n",
    "Sample Input 2:\n",
    "2\n",
    "9\n",
    "1 3 6 2 5 4 3 2 4\n",
    "12\n",
    "6\n",
    "2 8 10 5 -2 5\n",
    "10\n",
    "Sample Output 2:\n",
    "0\n",
    "2\n",
    "\n",
    " Explanation for Input 2:\n",
    "Since there doesn't exist any pair with sum equal to 12 for the first query, we print 0.\n",
    "\n",
    "For the second query, we have 2 pairs in total that sum up to 10. They are, (2, 8) and (5, 5).\n"
   ]
  },
  {
   "cell_type": "code",
   "execution_count": 6,
   "id": "33b825c7",
   "metadata": {},
   "outputs": [
    {
     "name": "stdout",
     "output_type": "stream",
     "text": [
      "9\n",
      "1 3 6 2 5 4 3 2 4\n",
      "7\n",
      "7\n"
     ]
    }
   ],
   "source": [
    "def pair_sum(li,n,k):\n",
    "    sum=0\n",
    "    for i in range(n):\n",
    "        for j in range(i,n,1):\n",
    "            if i==j:\n",
    "                continue\n",
    "            if li[i]+li[j] == k:\n",
    "                sum+=1\n",
    "    return sum\n",
    "\n",
    "n = int(input())\n",
    "li = [int(x) for x in input().split()]\n",
    "k = int(input())\n",
    "ans = pair_sum(li,n,k)\n",
    "print(ans)"
   ]
  }
 ],
 "metadata": {
  "kernelspec": {
   "display_name": "Python 3 (ipykernel)",
   "language": "python",
   "name": "python3"
  },
  "language_info": {
   "codemirror_mode": {
    "name": "ipython",
    "version": 3
   },
   "file_extension": ".py",
   "mimetype": "text/x-python",
   "name": "python",
   "nbconvert_exporter": "python",
   "pygments_lexer": "ipython3",
   "version": "3.10.12"
  }
 },
 "nbformat": 4,
 "nbformat_minor": 5
}
