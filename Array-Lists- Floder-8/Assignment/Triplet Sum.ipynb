{
 "cells": [
  {
   "cell_type": "markdown",
   "id": "7abdae7f",
   "metadata": {},
   "source": [
    "### Triplet Sum\n",
    "Send Feedback\n",
    "You have been given a random integer array/list(ARR) and a number X. Find and return the number of triplets in the array/list which sum to X.\n",
    "Note :\n",
    "#### Given array/list can contain duplicate elements.\n",
    "Input format :\n",
    "The first line contains an Integer 't' which denotes the number of test cases or queries to be run. Then the test cases follow.\n",
    "\n",
    "First line of each test case or query contains an integer 'N' representing the size of the first array/list.\n",
    "\n",
    "Second line contains 'N' single space separated integers representing the elements in the array/list.\n",
    "\n",
    "Third line contains an integer 'X'.\n",
    "Output format :\n",
    "For each test case, print the total number of triplets present in the array/list.\n",
    "\n",
    "Output for every test case will be printed in a separate line.\n",
    "Constraints :\n",
    "1 <= t <= 50\n",
    "0 <= N <= 10^2\n",
    "0 <= X <= 10^9\n",
    "Time Limit: 1 sec\n",
    "Sample Input 1:\n",
    "1\n",
    "7\n",
    "1 2 3 4 5 6 7 \n",
    "12\n",
    "Sample Output 1:\n",
    "5\n",
    "Sample Input 2:\n",
    "2\n",
    "7\n",
    "1 2 3 4 5 6 7 \n",
    "19\n",
    "9\n",
    "2 -5 8 -6 0 5 10 11 -3\n",
    "10\n",
    "Sample Output 2:\n",
    "0\n",
    "5\n",
    "\n",
    " \n",
    "\n",
    "\n",
    "\n",
    "\n",
    "\n",
    "Explanation for Input 2:\n",
    "Since there doesn't exist any triplet with sum equal to 19 for the first query, we print 0.\n",
    "\n",
    "For the second query, we have 5 triplets in total that sum up to 10. They are, (2, 8, 0), (2, 11, -3), (-5, 5, 10), (8, 5, -3) and (-6, 5, 11)\n"
   ]
  },
  {
   "cell_type": "code",
   "execution_count": 5,
   "id": "08262aec",
   "metadata": {},
   "outputs": [
    {
     "name": "stdout",
     "output_type": "stream",
     "text": [
      "9\n",
      "2 -5 8 -6 0 5 10 11 -3\n",
      "10\n",
      "5\n"
     ]
    }
   ],
   "source": [
    "def pair_sum(li,n,x):\n",
    "    sum=0\n",
    "    for i in range(n):\n",
    "        for j in range(i,n,1):\n",
    "            for k in range(j,n,1):\n",
    "                if j==k or i==j:\n",
    "                    continue\n",
    "                if li[i]+li[j]+li[k] == x:\n",
    "                    sum+=1\n",
    "    return sum\n",
    "\n",
    "n = int(input())\n",
    "li = [int(x) for x in input().split()]\n",
    "x = int(input())\n",
    "ans = pair_sum(li,n,x)\n",
    "print(ans)"
   ]
  }
 ],
 "metadata": {
  "kernelspec": {
   "display_name": "Python 3 (ipykernel)",
   "language": "python",
   "name": "python3"
  },
  "language_info": {
   "codemirror_mode": {
    "name": "ipython",
    "version": 3
   },
   "file_extension": ".py",
   "mimetype": "text/x-python",
   "name": "python",
   "nbconvert_exporter": "python",
   "pygments_lexer": "ipython3",
   "version": "3.10.12"
  }
 },
 "nbformat": 4,
 "nbformat_minor": 5
}
