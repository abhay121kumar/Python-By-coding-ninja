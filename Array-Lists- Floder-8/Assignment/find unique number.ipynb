{
 "cells": [
  {
   "cell_type": "markdown",
   "id": "8c7a15c6",
   "metadata": {},
   "source": [
    "Find Unique\n",
    "Send Feedback\n",
    "You have been given an integer array/list(ARR) of size N. Where N is equal to [2M + 1].\n",
    "Now, in the given array/list, 'M' numbers are present twice and one number is present only once.\n",
    "You need to find and return that number which is unique in the array/list.\n",
    " Note:\n",
    "### Unique element is always present in the array/list according to the given condition.\n",
    "Input format :\n",
    "The first line contains an Integer 't' which denotes the number of test cases or queries to be run. Then the test cases follow.\n",
    "\n",
    "First line of each test case or query contains an integer 'N' representing the size of the array/list.\n",
    "\n",
    "Second line contains 'N' single space separated integers representing the elements in the array/list.\n",
    "Output Format :\n",
    "For each test case, print the unique element present in the array.\n",
    "\n",
    "Output for every test case will be printed in a separate line.\n",
    "Constraints :\n",
    "1 <= t <= 10^2\n",
    "0 <= N <= 10^3\n",
    "Time Limit: 1 sec\n",
    "Sample Input 1:\n",
    "1\n",
    "7\n",
    "2 3 1 6 3 6 2\n",
    "Sample Output 1:\n",
    "1\n",
    "Sample Input 2:\n",
    "2\n",
    "5\n",
    "2 4 7 2 7\n",
    "9\n",
    "1 3 1 3 6 6 7 10 7\n",
    "Sample Output 2:\n",
    "4\n",
    "10\n"
   ]
  },
  {
   "cell_type": "code",
   "execution_count": 16,
   "id": "9d341fe1",
   "metadata": {},
   "outputs": [
    {
     "name": "stdout",
     "output_type": "stream",
     "text": [
      "9\n",
      "1 3 1 3 6 6 7 10 7\n",
      "10\n"
     ]
    }
   ],
   "source": [
    "\n",
    "def find_unique(li,n):   \n",
    "    for i in range(n):\n",
    "        temp = 0\n",
    "        count = li[i]\n",
    "        for j in range(n):\n",
    "            if i==j:\n",
    "                continue\n",
    "            if count==li[j]:\n",
    "                temp+=1\n",
    "        if temp==0:\n",
    "            return count\n",
    "\n",
    "n = int(input())\n",
    "li = [int(x) for x in input().split()]\n",
    "ans = find_unique(li,n)\n",
    "print(ans)"
   ]
  },
  {
   "cell_type": "code",
   "execution_count": null,
   "id": "44585df5",
   "metadata": {},
   "outputs": [],
   "source": []
  }
 ],
 "metadata": {
  "kernelspec": {
   "display_name": "Python 3 (ipykernel)",
   "language": "python",
   "name": "python3"
  },
  "language_info": {
   "codemirror_mode": {
    "name": "ipython",
    "version": 3
   },
   "file_extension": ".py",
   "mimetype": "text/x-python",
   "name": "python",
   "nbconvert_exporter": "python",
   "pygments_lexer": "ipython3",
   "version": "3.10.12"
  }
 },
 "nbformat": 4,
 "nbformat_minor": 5
}
