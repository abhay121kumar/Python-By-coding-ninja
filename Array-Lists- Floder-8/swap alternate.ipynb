{
 "cells": [
  {
   "cell_type": "markdown",
   "id": "c8d6e342",
   "metadata": {},
   "source": [
    ";Swap Alternate\n",
    "Send Feedback\n",
    "You have been given an array/list(ARR) of size N. You need to swap every pair of alternate elements in the array/list.\n",
    "You don't need to print or return anything, just change in the input array itself.\n",
    "Input Format :\n",
    "The first line contains an Integer 't' which denotes the number of test cases or queries to be run. Then the test cases follow.\n",
    "\n",
    "First line of each test case or query contains an integer 'N' representing the size of the array/list.\n",
    "\n",
    "Second line contains 'N' single space separated integers representing the elements in the array/list.\n",
    "Output Format :\n",
    "For each test case, print the elements of the resulting array in a single row separated by a single space.\n",
    "\n",
    "Output for every test case will be printed in a separate line.\n",
    "Constraints :\n",
    "1 <= t <= 10^2\n",
    "0 <= N <= 10^5\n",
    "Time Limit: 1sec\n",
    "Sample Input 1:\n",
    "1\n",
    "6\n",
    "9 3 6 12 4 32\n",
    "Sample Output 1 :\n",
    "3 9 12 6 32 4\n",
    "Sample Input 2:\n",
    "2\n",
    "9\n",
    "9 3 6 12 4 32 5 11 19\n",
    "4\n",
    "1 2 3 4\n",
    "Sample Output 2 :\n",
    "3 9 12 6 32 4 11 5 19 \n",
    "2 1 4 3 \n"
   ]
  },
  {
   "cell_type": "markdown",
   "id": "37e17f13",
   "metadata": {},
   "source": [
    "### M-1"
   ]
  },
  {
   "cell_type": "code",
   "execution_count": 30,
   "id": "71d6b661",
   "metadata": {},
   "outputs": [
    {
     "name": "stdout",
     "output_type": "stream",
     "text": [
      "[2, 1, 4, 3, 5]\n"
     ]
    }
   ],
   "source": [
    "def swap_alter(li1,n):\n",
    "    for i in range(0,n-1,2):\n",
    "        temp = li1[i]\n",
    "        li1[i] = li1[i+1]\n",
    "        li1[i+1] = temp\n",
    "li1 = [1,2,3,4,5]\n",
    "n = len(li1)\n",
    "swap_alter(li1,n)\n",
    "print(li1)"
   ]
  },
  {
   "cell_type": "markdown",
   "id": "1fd11315",
   "metadata": {},
   "source": [
    "### M-2"
   ]
  },
  {
   "cell_type": "code",
   "execution_count": null,
   "id": "8fe0fbf4",
   "metadata": {},
   "outputs": [],
   "source": []
  },
  {
   "cell_type": "code",
   "execution_count": null,
   "id": "fd1fd24b",
   "metadata": {},
   "outputs": [],
   "source": []
  }
 ],
 "metadata": {
  "kernelspec": {
   "display_name": "Python 3 (ipykernel)",
   "language": "python",
   "name": "python3"
  },
  "language_info": {
   "codemirror_mode": {
    "name": "ipython",
    "version": 3
   },
   "file_extension": ".py",
   "mimetype": "text/x-python",
   "name": "python",
   "nbconvert_exporter": "python",
   "pygments_lexer": "ipython3",
   "version": "3.10.12"
  }
 },
 "nbformat": 4,
 "nbformat_minor": 5
}
