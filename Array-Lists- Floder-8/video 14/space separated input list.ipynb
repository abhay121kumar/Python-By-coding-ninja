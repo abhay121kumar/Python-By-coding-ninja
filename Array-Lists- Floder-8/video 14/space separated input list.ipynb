{
 "cells": [
  {
   "cell_type": "code",
   "execution_count": 1,
   "id": "5c376446",
   "metadata": {},
   "outputs": [
    {
     "name": "stdout",
     "output_type": "stream",
     "text": [
      "5\n"
     ]
    }
   ],
   "source": [
    "n = int(input())"
   ]
  },
  {
   "cell_type": "code",
   "execution_count": 2,
   "id": "4c96ac69",
   "metadata": {},
   "outputs": [
    {
     "name": "stdout",
     "output_type": "stream",
     "text": [
      "1 2 3 4 5\n"
     ]
    }
   ],
   "source": [
    "str = input()"
   ]
  },
  {
   "cell_type": "code",
   "execution_count": 35,
   "id": "2e6de914",
   "metadata": {},
   "outputs": [
    {
     "data": {
      "text/plain": [
       "'1 2 3 4 5'"
      ]
     },
     "execution_count": 35,
     "metadata": {},
     "output_type": "execute_result"
    }
   ],
   "source": [
    "str"
   ]
  },
  {
   "cell_type": "code",
   "execution_count": 6,
   "id": "9185595b",
   "metadata": {},
   "outputs": [
    {
     "name": "stdout",
     "output_type": "stream",
     "text": [
      "<class 'str'>\n"
     ]
    }
   ],
   "source": [
    "print(type(str))"
   ]
  },
  {
   "cell_type": "code",
   "execution_count": 7,
   "id": "da0ce0d8",
   "metadata": {},
   "outputs": [],
   "source": [
    "li =[]"
   ]
  },
  {
   "cell_type": "markdown",
   "id": "502cdd7d",
   "metadata": {},
   "source": [
    "### str_split"
   ]
  },
  {
   "cell_type": "code",
   "execution_count": 33,
   "id": "e162ef93",
   "metadata": {},
   "outputs": [],
   "source": [
    "str_split = str.split(' ')# slpit by space"
   ]
  },
  {
   "cell_type": "code",
   "execution_count": 34,
   "id": "d9281e9c",
   "metadata": {},
   "outputs": [
    {
     "data": {
      "text/plain": [
       "['1', '2', '3', '4', '5']"
      ]
     },
     "execution_count": 34,
     "metadata": {},
     "output_type": "execute_result"
    }
   ],
   "source": [
    "str_split"
   ]
  },
  {
   "cell_type": "code",
   "execution_count": 20,
   "id": "5884af73",
   "metadata": {},
   "outputs": [
    {
     "name": "stdout",
     "output_type": "stream",
     "text": [
      "6,7,8,9,10\n"
     ]
    }
   ],
   "source": [
    "str1 = input()#split by comma separted"
   ]
  },
  {
   "cell_type": "code",
   "execution_count": 21,
   "id": "1ea2de20",
   "metadata": {},
   "outputs": [],
   "source": [
    "str1_split = str1.split(',')"
   ]
  },
  {
   "cell_type": "code",
   "execution_count": 22,
   "id": "028c9b21",
   "metadata": {},
   "outputs": [
    {
     "data": {
      "text/plain": [
       "['6', '7', '8', '9', '10']"
      ]
     },
     "execution_count": 22,
     "metadata": {},
     "output_type": "execute_result"
    }
   ],
   "source": [
    "str1_split"
   ]
  },
  {
   "cell_type": "markdown",
   "id": "8f446e8c",
   "metadata": {},
   "source": [
    "## not working please see this doubt"
   ]
  },
  {
   "cell_type": "code",
   "execution_count": 28,
   "id": "eee693d0",
   "metadata": {},
   "outputs": [
    {
     "name": "stdout",
     "output_type": "stream",
     "text": [
      "6&7&8&9&10\n"
     ]
    }
   ],
   "source": [
    "str2 = input()"
   ]
  },
  {
   "cell_type": "code",
   "execution_count": 29,
   "id": "4a34d775",
   "metadata": {},
   "outputs": [],
   "source": [
    "str2_split = str.split('&')"
   ]
  },
  {
   "cell_type": "code",
   "execution_count": 30,
   "id": "cfb0c405",
   "metadata": {},
   "outputs": [
    {
     "data": {
      "text/plain": [
       "['1 2 3 4 5']"
      ]
     },
     "execution_count": 30,
     "metadata": {},
     "output_type": "execute_result"
    }
   ],
   "source": [
    "str2_split"
   ]
  },
  {
   "cell_type": "markdown",
   "id": "e74bc8b0",
   "metadata": {},
   "source": [
    "### ****************************************************"
   ]
  },
  {
   "cell_type": "code",
   "execution_count": 31,
   "id": "80636f67",
   "metadata": {},
   "outputs": [],
   "source": [
    "li=[]"
   ]
  },
  {
   "cell_type": "code",
   "execution_count": 36,
   "id": "74fbcad8",
   "metadata": {},
   "outputs": [],
   "source": [
    "for ele in str_split:\n",
    "    li.append(int(ele))"
   ]
  },
  {
   "cell_type": "code",
   "execution_count": 37,
   "id": "ad69f5c8",
   "metadata": {},
   "outputs": [
    {
     "data": {
      "text/plain": [
       "[1, 2, 3, 4, 5]"
      ]
     },
     "execution_count": 37,
     "metadata": {},
     "output_type": "execute_result"
    }
   ],
   "source": [
    "li"
   ]
  },
  {
   "cell_type": "markdown",
   "id": "1489dd16",
   "metadata": {},
   "source": [
    "### m-2"
   ]
  },
  {
   "cell_type": "code",
   "execution_count": 38,
   "id": "b0f11786",
   "metadata": {},
   "outputs": [
    {
     "name": "stdout",
     "output_type": "stream",
     "text": [
      "3 4 5 6 7\n"
     ]
    }
   ],
   "source": [
    "li = [int(x) for x in input().split()]"
   ]
  },
  {
   "cell_type": "code",
   "execution_count": 40,
   "id": "68a721a8",
   "metadata": {},
   "outputs": [
    {
     "data": {
      "text/plain": [
       "[3, 4, 5, 6, 7]"
      ]
     },
     "execution_count": 40,
     "metadata": {},
     "output_type": "execute_result"
    }
   ],
   "source": [
    "li #list of integer"
   ]
  },
  {
   "cell_type": "code",
   "execution_count": 41,
   "id": "7914c982",
   "metadata": {},
   "outputs": [
    {
     "name": "stdout",
     "output_type": "stream",
     "text": [
      "3\n",
      "4\n",
      "5\n",
      "6\n",
      "7\n"
     ]
    }
   ],
   "source": [
    "for ele in li:\n",
    "    print(ele)"
   ]
  },
  {
   "cell_type": "code",
   "execution_count": 43,
   "id": "21d6757e",
   "metadata": {},
   "outputs": [
    {
     "name": "stdout",
     "output_type": "stream",
     "text": [
      "4\n",
      "1 2 35 5\n",
      "1\n",
      "2\n",
      "35\n",
      "5\n"
     ]
    }
   ],
   "source": [
    "n= int(input())\n",
    "li = [int(x) for x in input().split()]\n",
    "for ele in li:\n",
    "    print(ele)"
   ]
  }
 ],
 "metadata": {
  "kernelspec": {
   "display_name": "Python 3 (ipykernel)",
   "language": "python",
   "name": "python3"
  },
  "language_info": {
   "codemirror_mode": {
    "name": "ipython",
    "version": 3
   },
   "file_extension": ".py",
   "mimetype": "text/x-python",
   "name": "python",
   "nbconvert_exporter": "python",
   "pygments_lexer": "ipython3",
   "version": "3.10.12"
  }
 },
 "nbformat": 4,
 "nbformat_minor": 5
}
