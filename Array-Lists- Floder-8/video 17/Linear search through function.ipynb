{
 "cells": [
  {
   "cell_type": "code",
   "execution_count": 3,
   "id": "9cdb6158",
   "metadata": {},
   "outputs": [
    {
     "name": "stdout",
     "output_type": "stream",
     "text": [
      "0\n"
     ]
    }
   ],
   "source": [
    "def linear_search(li,ele):\n",
    "    for i in range(len(li)):\n",
    "        if li[i]==ele:\n",
    "            return i\n",
    "    return -1\n",
    "\n",
    "li = [1,2,3,4,5]\n",
    "index = linear_search(li,1)\n",
    "print(index)"
   ]
  }
 ],
 "metadata": {
  "kernelspec": {
   "display_name": "Python 3 (ipykernel)",
   "language": "python",
   "name": "python3"
  },
  "language_info": {
   "codemirror_mode": {
    "name": "ipython",
    "version": 3
   },
   "file_extension": ".py",
   "mimetype": "text/x-python",
   "name": "python",
   "nbconvert_exporter": "python",
   "pygments_lexer": "ipython3",
   "version": "3.10.12"
  }
 },
 "nbformat": 4,
 "nbformat_minor": 5
}
