{
 "cells": [
  {
   "cell_type": "markdown",
   "id": "61de0599",
   "metadata": {},
   "source": [
    "### IMMutable"
   ]
  },
  {
   "cell_type": "code",
   "execution_count": 1,
   "id": "247b1bf6",
   "metadata": {},
   "outputs": [
    {
     "name": "stdout",
     "output_type": "stream",
     "text": [
      "3\n",
      "3\n"
     ]
    }
   ],
   "source": [
    "x = 3\n",
    "a = 3\n",
    "print(x)\n",
    "print(a)"
   ]
  },
  {
   "cell_type": "code",
   "execution_count": 2,
   "id": "7f73d918",
   "metadata": {},
   "outputs": [
    {
     "name": "stdout",
     "output_type": "stream",
     "text": [
      "140064011731248\n",
      "140064011731248\n"
     ]
    }
   ],
   "source": [
    "print(id(x))\n",
    "print(id(a))"
   ]
  },
  {
   "cell_type": "code",
   "execution_count": 4,
   "id": "7e1a0db6",
   "metadata": {},
   "outputs": [
    {
     "name": "stdout",
     "output_type": "stream",
     "text": [
      "3\n",
      "4\n",
      "140064011731248\n",
      "140064011731280\n"
     ]
    }
   ],
   "source": [
    "a = 4\n",
    "print(x)\n",
    "print(a)\n",
    "print(id(x))\n",
    "print(id(a))"
   ]
  },
  {
   "cell_type": "markdown",
   "id": "b5579609",
   "metadata": {},
   "source": [
    "### Mutable"
   ]
  },
  {
   "cell_type": "code",
   "execution_count": 8,
   "id": "8efbb934",
   "metadata": {},
   "outputs": [
    {
     "name": "stdout",
     "output_type": "stream",
     "text": [
      "140063920467136\n",
      "140063920467136\n",
      "[1, 100, 3, 4]\n",
      "[1, 100, 3, 4]\n"
     ]
    }
   ],
   "source": [
    "li = [1,2,3,4]\n",
    "li2 = li\n",
    "print(id(li))\n",
    "print(id(li2))\n",
    "li2[1] = 100\n",
    "print(li)\n",
    "print(li2)"
   ]
  },
  {
   "cell_type": "code",
   "execution_count": 9,
   "id": "f02cc771",
   "metadata": {},
   "outputs": [
    {
     "name": "stdout",
     "output_type": "stream",
     "text": [
      "140063920467136\n",
      "140063946830208\n",
      "[1, 100, 3, 4]\n",
      "[3, 200, 3]\n"
     ]
    }
   ],
   "source": [
    "li2 = [3,4,3]\n",
    "print(id(li))\n",
    "print(id(li2))\n",
    "li2[1] = 200\n",
    "print(li)\n",
    "print(li2)"
   ]
  }
 ],
 "metadata": {
  "kernelspec": {
   "display_name": "Python 3 (ipykernel)",
   "language": "python",
   "name": "python3"
  },
  "language_info": {
   "codemirror_mode": {
    "name": "ipython",
    "version": 3
   },
   "file_extension": ".py",
   "mimetype": "text/x-python",
   "name": "python",
   "nbconvert_exporter": "python",
   "pygments_lexer": "ipython3",
   "version": "3.10.12"
  }
 },
 "nbformat": 4,
 "nbformat_minor": 5
}
