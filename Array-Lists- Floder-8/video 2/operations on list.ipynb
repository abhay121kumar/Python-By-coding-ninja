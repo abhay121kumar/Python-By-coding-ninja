{
 "cells": [
  {
   "cell_type": "markdown",
   "id": "7e9d263c",
   "metadata": {},
   "source": [
    "### operation on list"
   ]
  },
  {
   "cell_type": "code",
   "execution_count": 2,
   "id": "79c1157c",
   "metadata": {},
   "outputs": [
    {
     "data": {
      "text/plain": [
       "[]"
      ]
     },
     "execution_count": 2,
     "metadata": {},
     "output_type": "execute_result"
    }
   ],
   "source": [
    "li =[]\n",
    "li"
   ]
  },
  {
   "cell_type": "code",
   "execution_count": 4,
   "id": "75dc4336",
   "metadata": {},
   "outputs": [
    {
     "data": {
      "text/plain": [
       "[1, 2, 3]"
      ]
     },
     "execution_count": 4,
     "metadata": {},
     "output_type": "execute_result"
    }
   ],
   "source": [
    "li = [1,2,3]\n",
    "li"
   ]
  },
  {
   "cell_type": "code",
   "execution_count": 5,
   "id": "5a490551",
   "metadata": {},
   "outputs": [
    {
     "data": {
      "text/plain": [
       "list"
      ]
     },
     "execution_count": 5,
     "metadata": {},
     "output_type": "execute_result"
    }
   ],
   "source": [
    "type(li)"
   ]
  },
  {
   "cell_type": "code",
   "execution_count": 6,
   "id": "0dfe421b",
   "metadata": {},
   "outputs": [
    {
     "data": {
      "text/plain": [
       "[1, 2, 'abhay', 'c', 'adsd', 34.232]"
      ]
     },
     "execution_count": 6,
     "metadata": {},
     "output_type": "execute_result"
    }
   ],
   "source": [
    "li=[1,2,\"abhay\",'c','adsd',34.232]\n",
    "li"
   ]
  },
  {
   "cell_type": "markdown",
   "id": "75af11b2",
   "metadata": {},
   "source": [
    "### access & change element in list"
   ]
  },
  {
   "cell_type": "code",
   "execution_count": 10,
   "id": "53e827f8",
   "metadata": {},
   "outputs": [
    {
     "name": "stdout",
     "output_type": "stream",
     "text": [
      "1\n",
      "2.3\n",
      "parikh\n",
      "111\n",
      "ansul\n"
     ]
    }
   ],
   "source": [
    "li = [1,2,\"parikh\",2.3]\n",
    "print(li[0])\n",
    "print(li[3])\n",
    "print(li[2])\n",
    "\n",
    "li[0] = 111\n",
    "li[2] = \"ansul\"\n",
    "print(li[0])\n",
    "print(li[2])"
   ]
  },
  {
   "cell_type": "markdown",
   "id": "52c49c8b",
   "metadata": {},
   "source": [
    "### slicing of a list"
   ]
  },
  {
   "cell_type": "code",
   "execution_count": 12,
   "id": "31bf0eff",
   "metadata": {},
   "outputs": [
    {
     "data": {
      "text/plain": [
       "[111, 2, 'ansul', 2.3]"
      ]
     },
     "execution_count": 12,
     "metadata": {},
     "output_type": "execute_result"
    }
   ],
   "source": [
    "li"
   ]
  },
  {
   "cell_type": "code",
   "execution_count": 11,
   "id": "3761f9e1",
   "metadata": {},
   "outputs": [
    {
     "data": {
      "text/plain": [
       "[2, 'ansul']"
      ]
     },
     "execution_count": 11,
     "metadata": {},
     "output_type": "execute_result"
    }
   ],
   "source": [
    "li[1:3]"
   ]
  },
  {
   "cell_type": "code",
   "execution_count": 13,
   "id": "31839b6e",
   "metadata": {},
   "outputs": [
    {
     "data": {
      "text/plain": [
       "[2, 'ansul', 2.3]"
      ]
     },
     "execution_count": 13,
     "metadata": {},
     "output_type": "execute_result"
    }
   ],
   "source": [
    "li[1:]"
   ]
  },
  {
   "cell_type": "code",
   "execution_count": 14,
   "id": "0a7e83df",
   "metadata": {},
   "outputs": [
    {
     "data": {
      "text/plain": [
       "[111, 2, 'ansul', 2.3]"
      ]
     },
     "execution_count": 14,
     "metadata": {},
     "output_type": "execute_result"
    }
   ],
   "source": [
    "li[:]"
   ]
  },
  {
   "cell_type": "markdown",
   "id": "f7a63215",
   "metadata": {},
   "source": [
    "### insert & append element in list"
   ]
  },
  {
   "cell_type": "code",
   "execution_count": 15,
   "id": "65f908a3",
   "metadata": {},
   "outputs": [
    {
     "data": {
      "text/plain": [
       "[111, 2, 'ansul', 2.3]"
      ]
     },
     "execution_count": 15,
     "metadata": {},
     "output_type": "execute_result"
    }
   ],
   "source": [
    "li"
   ]
  },
  {
   "cell_type": "markdown",
   "id": "3f7d7501",
   "metadata": {},
   "source": [
    "### append"
   ]
  },
  {
   "cell_type": "code",
   "execution_count": 17,
   "id": "671b8e27",
   "metadata": {},
   "outputs": [
    {
     "data": {
      "text/plain": [
       "[111, 2, 'ansul', 2.3, 'ankush', 'ankush']"
      ]
     },
     "execution_count": 17,
     "metadata": {},
     "output_type": "execute_result"
    }
   ],
   "source": [
    "li.append(\"ankush\")\n",
    "li"
   ]
  },
  {
   "cell_type": "markdown",
   "id": "fa52cda2",
   "metadata": {},
   "source": [
    "### insert"
   ]
  },
  {
   "cell_type": "code",
   "execution_count": 19,
   "id": "5e7e0dae",
   "metadata": {},
   "outputs": [
    {
     "data": {
      "text/plain": [
       "[111, 777, 2, 'ansul', 2.3, 'ankush', 'ankush']"
      ]
     },
     "execution_count": 19,
     "metadata": {},
     "output_type": "execute_result"
    }
   ],
   "source": [
    "li.insert(1,777)\n",
    "li"
   ]
  },
  {
   "cell_type": "code",
   "execution_count": 20,
   "id": "8720a97f",
   "metadata": {},
   "outputs": [
    {
     "data": {
      "text/plain": [
       "[111, 777, 2, 'ansul', 2.3, 'ankush', 'ankush', 'last']"
      ]
     },
     "execution_count": 20,
     "metadata": {},
     "output_type": "execute_result"
    }
   ],
   "source": [
    "li.insert(7,\"last\")\n",
    "li"
   ]
  },
  {
   "cell_type": "code",
   "execution_count": 21,
   "id": "05ec10d5",
   "metadata": {},
   "outputs": [
    {
     "data": {
      "text/plain": [
       "[111, 777, 2, 'ansul', 2.3, 'ankush', 'ankush', 'last', [7, 8, 9]]"
      ]
     },
     "execution_count": 21,
     "metadata": {},
     "output_type": "execute_result"
    }
   ],
   "source": [
    "li.append([7,8,9])\n",
    "li"
   ]
  },
  {
   "cell_type": "markdown",
   "id": "894f78b5",
   "metadata": {},
   "source": [
    "### extend"
   ]
  },
  {
   "cell_type": "code",
   "execution_count": 22,
   "id": "3d160b83",
   "metadata": {},
   "outputs": [
    {
     "data": {
      "text/plain": [
       "[111, 777, 2, 'ansul', 2.3, 'ankush', 'ankush', 'last', [7, 8, 9], 7, 8, 9]"
      ]
     },
     "execution_count": 22,
     "metadata": {},
     "output_type": "execute_result"
    }
   ],
   "source": [
    "li.extend([7,8,9])\n",
    "li"
   ]
  },
  {
   "cell_type": "markdown",
   "id": "b8f3001b",
   "metadata": {},
   "source": [
    "### removing element from list"
   ]
  },
  {
   "cell_type": "code",
   "execution_count": 23,
   "id": "e158360e",
   "metadata": {},
   "outputs": [
    {
     "data": {
      "text/plain": [
       "[111, 777, 2, 'ansul', 2.3, 'ankush', 'ankush', 'last', [7, 8, 9], 7, 8, 9]"
      ]
     },
     "execution_count": 23,
     "metadata": {},
     "output_type": "execute_result"
    }
   ],
   "source": [
    "li"
   ]
  },
  {
   "cell_type": "code",
   "execution_count": 24,
   "id": "178d0985",
   "metadata": {},
   "outputs": [
    {
     "data": {
      "text/plain": [
       "[2, 111, 777, 2, 'ansul', 2.3, 'ankush', 'ankush', 'last', [7, 8, 9], 7, 8, 9]"
      ]
     },
     "execution_count": 24,
     "metadata": {},
     "output_type": "execute_result"
    }
   ],
   "source": [
    "li.insert(0,2)\n",
    "li"
   ]
  },
  {
   "cell_type": "markdown",
   "id": "a50aaf62",
   "metadata": {},
   "source": [
    "### remove"
   ]
  },
  {
   "cell_type": "code",
   "execution_count": 25,
   "id": "6c666068",
   "metadata": {},
   "outputs": [
    {
     "data": {
      "text/plain": [
       "[111, 777, 2, 'ansul', 2.3, 'ankush', 'ankush', 'last', [7, 8, 9], 7, 8, 9]"
      ]
     },
     "execution_count": 25,
     "metadata": {},
     "output_type": "execute_result"
    }
   ],
   "source": [
    "li.remove(2)#deleted from first if there is multiple identical number present\n",
    "li"
   ]
  },
  {
   "cell_type": "code",
   "execution_count": 27,
   "id": "4119108b",
   "metadata": {},
   "outputs": [
    {
     "data": {
      "text/plain": [
       "[111, 777, 2, 'ansul', 2.3, 'ankush', 'ankush', 'last', 7, 8, 9]"
      ]
     },
     "execution_count": 27,
     "metadata": {},
     "output_type": "execute_result"
    }
   ],
   "source": [
    "li.remove([7,8,9])\n",
    "li"
   ]
  },
  {
   "cell_type": "markdown",
   "id": "96ebe4f9",
   "metadata": {},
   "source": [
    "### pop"
   ]
  },
  {
   "cell_type": "code",
   "execution_count": 28,
   "id": "02e850ee",
   "metadata": {},
   "outputs": [
    {
     "data": {
      "text/plain": [
       "[111, 777, 2, 'ansul', 2.3, 'ankush', 'ankush', 'last', 7, 8]"
      ]
     },
     "execution_count": 28,
     "metadata": {},
     "output_type": "execute_result"
    }
   ],
   "source": [
    "li.pop() #deleted from last\n",
    "li"
   ]
  },
  {
   "cell_type": "code",
   "execution_count": 29,
   "id": "cd94e21f",
   "metadata": {},
   "outputs": [
    {
     "data": {
      "text/plain": [
       "[111, 777, 2, 2.3, 'ankush', 'ankush', 'last', 7, 8]"
      ]
     },
     "execution_count": 29,
     "metadata": {},
     "output_type": "execute_result"
    }
   ],
   "source": [
    "li.pop(3) #from perticular index deleted\n",
    "li"
   ]
  },
  {
   "cell_type": "markdown",
   "id": "cbac911c",
   "metadata": {},
   "source": [
    "### length of list"
   ]
  },
  {
   "cell_type": "code",
   "execution_count": 31,
   "id": "51ed285b",
   "metadata": {},
   "outputs": [
    {
     "data": {
      "text/plain": [
       "[111, 777, 2, 2.3, 'ankush', 'ankush', 'last', 7, 8]"
      ]
     },
     "execution_count": 31,
     "metadata": {},
     "output_type": "execute_result"
    }
   ],
   "source": [
    "li"
   ]
  },
  {
   "cell_type": "code",
   "execution_count": 30,
   "id": "6b967acf",
   "metadata": {},
   "outputs": [
    {
     "data": {
      "text/plain": [
       "9"
      ]
     },
     "execution_count": 30,
     "metadata": {},
     "output_type": "execute_result"
    }
   ],
   "source": [
    "len(li)"
   ]
  },
  {
   "cell_type": "code",
   "execution_count": 35,
   "id": "8e62c485",
   "metadata": {},
   "outputs": [
    {
     "data": {
      "text/plain": [
       "[111, 777, 2, 2.3, 'ankush', 'ankush', 'last']"
      ]
     },
     "execution_count": 35,
     "metadata": {},
     "output_type": "execute_result"
    }
   ],
   "source": [
    "li.pop(7)\n",
    "li"
   ]
  },
  {
   "cell_type": "code",
   "execution_count": 36,
   "id": "bcfae2bd",
   "metadata": {},
   "outputs": [
    {
     "data": {
      "text/plain": [
       "7"
      ]
     },
     "execution_count": 36,
     "metadata": {},
     "output_type": "execute_result"
    }
   ],
   "source": [
    "len(li)"
   ]
  },
  {
   "cell_type": "code",
   "execution_count": 40,
   "id": "67810dc0",
   "metadata": {},
   "outputs": [
    {
     "data": {
      "text/plain": [
       "[777, 2, 2.3, 'ankush', 'ankush', 'last']"
      ]
     },
     "execution_count": 40,
     "metadata": {},
     "output_type": "execute_result"
    }
   ],
   "source": [
    "li.remove(111)\n",
    "li"
   ]
  },
  {
   "cell_type": "code",
   "execution_count": 41,
   "id": "cdcc601e",
   "metadata": {},
   "outputs": [
    {
     "data": {
      "text/plain": [
       "[777, 2, 'ankush', 'ankush', 'last']"
      ]
     },
     "execution_count": 41,
     "metadata": {},
     "output_type": "execute_result"
    }
   ],
   "source": [
    "li.remove(2.3)\n",
    "li"
   ]
  },
  {
   "cell_type": "code",
   "execution_count": 42,
   "id": "21ea8097",
   "metadata": {},
   "outputs": [
    {
     "data": {
      "text/plain": [
       "[777, 2, 'ankush', 'ankush', 'last', 5, 6, 7, 8]"
      ]
     },
     "execution_count": 42,
     "metadata": {},
     "output_type": "execute_result"
    }
   ],
   "source": [
    "li.extend([5,6,7,8])\n",
    "li"
   ]
  },
  {
   "cell_type": "code",
   "execution_count": 43,
   "id": "e8ce4aad",
   "metadata": {},
   "outputs": [
    {
     "data": {
      "text/plain": [
       "[777, 2, 'ankush', 'ankush', 'last', 6, 7, 8]"
      ]
     },
     "execution_count": 43,
     "metadata": {},
     "output_type": "execute_result"
    }
   ],
   "source": [
    "li.remove(5)\n",
    "li"
   ]
  },
  {
   "cell_type": "code",
   "execution_count": 44,
   "id": "f827e182",
   "metadata": {},
   "outputs": [],
   "source": [
    "li.remove(7)"
   ]
  },
  {
   "cell_type": "code",
   "execution_count": 45,
   "id": "701e3159",
   "metadata": {},
   "outputs": [
    {
     "data": {
      "text/plain": [
       "[777, 2, 'ankush', 'ankush', 'last', 6, 8]"
      ]
     },
     "execution_count": 45,
     "metadata": {},
     "output_type": "execute_result"
    }
   ],
   "source": [
    "li"
   ]
  },
  {
   "cell_type": "code",
   "execution_count": 46,
   "id": "5c42b7fa",
   "metadata": {},
   "outputs": [
    {
     "data": {
      "text/plain": [
       "[777, 2, 'ankush', 'ankush', 'last', 6]"
      ]
     },
     "execution_count": 46,
     "metadata": {},
     "output_type": "execute_result"
    }
   ],
   "source": [
    "li.remove(8)\n",
    "li"
   ]
  }
 ],
 "metadata": {
  "kernelspec": {
   "display_name": "Python 3 (ipykernel)",
   "language": "python",
   "name": "python3"
  },
  "language_info": {
   "codemirror_mode": {
    "name": "ipython",
    "version": 3
   },
   "file_extension": ".py",
   "mimetype": "text/x-python",
   "name": "python",
   "nbconvert_exporter": "python",
   "pygments_lexer": "ipython3",
   "version": "3.10.12"
  }
 },
 "nbformat": 4,
 "nbformat_minor": 5
}
