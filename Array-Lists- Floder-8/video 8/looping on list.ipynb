{
 "cells": [
  {
   "cell_type": "code",
   "execution_count": 2,
   "id": "bdc281cb",
   "metadata": {},
   "outputs": [],
   "source": [
    "li = [1,2,\"parikh\",9,10,11,\"ankush\"]"
   ]
  },
  {
   "cell_type": "code",
   "execution_count": 3,
   "id": "899c3cf1",
   "metadata": {},
   "outputs": [
    {
     "name": "stdout",
     "output_type": "stream",
     "text": [
      "1\n",
      "2\n",
      "parikh\n",
      "9\n",
      "10\n",
      "11\n",
      "ankush\n"
     ]
    }
   ],
   "source": [
    "for i in range(len(li)):\n",
    "    print(li[i])"
   ]
  },
  {
   "cell_type": "code",
   "execution_count": 4,
   "id": "d0570814",
   "metadata": {},
   "outputs": [
    {
     "name": "stdout",
     "output_type": "stream",
     "text": [
      "1\n",
      "2\n",
      "parikh\n",
      "9\n",
      "10\n",
      "11\n",
      "ankush\n"
     ]
    }
   ],
   "source": [
    "for ele in li:\n",
    "    print(ele)"
   ]
  },
  {
   "cell_type": "code",
   "execution_count": 5,
   "id": "41f7b0fe",
   "metadata": {},
   "outputs": [
    {
     "name": "stdout",
     "output_type": "stream",
     "text": [
      "1\n",
      "2\n",
      "parikh\n",
      "9\n",
      "10\n",
      "11\n",
      "ankush\n"
     ]
    }
   ],
   "source": [
    "for ele in li[::]:\n",
    "    print(ele)"
   ]
  }
 ],
 "metadata": {
  "kernelspec": {
   "display_name": "Python 3 (ipykernel)",
   "language": "python",
   "name": "python3"
  },
  "language_info": {
   "codemirror_mode": {
    "name": "ipython",
    "version": 3
   },
   "file_extension": ".py",
   "mimetype": "text/x-python",
   "name": "python",
   "nbconvert_exporter": "python",
   "pygments_lexer": "ipython3",
   "version": "3.10.12"
  }
 },
 "nbformat": 4,
 "nbformat_minor": 5
}
