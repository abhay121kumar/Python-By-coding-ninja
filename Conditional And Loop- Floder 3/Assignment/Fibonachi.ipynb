{
 "cells": [
  {
   "cell_type": "markdown",
   "id": "57d832dd",
   "metadata": {},
   "source": [
    "### Nth Fibonacci number\n",
    "Send Feedback\n",
    "Nth term of fibonacci series F(n) is calculated using following formula -\n",
    "    F(n) = F(n-1) + F(n-2), \n",
    "    Where, F(1) = F(2) = 1\n",
    "Provided N you have to find out the Nth Fibonacci Number.\n",
    "Input Format :\n",
    "Integer n\n",
    "Output Format :\n",
    "Nth Fibonacci term i.e. F(n)\n",
    "Constraints:\n",
    "1 <= n <= 25\n",
    "Sample Input 1:\n",
    "4\n",
    "Sample Output 2:\n",
    "3 \n",
    "Sample Input 1:\n",
    "6\n",
    "Sample Output 2:\n",
    "8\n"
   ]
  },
  {
   "cell_type": "code",
   "execution_count": 7,
   "id": "1fbd1cdc",
   "metadata": {},
   "outputs": [
    {
     "name": "stdout",
     "output_type": "stream",
     "text": [
      "6\n",
      "8\n"
     ]
    }
   ],
   "source": [
    "n = int(input())\n",
    "a=0\n",
    "b=1\n",
    "c=-1\n",
    "for i in range(n):\n",
    "    c=a+b\n",
    "    a=b\n",
    "    b=c\n",
    "print(a)"
   ]
  },
  {
   "cell_type": "code",
   "execution_count": 10,
   "id": "c2e5b04b",
   "metadata": {},
   "outputs": [
    {
     "name": "stdout",
     "output_type": "stream",
     "text": [
      "7\n",
      "13\n"
     ]
    }
   ],
   "source": [
    "n = int(input())\n",
    "a=0\n",
    "b=1\n",
    "c=-1\n",
    "i=0\n",
    "while i<n:\n",
    "    c=a+b\n",
    "    a=b\n",
    "    b=c\n",
    "    i+=1\n",
    "print(a)"
   ]
  }
 ],
 "metadata": {
  "kernelspec": {
   "display_name": "Python 3 (ipykernel)",
   "language": "python",
   "name": "python3"
  },
  "language_info": {
   "codemirror_mode": {
    "name": "ipython",
    "version": 3
   },
   "file_extension": ".py",
   "mimetype": "text/x-python",
   "name": "python",
   "nbconvert_exporter": "python",
   "pygments_lexer": "ipython3",
   "version": "3.10.6"
  }
 },
 "nbformat": 4,
 "nbformat_minor": 5
}
