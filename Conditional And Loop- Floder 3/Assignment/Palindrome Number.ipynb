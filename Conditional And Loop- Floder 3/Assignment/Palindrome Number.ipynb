{
 "cells": [
  {
   "cell_type": "markdown",
   "id": "585ffd38",
   "metadata": {},
   "source": [
    "### Palindrome number\n",
    "Send Feedback\n",
    "Write a program to determine if given number is palindrome or not. Print true if it is palindrome, false otherwise.\n",
    "Palindrome are the numbers for which reverse is exactly same as the original one. For eg. 121\n",
    "Sample Input 1 :\n",
    "121\n",
    "Sample Output 1 :\n",
    "true\n",
    "Sample Input 2 :\n",
    "1032\n",
    "Sample Output 2 :\n",
    "false\n"
   ]
  },
  {
   "cell_type": "code",
   "execution_count": 43,
   "id": "d50fe2d4",
   "metadata": {},
   "outputs": [
    {
     "name": "stdout",
     "output_type": "stream",
     "text": [
      "112\n",
      "false\n"
     ]
    }
   ],
   "source": [
    "n = int(input())\n",
    "temp =n\n",
    "rev = 0\n",
    "while temp!=0:\n",
    "    rev = rev*10 + (temp%10)\n",
    "    temp = temp//10\n",
    "if (n==rev):\n",
    "    print(\"true\")\n",
    "else:\n",
    "    print(\"false\")"
   ]
  }
 ],
 "metadata": {
  "kernelspec": {
   "display_name": "Python 3 (ipykernel)",
   "language": "python",
   "name": "python3"
  },
  "language_info": {
   "codemirror_mode": {
    "name": "ipython",
    "version": 3
   },
   "file_extension": ".py",
   "mimetype": "text/x-python",
   "name": "python",
   "nbconvert_exporter": "python",
   "pygments_lexer": "ipython3",
   "version": "3.10.6"
  }
 },
 "nbformat": 4,
 "nbformat_minor": 5
}
