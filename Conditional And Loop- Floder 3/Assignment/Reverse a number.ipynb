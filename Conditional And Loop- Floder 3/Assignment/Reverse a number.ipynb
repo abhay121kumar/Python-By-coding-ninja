{
 "cells": [
  {
   "cell_type": "markdown",
   "id": "5afa8068",
   "metadata": {},
   "source": [
    "### Reverse of a number\n",
    "Send Feedback\n",
    "Write a program to generate the reverse of a given number N. Print the corresponding reverse number.\n",
    "Note : If a number has trailing zeros, then its reverse will not include them. For e.g., reverse of 10400 will be 401 instead of 00401.\n",
    "\n",
    "Input format :\n",
    "Integer N\n",
    "Output format :\n",
    "Corresponding reverse number\n",
    "Constraints:\n",
    "0 <= N < 10^8\n",
    "Sample Input 1 :\n",
    "1234\n",
    "Sample Output 1 :\n",
    "4321\n",
    "Sample Input 2 :\n",
    "1980\n",
    "Sample Output 2 :\n",
    "891\n"
   ]
  },
  {
   "cell_type": "code",
   "execution_count": 48,
   "id": "9b2aec9c",
   "metadata": {},
   "outputs": [
    {
     "name": "stdout",
     "output_type": "stream",
     "text": [
      "10400\n",
      "401\n"
     ]
    }
   ],
   "source": [
    "#M-1\n",
    "n = int(input())\n",
    "s = \"\"\n",
    "flag = False\n",
    "while n!=0:\n",
    "    if n%10!=0:\n",
    "        flag = True\n",
    "    if flag:\n",
    "        s+=str(n%10)\n",
    "    #n = int(n/10)\n",
    "    n = n//10\n",
    "print(s)"
   ]
  },
  {
   "cell_type": "code",
   "execution_count": 42,
   "id": "f50e16f1",
   "metadata": {},
   "outputs": [
    {
     "name": "stdout",
     "output_type": "stream",
     "text": [
      "10400\n",
      "401\n"
     ]
    }
   ],
   "source": [
    "#M-2\n",
    "n = int(input())\n",
    "temp = n\n",
    "revNum = 0\n",
    "while temp>0:\n",
    "    lastDigit = temp%10\n",
    "    temp = temp//10\n",
    "    revNum = revNum*10 + lastDigit\n",
    "\n",
    "print(revNum)"
   ]
  },
  {
   "cell_type": "code",
   "execution_count": 47,
   "id": "e3228b37",
   "metadata": {},
   "outputs": [
    {
     "name": "stdout",
     "output_type": "stream",
     "text": [
      "123\n",
      "12\n",
      "12.3\n",
      "3\n"
     ]
    }
   ],
   "source": [
    "n = int(input())\n",
    "print(n//10)\n",
    "print(n/10)\n",
    "print(n%10)"
   ]
  }
 ],
 "metadata": {
  "kernelspec": {
   "display_name": "Python 3 (ipykernel)",
   "language": "python",
   "name": "python3"
  },
  "language_info": {
   "codemirror_mode": {
    "name": "ipython",
    "version": 3
   },
   "file_extension": ".py",
   "mimetype": "text/x-python",
   "name": "python",
   "nbconvert_exporter": "python",
   "pygments_lexer": "ipython3",
   "version": "3.10.6"
  }
 },
 "nbformat": 4,
 "nbformat_minor": 5
}
