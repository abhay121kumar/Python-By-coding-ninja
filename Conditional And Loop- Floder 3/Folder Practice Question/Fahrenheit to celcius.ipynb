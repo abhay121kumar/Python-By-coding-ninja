{
 "cells": [
  {
   "cell_type": "markdown",
   "id": "c9be41fc",
   "metadata": {},
   "source": [
    "### Fahrenheit to Celsius\n",
    "Send Feedback\n",
    "Given three values - Start Fahrenheit Value (S), End Fahrenheit value (E) and Step Size (W), you need to convert all Fahrenheit values from Start to End at the gap of W, into their corresponding Celsius values and print the table.\n",
    "Input Format :\n",
    "3 integers - S, E and W respectively \n",
    "Output Format :\n",
    "Fahrenheit to Celsius conversion table. One line for every Fahrenheit and corresponding Celsius value. On Fahrenheit value and its corresponding Celsius value should be separate by tab (\"\\t\")\n",
    "Constraints :\n",
    "0 <= S <= 80\n",
    "S <= E <=  900\n",
    "0 <= W <= 40 \n",
    "Sample Input 1:\n",
    "0 \n",
    "100 \n",
    "20\n",
    "Sample Output 1:\n",
    "0   -17\n",
    "20  -6\n",
    "40  4\n",
    "60  15\n",
    "80  26\n",
    "100 37\n",
    "Sample Input 2:\n",
    "20\n",
    "119\n",
    "13\n",
    "Sample Output 2:\n",
    "20  -6\n",
    "33  0 \n",
    "46  7\n",
    "59  15\n",
    "72  22\n",
    "85  29\n",
    "98  36\n",
    "111 43\n",
    "Explanation For Input 2:\n",
    "We need need to start calculating the Celsius values for each of the Fahrenheit Value which starts from 20. So starting from 20 which is the given Fahrenheit start value, we need to compute its corresponding Celsius value which computes to -6. We print this information as <Fahrenheit Value> a tab space\"\\t\" <Celsius Value> on each line for each step of 13 we take to get the next value of Fahrenheit and extend this idea till we reach the end that is till 119 in this case. You may or may not exactly land on the end value depending on the steps you are taking.\n"
   ]
  },
  {
   "cell_type": "code",
   "execution_count": 14,
   "id": "18c63068",
   "metadata": {},
   "outputs": [
    {
     "name": "stdout",
     "output_type": "stream",
     "text": [
      "20\n",
      "119\n",
      "13\n",
      "20\t-6\n",
      "33\t0\n",
      "46\t7\n",
      "59\t15\n",
      "72\t22\n",
      "85\t29\n",
      "98\t36\n",
      "111\t43\n"
     ]
    }
   ],
   "source": [
    "s = int(input())\n",
    "e = int(input())\n",
    "w = int(input())\n",
    "while s<=e:\n",
    "    c = int((s-32)* 5/9)\n",
    "    #print(s,\"\\t\",c)\n",
    "    print(s,\" \",c)\n",
    "    s+=w"
   ]
  },
  {
   "cell_type": "code",
   "execution_count": 16,
   "id": "158dfeee",
   "metadata": {},
   "outputs": [
    {
     "name": "stdout",
     "output_type": "stream",
     "text": [
      "20\n",
      "119\n",
      "13\n",
      "20\t-6\n",
      "33\t0\n",
      "46\t7\n",
      "59\t15\n",
      "72\t22\n",
      "85\t29\n",
      "98\t36\n",
      "111\t43\n"
     ]
    }
   ],
   "source": [
    "s = int(input())\n",
    "e = int(input())\n",
    "w = int(input())\n",
    "while s<=e:\n",
    "    c = (s-32)* 5/9\n",
    "    print(str(s)+\"\\t\"+str(int(c)))\n",
    "    s+=w"
   ]
  }
 ],
 "metadata": {
  "kernelspec": {
   "display_name": "Python 3 (ipykernel)",
   "language": "python",
   "name": "python3"
  },
  "language_info": {
   "codemirror_mode": {
    "name": "ipython",
    "version": 3
   },
   "file_extension": ".py",
   "mimetype": "text/x-python",
   "name": "python",
   "nbconvert_exporter": "python",
   "pygments_lexer": "ipython3",
   "version": "3.10.6"
  }
 },
 "nbformat": 4,
 "nbformat_minor": 5
}
