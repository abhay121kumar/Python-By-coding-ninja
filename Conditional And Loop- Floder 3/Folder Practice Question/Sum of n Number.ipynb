{
 "cells": [
  {
   "cell_type": "markdown",
   "id": "f5c36c84",
   "metadata": {},
   "source": [
    "### Sum of n numbers\n",
    "Send Feedback\n",
    "Given an integer n, find and print the sum of numbers from 1 to n.\n",
    "Note : Use while loop only.\n",
    "Input Format :\n",
    "Integer n\n",
    "Output Format :\n",
    "Sum\n",
    "Constraints :\n",
    "1 <= n <= 100\n",
    "Sample Input :\n",
    "10\n",
    "Sample Output :\n",
    "55\n"
   ]
  },
  {
   "cell_type": "code",
   "execution_count": 4,
   "id": "4731ed11",
   "metadata": {},
   "outputs": [
    {
     "name": "stdout",
     "output_type": "stream",
     "text": [
      "10\n",
      "55\n"
     ]
    }
   ],
   "source": [
    "n = int(input())\n",
    "sum = 0\n",
    "while(n>0):\n",
    "    sum+=n\n",
    "    n-=1\n",
    "print(sum)"
   ]
  }
 ],
 "metadata": {
  "kernelspec": {
   "display_name": "Python 3 (ipykernel)",
   "language": "python",
   "name": "python3"
  },
  "language_info": {
   "codemirror_mode": {
    "name": "ipython",
    "version": 3
   },
   "file_extension": ".py",
   "mimetype": "text/x-python",
   "name": "python",
   "nbconvert_exporter": "python",
   "pygments_lexer": "ipython3",
   "version": "3.10.6"
  }
 },
 "nbformat": 4,
 "nbformat_minor": 5
}
