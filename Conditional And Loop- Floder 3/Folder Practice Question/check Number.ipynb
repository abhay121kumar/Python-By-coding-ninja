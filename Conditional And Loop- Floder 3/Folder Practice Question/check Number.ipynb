{
 "cells": [
  {
   "cell_type": "markdown",
   "id": "2bc5e0c4",
   "metadata": {},
   "source": [
    "### Check number\n",
    "Send Feedback\n",
    "Given an integer n, find if n is positive, negative or 0.\n",
    "If n is positive, print \"Positive\"\n",
    "If n is negative, print \"Negative\"\n",
    "And if n is equal to 0, print \"Zero\".\n",
    "Input Format :\n",
    "Integer n\n",
    "Output Format :\n",
    "\"Positive\" or \"Negative\" or \"Zero\" (without double quotes)\n",
    "Constraints :\n",
    "1 <= n <= 100\n",
    "Sample Input 1 :\n",
    "10\n",
    "Sample Output 1 :\n",
    "Positive\n",
    "Sample Input 2 :\n",
    "-10\n",
    "Sample Output 2 :\n",
    "Negative\n",
    "\n"
   ]
  },
  {
   "cell_type": "code",
   "execution_count": null,
   "id": "e0360229",
   "metadata": {},
   "outputs": [],
   "source": [
    "n = int(input())\n",
    "if(n==0):\n",
    "    print(\"n is Zero\")\n",
    "elif (n>0):\n",
    "    print(\"n is positive\")\n",
    "else:\n",
    "    print(\"n is negative\")"
   ]
  }
 ],
 "metadata": {
  "kernelspec": {
   "display_name": "Python 3 (ipykernel)",
   "language": "python",
   "name": "python3"
  },
  "language_info": {
   "codemirror_mode": {
    "name": "ipython",
    "version": 3
   },
   "file_extension": ".py",
   "mimetype": "text/x-python",
   "name": "python",
   "nbconvert_exporter": "python",
   "pygments_lexer": "ipython3",
   "version": "3.10.6"
  }
 },
 "nbformat": 4,
 "nbformat_minor": 5
}
