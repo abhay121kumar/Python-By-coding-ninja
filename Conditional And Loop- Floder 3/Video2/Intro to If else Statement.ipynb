{
 "cells": [
  {
   "cell_type": "markdown",
   "id": "f71c1269",
   "metadata": {},
   "source": [
    "### If Else"
   ]
  },
  {
   "cell_type": "code",
   "execution_count": 1,
   "id": "75b6c1db",
   "metadata": {},
   "outputs": [
    {
     "name": "stdout",
     "output_type": "stream",
     "text": [
      "i am inside if\n"
     ]
    }
   ],
   "source": [
    "a = True\n",
    "if a:\n",
    "    print(\"i am inside if\")\n",
    "else:\n",
    "    print(\"i am inside else\")"
   ]
  },
  {
   "cell_type": "markdown",
   "id": "04434764",
   "metadata": {},
   "source": [
    "### Identiation\n",
    "identiation indicate what block of code, a statement belongs to"
   ]
  },
  {
   "cell_type": "code",
   "execution_count": 3,
   "id": "a11e574e",
   "metadata": {},
   "outputs": [
    {
     "name": "stdout",
     "output_type": "stream",
     "text": [
      "i am inside else\n",
      "i am inside else\n"
     ]
    }
   ],
   "source": [
    "a = False\n",
    "if a:\n",
    "    print(\"i am inside if\")\n",
    "     #print(\"i am inside if\") #IndentationError: unexpected indent\n",
    "else:\n",
    "    print(\"i am inside else\")\n",
    "    print(\"i am inside else\")"
   ]
  },
  {
   "cell_type": "markdown",
   "id": "b09920ca",
   "metadata": {},
   "source": [
    "### Check number to be odd or even"
   ]
  },
  {
   "cell_type": "code",
   "execution_count": 6,
   "id": "cb976986",
   "metadata": {},
   "outputs": [
    {
     "name": "stdout",
     "output_type": "stream",
     "text": [
      "4\n",
      "n is even\n"
     ]
    }
   ],
   "source": [
    "# M-1\n",
    "n = int(input())\n",
    "r = n%2\n",
    "is_even = (r==0)\n",
    "if is_even:\n",
    "    print(\"n is even\")\n",
    "else:\n",
    "    print(\"n is odd\")"
   ]
  },
  {
   "cell_type": "code",
   "execution_count": 8,
   "id": "e7c6c4af",
   "metadata": {},
   "outputs": [
    {
     "name": "stdout",
     "output_type": "stream",
     "text": [
      "4\n",
      "n is even\n"
     ]
    }
   ],
   "source": [
    "# M-2\n",
    "n = int(input())\n",
    "is_even = (n%2==0)\n",
    "if is_even:\n",
    "    print(\"n is even\")\n",
    "else:\n",
    "    print(\"n is odd\")"
   ]
  },
  {
   "cell_type": "code",
   "execution_count": 10,
   "id": "e51b5e91",
   "metadata": {},
   "outputs": [
    {
     "name": "stdout",
     "output_type": "stream",
     "text": [
      "3\n",
      "n is odd\n"
     ]
    }
   ],
   "source": [
    "# M-3\n",
    "n = int(input())\n",
    "if n%2==0:\n",
    "    print(\"n is even\")\n",
    "else:\n",
    "    print(\"n is odd\")"
   ]
  }
 ],
 "metadata": {
  "kernelspec": {
   "display_name": "Python 3 (ipykernel)",
   "language": "python",
   "name": "python3"
  },
  "language_info": {
   "codemirror_mode": {
    "name": "ipython",
    "version": 3
   },
   "file_extension": ".py",
   "mimetype": "text/x-python",
   "name": "python",
   "nbconvert_exporter": "python",
   "pygments_lexer": "ipython3",
   "version": "3.10.6"
  }
 },
 "nbformat": 4,
 "nbformat_minor": 5
}
