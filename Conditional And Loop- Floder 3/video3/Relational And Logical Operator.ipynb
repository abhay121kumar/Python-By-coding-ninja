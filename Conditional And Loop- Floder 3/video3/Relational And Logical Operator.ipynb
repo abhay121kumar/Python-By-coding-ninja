{
 "cells": [
  {
   "cell_type": "markdown",
   "id": "5603c555",
   "metadata": {},
   "source": [
    "### Using Operator in If else"
   ]
  },
  {
   "cell_type": "code",
   "execution_count": 2,
   "id": "ec78bba9",
   "metadata": {},
   "outputs": [
    {
     "name": "stdout",
     "output_type": "stream",
     "text": [
      "11\n",
      "21\n",
      "both > 10\n"
     ]
    }
   ],
   "source": [
    "a = int(input())\n",
    "b = int(input())\n",
    "\n",
    "c1 = a > 10\n",
    "c2 = b > 10\n",
    "\n",
    "r = c1 and c2\n",
    "if r:\n",
    "    print(\"both > 10\")\n",
    "else:\n",
    "    print(\"no they are not\")"
   ]
  },
  {
   "cell_type": "code",
   "execution_count": 4,
   "id": "8743494f",
   "metadata": {},
   "outputs": [
    {
     "name": "stdout",
     "output_type": "stream",
     "text": [
      "3\n",
      "43\n",
      "no they are not\n"
     ]
    }
   ],
   "source": [
    "a = int(input())\n",
    "b = int(input())\n",
    "\n",
    "r = a > 10 and b > 10\n",
    "if r:\n",
    "    print(\"both > 10\")\n",
    "else:\n",
    "    print(\"no they are not\")"
   ]
  },
  {
   "cell_type": "code",
   "execution_count": 6,
   "id": "9227b0a8",
   "metadata": {},
   "outputs": [
    {
     "name": "stdout",
     "output_type": "stream",
     "text": [
      "33\n",
      "12\n",
      "both > 10\n"
     ]
    }
   ],
   "source": [
    "a = int(input())\n",
    "b = int(input())\n",
    "\n",
    "if a > 10 and b > 10:\n",
    "    print(\"both > 10\")\n",
    "else:\n",
    "    print(\"no they are not\")"
   ]
  },
  {
   "cell_type": "code",
   "execution_count": 7,
   "id": "2d1d1d49",
   "metadata": {},
   "outputs": [
    {
     "name": "stdout",
     "output_type": "stream",
     "text": [
      "7\n",
      "it is 7\n"
     ]
    }
   ],
   "source": [
    "a = int(input())\n",
    "if a==7:\n",
    "    print(\"it is 7\")\n",
    "else:\n",
    "    print(\"it is not 7\")"
   ]
  },
  {
   "cell_type": "code",
   "execution_count": 8,
   "id": "3c4a1bc1",
   "metadata": {},
   "outputs": [
    {
     "name": "stdout",
     "output_type": "stream",
     "text": [
      "5\n",
      "it is not 7\n"
     ]
    }
   ],
   "source": [
    "a = int(input())\n",
    "if a!=7:\n",
    "    print(\"it is not 7\")\n",
    "else:\n",
    "    print(\"it is  7\")"
   ]
  }
 ],
 "metadata": {
  "kernelspec": {
   "display_name": "Python 3 (ipykernel)",
   "language": "python",
   "name": "python3"
  },
  "language_info": {
   "codemirror_mode": {
    "name": "ipython",
    "version": 3
   },
   "file_extension": ".py",
   "mimetype": "text/x-python",
   "name": "python",
   "nbconvert_exporter": "python",
   "pygments_lexer": "ipython3",
   "version": "3.10.6"
  }
 },
 "nbformat": 4,
 "nbformat_minor": 5
}
