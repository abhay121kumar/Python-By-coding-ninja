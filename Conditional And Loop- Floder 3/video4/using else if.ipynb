{
 "cells": [
  {
   "cell_type": "markdown",
   "id": "2a39d3db",
   "metadata": {},
   "source": [
    "## elif"
   ]
  },
  {
   "cell_type": "code",
   "execution_count": 3,
   "id": "c6495703",
   "metadata": {},
   "outputs": [
    {
     "name": "stdout",
     "output_type": "stream",
     "text": [
      "3\n",
      "3\n",
      "1\n",
      "3\n"
     ]
    }
   ],
   "source": [
    "a = int(input())\n",
    "b = int(input())\n",
    "c = int(input())\n",
    "\n",
    "if a>=b and a>=c:\n",
    "    print(a)\n",
    "elif b>=a and b>=c:\n",
    "    print(b)\n",
    "else:\n",
    "    print(c)"
   ]
  },
  {
   "cell_type": "code",
   "execution_count": 11,
   "id": "4e434b6b",
   "metadata": {},
   "outputs": [
    {
     "name": "stdout",
     "output_type": "stream",
     "text": [
      "4\n",
      "yellow\n"
     ]
    }
   ],
   "source": [
    "n = int(input())\n",
    "if n>10:\n",
    "    print(\"red\")\n",
    "elif n>=5 and n<=10:\n",
    "    print(\"green\")\n",
    "elif n>0 and n<5:\n",
    "    print(\"yellow\")"
   ]
  },
  {
   "cell_type": "code",
   "execution_count": 15,
   "id": "16389760",
   "metadata": {},
   "outputs": [
    {
     "name": "stdout",
     "output_type": "stream",
     "text": [
      "-2\n"
     ]
    }
   ],
   "source": [
    "n = int(input())\n",
    "if n>10:\n",
    "    print(\"red\")\n",
    "elif n>=5:\n",
    "    print(\"green\")\n",
    "elif n>0:\n",
    "    print(\"yellow\")"
   ]
  },
  {
   "cell_type": "code",
   "execution_count": null,
   "id": "1d6ecec5",
   "metadata": {},
   "outputs": [],
   "source": []
  }
 ],
 "metadata": {
  "kernelspec": {
   "display_name": "Python 3 (ipykernel)",
   "language": "python",
   "name": "python3"
  },
  "language_info": {
   "codemirror_mode": {
    "name": "ipython",
    "version": 3
   },
   "file_extension": ".py",
   "mimetype": "text/x-python",
   "name": "python",
   "nbconvert_exporter": "python",
   "pygments_lexer": "ipython3",
   "version": "3.10.6"
  }
 },
 "nbformat": 4,
 "nbformat_minor": 5
}
