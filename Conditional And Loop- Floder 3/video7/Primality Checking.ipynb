{
 "cells": [
  {
   "cell_type": "markdown",
   "id": "21c19191",
   "metadata": {},
   "source": [
    "### check Prime"
   ]
  },
  {
   "cell_type": "code",
   "execution_count": 13,
   "id": "be1b2d8f",
   "metadata": {},
   "outputs": [
    {
     "name": "stdout",
     "output_type": "stream",
     "text": [
      "10\n",
      "n is not prime\n"
     ]
    }
   ],
   "source": [
    "n = int(input())\n",
    "d = 2\n",
    "flag = False\n",
    "\n",
    "while d<n:\n",
    "    if (n%d == 0):\n",
    "        flag = True\n",
    "    d+=1\n",
    "    \n",
    "if flag:\n",
    "    print(\"n is not prime\")\n",
    "else:\n",
    "    print(\"n is prime\")"
   ]
  }
 ],
 "metadata": {
  "kernelspec": {
   "display_name": "Python 3 (ipykernel)",
   "language": "python",
   "name": "python3"
  },
  "language_info": {
   "codemirror_mode": {
    "name": "ipython",
    "version": 3
   },
   "file_extension": ".py",
   "mimetype": "text/x-python",
   "name": "python",
   "nbconvert_exporter": "python",
   "pygments_lexer": "ipython3",
   "version": "3.10.6"
  }
 },
 "nbformat": 4,
 "nbformat_minor": 5
}
