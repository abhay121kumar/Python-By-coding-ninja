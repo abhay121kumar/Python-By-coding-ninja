{
 "cells": [
  {
   "cell_type": "code",
   "execution_count": 2,
   "id": "b9803b15",
   "metadata": {},
   "outputs": [
    {
     "ename": "ModuleNotFoundError",
     "evalue": "No module named 'numpy'",
     "output_type": "error",
     "traceback": [
      "\u001b[0;31m---------------------------------------------------------------------------\u001b[0m",
      "\u001b[0;31mModuleNotFoundError\u001b[0m                       Traceback (most recent call last)",
      "Cell \u001b[0;32mIn[2], line 1\u001b[0m\n\u001b[0;32m----> 1\u001b[0m \u001b[38;5;28;01mimport\u001b[39;00m \u001b[38;5;21;01mnumpy\u001b[39;00m \u001b[38;5;28;01mas\u001b[39;00m \u001b[38;5;21;01mnp\u001b[39;00m\n",
      "\u001b[0;31mModuleNotFoundError\u001b[0m: No module named 'numpy'"
     ]
    }
   ],
   "source": [
    "import numpy as np"
   ]
  },
  {
   "cell_type": "code",
   "execution_count": null,
   "id": "e7c444fd",
   "metadata": {},
   "outputs": [],
   "source": [
    "import numpy as np\n",
    "import matplotlib.pyplot as plt\n",
    "from skimage import feature, color\n",
    "from skimage.transform import resize\n",
    "from sklearn.datasets import load_sample_image\n",
    "\n",
    "def load_custom_dataset():\n",
    "     \n",
    "    image_filenames = ['/content/1.jpg']\n",
    "    labels = [0, 1]   \n",
    "    images = [plt.imread(filename) for filename in image_filenames]\n",
    "    return np.array(images), np.array(labels)\n",
    "\n",
    "image_dataset, labels = load_custom_dataset()\n",
    "\n",
    "# Adjust the target size for resizing the images based on your dataset requirements\n",
    "target_size = (64, 64)\n",
    "image_dataset_resized = [resize(image, target_size) for image in image_dataset] \n",
    "\n",
    "# Convert the images to grayscale for some feature extraction methods\n",
    "image_dataset_gray = [color.rgb2gray(image) for image in image_dataset_resized]\n",
    "\n",
    "# Step 1: Histogram of Oriented Gradients (HOG) feature extraction\n",
    "def extract_hog_features(image):\n",
    "    hog_features, hog_image = feature.hog(image, visualize=True)\n",
    "    return hog_features\n",
    "\n",
    "hog_features_dataset = np.array([extract_hog_features(image) for image in image_dataset_gray])\n",
    "\n",
    "# Step 2: Local Binary Pattern (LBP) feature extraction\n",
    "def extract_lbp_features(image):\n",
    "    lbp_features = feature.local_binary_pattern(image, P=8, R=1, method='uniform')\n",
    "    histogram, _ = np.histogram(lbp_features.ravel(), bins=np.arange(0, 10), range=(0, 9))\n",
    "    return histogram\n",
    "\n",
    "lbp_features_dataset = np.array([extract_lbp_features(image) for image in image_dataset_gray])\n",
    "\n",
    "# Step 3: Color Histogram feature extraction (for color images)\n",
    "def extract_color_histogram(image):\n",
    "    color_hist, _ = np.histogram(image, bins=8, range=(0, 1))\n",
    "    return color_hist\n",
    "\n",
    "color_histogram_features_dataset = np.array([extract_color_histogram(image) for image in image_dataset_resized])\n",
    "\n",
    "# Display some example images and their features\n",
    "sample_indices = [0, 10, 20]\n",
    "fig, axes = plt.subplots(len(sample_indices), 4, figsize=(12, 6))\n",
    "\n",
    "for i, idx in enumerate(sample_indices):\n",
    "    axes[i, 0].imshow(image_dataset[idx])\n",
    "    axes[i, 0].axis('off')\n",
    "    axes[i, 0].set_title('Original')\n",
    "\n",
    "    axes[i, 1].imshow(image_dataset_gray[idx], cmap='gray')\n",
    "    axes[i, 1].axis('off')\n",
    "    axes[i, 1].set_title('Grayscale')\n",
    "\n",
    "    axes[i, 2].plot(hog_features_dataset[idx])\n",
    "    axes[i, 2].set_title('HOG Features')\n",
    "    axes[i, 2].set_ylim(0, 1)\n",
    "\n",
    "    if len(image_dataset[idx].shape) == 3:  # Color image\n",
    "        axes[i, 3].bar(range(8), color_histogram_features_dataset[idx])\n",
    "        axes[i, 3].set_title('Color Histogram')\n",
    "    else:  # Grayscale image\n",
    "        axes[i, 3].plot(lbp_features_dataset[idx])\n",
    "        axes[i, 3].set_title('LBP Features')\n",
    "        axes[i, 3].set_ylim(0, 8)\n",
    "\n",
    "plt.tight_layout()\n",
    "plt.show()"
   ]
  }
 ],
 "metadata": {
  "kernelspec": {
   "display_name": "Python 3 (ipykernel)",
   "language": "python",
   "name": "python3"
  },
  "language_info": {
   "codemirror_mode": {
    "name": "ipython",
    "version": 3
   },
   "file_extension": ".py",
   "mimetype": "text/x-python",
   "name": "python",
   "nbconvert_exporter": "python",
   "pygments_lexer": "ipython3",
   "version": "3.10.12"
  }
 },
 "nbformat": 4,
 "nbformat_minor": 5
}
