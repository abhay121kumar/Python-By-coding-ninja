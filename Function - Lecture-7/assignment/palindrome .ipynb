{
 "cells": [
  {
   "cell_type": "code",
   "execution_count": null,
   "id": "4a7245e8",
   "metadata": {},
   "outputs": [],
   "source": [
    "Palindrome number\n",
    "Send Feedback\n",
    "Write a program to determine if given number is palindrome or not. Print true if it is palindrome, false otherwise.\n",
    "Palindrome are the numbers for which reverse is exactly same as the original one. For eg. 121\n",
    "Sample Input 1 :\n",
    "121\n",
    "Sample Output 1 :\n",
    "true\n",
    "Sample Input 2 :\n",
    "1032\n",
    "Sample Output 2 :\n",
    "false\n"
   ]
  },
  {
   "cell_type": "code",
   "execution_count": null,
   "id": "92642122",
   "metadata": {},
   "outputs": [],
   "source": [
    "def isPalindrome(n):\n",
    "    i=1"
   ]
  }
 ],
 "metadata": {
  "kernelspec": {
   "display_name": "Python 3 (ipykernel)",
   "language": "python",
   "name": "python3"
  },
  "language_info": {
   "codemirror_mode": {
    "name": "ipython",
    "version": 3
   },
   "file_extension": ".py",
   "mimetype": "text/x-python",
   "name": "python",
   "nbconvert_exporter": "python",
   "pygments_lexer": "ipython3",
   "version": "3.10.12"
  }
 },
 "nbformat": 4,
 "nbformat_minor": 5
}
