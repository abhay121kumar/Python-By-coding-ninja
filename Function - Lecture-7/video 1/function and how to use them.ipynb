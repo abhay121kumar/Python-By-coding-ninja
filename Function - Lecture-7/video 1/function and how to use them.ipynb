{
 "cells": [
  {
   "cell_type": "markdown",
   "id": "716e4fdd",
   "metadata": {},
   "source": [
    "### factorial"
   ]
  },
  {
   "cell_type": "code",
   "execution_count": 1,
   "id": "7211c3cb",
   "metadata": {},
   "outputs": [
    {
     "name": "stdout",
     "output_type": "stream",
     "text": [
      "4\n",
      "2\n",
      "6\n"
     ]
    }
   ],
   "source": [
    "n = int(input())\n",
    "r = int(input())\n",
    "sum1 = 1\n",
    "for i in range(1,n+1):\n",
    "    sum1 = sum1 * i\n",
    "sum2 = 1\n",
    "for i in range(1,r+1):\n",
    "    sum2 = sum2 * i\n",
    "sum3 = 1\n",
    "for i in range(1,n-r+1):\n",
    "    sum3 = sum3 * i\n",
    "ans = sum1//(sum2*sum3)\n",
    "print(ans)"
   ]
  },
  {
   "cell_type": "markdown",
   "id": "39decc6a",
   "metadata": {},
   "source": [
    "### Now using Function"
   ]
  },
  {
   "cell_type": "code",
   "execution_count": 3,
   "id": "f27b7f0b",
   "metadata": {},
   "outputs": [],
   "source": [
    "def fact(a):\n",
    "    sum = 1\n",
    "    for i in range(1,a+1):\n",
    "        sum = sum*i\n",
    "    return sum"
   ]
  },
  {
   "cell_type": "code",
   "execution_count": 4,
   "id": "963b2e70",
   "metadata": {},
   "outputs": [
    {
     "name": "stdout",
     "output_type": "stream",
     "text": [
      "4\n",
      "2\n",
      "6\n"
     ]
    }
   ],
   "source": [
    "n = int(input())\n",
    "r = int(input())\n",
    "sum1 = fact(n)\n",
    "sum2 = fact(r)\n",
    "sum3 = fact(n-r)\n",
    "ans = sum1//(sum2*sum3)\n",
    "print(ans)"
   ]
  }
 ],
 "metadata": {
  "kernelspec": {
   "display_name": "Python 3 (ipykernel)",
   "language": "python",
   "name": "python3"
  },
  "language_info": {
   "codemirror_mode": {
    "name": "ipython",
    "version": 3
   },
   "file_extension": ".py",
   "mimetype": "text/x-python",
   "name": "python",
   "nbconvert_exporter": "python",
   "pygments_lexer": "ipython3",
   "version": "3.10.6"
  }
 },
 "nbformat": 4,
 "nbformat_minor": 5
}
