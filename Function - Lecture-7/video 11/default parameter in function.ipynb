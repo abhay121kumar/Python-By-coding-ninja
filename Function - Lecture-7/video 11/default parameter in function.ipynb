{
 "cells": [
  {
   "cell_type": "code",
   "execution_count": 3,
   "id": "be2f4d81",
   "metadata": {},
   "outputs": [
    {
     "name": "stdout",
     "output_type": "stream",
     "text": [
      "2\n"
     ]
    }
   ],
   "source": [
    "def f(n):\n",
    "    print(n)\n",
    "    \n",
    "#f() #error->f() missing 1 required positional argument: 'n'\n",
    "#f(1,2) # error-> f() takes 1 positional argument but 2 were given\n",
    "f(2)"
   ]
  },
  {
   "cell_type": "code",
   "execution_count": 6,
   "id": "bf7cc3c8",
   "metadata": {},
   "outputs": [
    {
     "name": "stdout",
     "output_type": "stream",
     "text": [
      "3\n",
      "6\n",
      "0\n",
      "3\n"
     ]
    }
   ],
   "source": [
    "def sum(a,b,c=0):\n",
    "    print(c)\n",
    "    return a+b+c\n",
    "\n",
    "print(sum(1,2,3))\n",
    "print(sum(1,2))"
   ]
  },
  {
   "cell_type": "code",
   "execution_count": 7,
   "id": "40031f16",
   "metadata": {},
   "outputs": [
    {
     "ename": "SyntaxError",
     "evalue": "non-default argument follows default argument (3974109351.py, line 1)",
     "output_type": "error",
     "traceback": [
      "\u001b[0;36m  Cell \u001b[0;32mIn[7], line 1\u001b[0;36m\u001b[0m\n\u001b[0;31m    def f(a=0,b,c):\u001b[0m\n\u001b[0m              ^\u001b[0m\n\u001b[0;31mSyntaxError\u001b[0m\u001b[0;31m:\u001b[0m non-default argument follows default argument\n"
     ]
    }
   ],
   "source": [
    "#all non default arguments should be before argumnets with default values\n",
    "def f(a=0,b,c):\n",
    "    return a+b+c\n",
    "\n",
    "print(1,2) #  "
   ]
  },
  {
   "cell_type": "code",
   "execution_count": 11,
   "id": "ad85fa90",
   "metadata": {},
   "outputs": [
    {
     "name": "stdout",
     "output_type": "stream",
     "text": [
      "14\n",
      "7\n",
      "10\n",
      "\n",
      "12\n",
      "13\n"
     ]
    }
   ],
   "source": [
    "def f1(a,b,c=2,d=0):\n",
    "    return a+b+c+d\n",
    "\n",
    "print(f1(2,3,4,5))\n",
    "print(f1(2,3))\n",
    "print(f1(2,3,5))\n",
    "print()\n",
    "print(f1(2,5,d=3))\n",
    "print(f1(d=3,c=4,b=1,a=5))"
   ]
  }
 ],
 "metadata": {
  "kernelspec": {
   "display_name": "Python 3 (ipykernel)",
   "language": "python",
   "name": "python3"
  },
  "language_info": {
   "codemirror_mode": {
    "name": "ipython",
    "version": 3
   },
   "file_extension": ".py",
   "mimetype": "text/x-python",
   "name": "python",
   "nbconvert_exporter": "python",
   "pygments_lexer": "ipython3",
   "version": "3.10.6"
  }
 },
 "nbformat": 4,
 "nbformat_minor": 5
}
