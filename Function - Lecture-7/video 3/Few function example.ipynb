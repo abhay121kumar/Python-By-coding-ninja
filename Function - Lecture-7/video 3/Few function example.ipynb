{
 "cells": [
  {
   "cell_type": "code",
   "execution_count": 1,
   "id": "24ba04ec",
   "metadata": {},
   "outputs": [],
   "source": [
    "def is_Prime(n):\n",
    "    for d in range(2,n):\n",
    "        if n%d==0:\n",
    "            break\n",
    "    else:\n",
    "        return True\n",
    "        \n",
    "    return False"
   ]
  },
  {
   "cell_type": "code",
   "execution_count": 12,
   "id": "70a9fe7c",
   "metadata": {},
   "outputs": [
    {
     "name": "stdout",
     "output_type": "stream",
     "text": [
      "False\n"
     ]
    }
   ],
   "source": [
    "ans = is_Prime(32)\n",
    "print(ans)"
   ]
  },
  {
   "cell_type": "code",
   "execution_count": 2,
   "id": "06605791",
   "metadata": {},
   "outputs": [],
   "source": [
    "def primtfrom2ton(n):\n",
    "    for k in range(2,n+1):\n",
    "        #check if k is prime if k is prime then print k\n",
    "        is_k_prime = is_Prime(k)\n",
    "        if(is_k_prime):\n",
    "            print(k)"
   ]
  },
  {
   "cell_type": "code",
   "execution_count": 6,
   "id": "de73b51e",
   "metadata": {},
   "outputs": [
    {
     "name": "stdout",
     "output_type": "stream",
     "text": [
      "2\n",
      "3\n",
      "5\n",
      "7\n"
     ]
    }
   ],
   "source": [
    "primtfrom2ton(10)"
   ]
  },
  {
   "cell_type": "code",
   "execution_count": 13,
   "id": "697ccd20",
   "metadata": {},
   "outputs": [],
   "source": [
    "def fact(a):\n",
    "    ans = 1\n",
    "    for i in range(1,a+1):\n",
    "        ans = ans*i\n",
    "    return ans"
   ]
  },
  {
   "cell_type": "code",
   "execution_count": 17,
   "id": "823da9a2",
   "metadata": {},
   "outputs": [],
   "source": [
    "def ncr(n , r):\n",
    "    ans1 = fact(n)\n",
    "    ans2 = fact(r)\n",
    "    ans3 = fact(n-r)\n",
    "    ans = ans1//(ans2*ans3)\n",
    "    return ans"
   ]
  },
  {
   "cell_type": "code",
   "execution_count": 18,
   "id": "4f74637a",
   "metadata": {},
   "outputs": [
    {
     "data": {
      "text/plain": [
       "10"
      ]
     },
     "execution_count": 18,
     "metadata": {},
     "output_type": "execute_result"
    }
   ],
   "source": [
    "ncr(5, 2)"
   ]
  }
 ],
 "metadata": {
  "kernelspec": {
   "display_name": "Python 3 (ipykernel)",
   "language": "python",
   "name": "python3"
  },
  "language_info": {
   "codemirror_mode": {
    "name": "ipython",
    "version": 3
   },
   "file_extension": ".py",
   "mimetype": "text/x-python",
   "name": "python",
   "nbconvert_exporter": "python",
   "pygments_lexer": "ipython3",
   "version": "3.10.6"
  }
 },
 "nbformat": 4,
 "nbformat_minor": 5
}
