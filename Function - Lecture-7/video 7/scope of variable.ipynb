{
 "cells": [
  {
   "cell_type": "code",
   "execution_count": 2,
   "id": "880ac936",
   "metadata": {},
   "outputs": [
    {
     "name": "stdout",
     "output_type": "stream",
     "text": [
      "10\n",
      "12\n",
      "10\n"
     ]
    }
   ],
   "source": [
    "a1 = 10 #global variable\n",
    "def fun():\n",
    "    b1 = 12#local variable\n",
    "    print(b1)\n",
    "    print(a1)\n",
    "\n",
    "print(a1)\n",
    "fun()\n",
    "#print(b1) # error- outside the function we can not access the local variable"
   ]
  },
  {
   "cell_type": "code",
   "execution_count": 3,
   "id": "ad2508cb",
   "metadata": {},
   "outputs": [
    {
     "name": "stdout",
     "output_type": "stream",
     "text": [
      "10\n",
      "12\n",
      "10\n"
     ]
    }
   ],
   "source": [
    "\n",
    "def fun():\n",
    "    b1 = 12#local variable\n",
    "    print(b1)\n",
    "    print(a1)\n",
    "\n",
    "a1 = 10 #global variable\n",
    "print(a1)\n",
    "fun()"
   ]
  },
  {
   "cell_type": "code",
   "execution_count": 5,
   "id": "18bca9c3",
   "metadata": {},
   "outputs": [
    {
     "name": "stdout",
     "output_type": "stream",
     "text": [
      "10\n",
      "12\n",
      "10\n"
     ]
    }
   ],
   "source": [
    "a1 = 10 #global variable\n",
    "def fun1():\n",
    "    b1 = 12#local variable\n",
    "    print(b1)\n",
    "    print(a1)\n",
    "   # print(c1)# error-> you can access the global variable defined before the function call\n",
    "\n",
    "print(a1)\n",
    "fun1()\n",
    "c1 = 12 "
   ]
  },
  {
   "cell_type": "code",
   "execution_count": 6,
   "id": "f3028340",
   "metadata": {},
   "outputs": [
    {
     "name": "stdout",
     "output_type": "stream",
     "text": [
      "12\n",
      "10\n",
      "12\n"
     ]
    }
   ],
   "source": [
    "a4 = 12\n",
    "def f():\n",
    "    a4=10\n",
    "    print(a4)\n",
    "print(a4)\n",
    "f()\n",
    "print(a4)"
   ]
  },
  {
   "cell_type": "code",
   "execution_count": 7,
   "id": "977bdf57",
   "metadata": {},
   "outputs": [
    {
     "name": "stdout",
     "output_type": "stream",
     "text": [
      "12\n",
      "10\n",
      "10\n"
     ]
    }
   ],
   "source": [
    "a4 = 12\n",
    "def f():\n",
    "    global a4\n",
    "    a4=10\n",
    "    print(a4)\n",
    "print(a4)\n",
    "f()\n",
    "print(a4)"
   ]
  },
  {
   "cell_type": "code",
   "execution_count": 9,
   "id": "fed704eb",
   "metadata": {},
   "outputs": [
    {
     "name": "stdout",
     "output_type": "stream",
     "text": [
      "12\n",
      "12\n",
      "10\n"
     ]
    }
   ],
   "source": [
    "a4 = 12\n",
    "def f():\n",
    "    a4=10\n",
    "    return a4\n",
    "\n",
    "print(a4)\n",
    "x = f()\n",
    "print(a4)\n",
    "print(x)"
   ]
  }
 ],
 "metadata": {
  "kernelspec": {
   "display_name": "Python 3 (ipykernel)",
   "language": "python",
   "name": "python3"
  },
  "language_info": {
   "codemirror_mode": {
    "name": "ipython",
    "version": 3
   },
   "file_extension": ".py",
   "mimetype": "text/x-python",
   "name": "python",
   "nbconvert_exporter": "python",
   "pygments_lexer": "ipython3",
   "version": "3.10.6"
  }
 },
 "nbformat": 4,
 "nbformat_minor": 5
}
