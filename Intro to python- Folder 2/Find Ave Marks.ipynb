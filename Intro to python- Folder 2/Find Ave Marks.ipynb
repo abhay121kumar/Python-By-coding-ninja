{
 "cells": [
  {
   "cell_type": "markdown",
   "id": "555e0c1c",
   "metadata": {},
   "source": [
    "Find average Marks\n",
    "Send Feedback\n",
    "Write a program to input marks of three tests of a student (all integers). Then calculate and print the average of all test marks.\n",
    "Input format :\n",
    "3 Test marks (in different lines)\n",
    "Output format :\n",
    "Average \n",
    "Sample Input 1 :\n",
    "3 \n",
    "4 \n",
    "6\n",
    "Sample Output 1 :\n",
    "4.333333333333333\n",
    "Sample Input 2 :\n",
    "5 \n",
    "10 \n",
    "5\n",
    "Sample Output 2 :\n",
    "6.666666666666667\n"
   ]
  },
  {
   "cell_type": "code",
   "execution_count": 5,
   "id": "f50a0c04",
   "metadata": {},
   "outputs": [
    {
     "name": "stdout",
     "output_type": "stream",
     "text": [
      "5\n",
      "10\n",
      "5\n",
      "3\n",
      "6.666666666666667\n"
     ]
    }
   ],
   "source": [
    "a = int(input())\n",
    "b = int(input())\n",
    "c = int(input())\n",
    "count = int(input())\n",
    "avg = (a+b+c)/count\n",
    "print(avg)"
   ]
  }
 ],
 "metadata": {
  "kernelspec": {
   "display_name": "Python 3 (ipykernel)",
   "language": "python",
   "name": "python3"
  },
  "language_info": {
   "codemirror_mode": {
    "name": "ipython",
    "version": 3
   },
   "file_extension": ".py",
   "mimetype": "text/x-python",
   "name": "python",
   "nbconvert_exporter": "python",
   "pygments_lexer": "ipython3",
   "version": "3.10.6"
  }
 },
 "nbformat": 4,
 "nbformat_minor": 5
}
