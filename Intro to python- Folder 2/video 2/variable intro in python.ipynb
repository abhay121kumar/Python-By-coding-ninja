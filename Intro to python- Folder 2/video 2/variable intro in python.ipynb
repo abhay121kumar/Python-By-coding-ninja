{
 "cells": [
  {
   "cell_type": "markdown",
   "id": "cce3f107",
   "metadata": {},
   "source": [
    "# variable"
   ]
  },
  {
   "cell_type": "code",
   "execution_count": 2,
   "id": "842280fa",
   "metadata": {},
   "outputs": [
    {
     "name": "stdout",
     "output_type": "stream",
     "text": [
      "30\n",
      "30\n",
      "sum\n"
     ]
    }
   ],
   "source": [
    "a=10\n",
    "b=20\n",
    "print(a+b)\n",
    "sum = a+b\n",
    "print(sum)\n",
    "print('sum')"
   ]
  },
  {
   "cell_type": "markdown",
   "id": "eae77f0b",
   "metadata": {},
   "source": [
    "### variable allowed in pyhton\n",
    "--> starting with lowerCase,Uppercase and _(underScore)"
   ]
  },
  {
   "cell_type": "code",
   "execution_count": 3,
   "id": "63353c03",
   "metadata": {},
   "outputs": [],
   "source": [
    "a = 10\n",
    "aB123 = 20\n",
    "BCDad12 = 40\n",
    "_sgv23 = 30\n",
    "_224kf = 30"
   ]
  },
  {
   "cell_type": "markdown",
   "id": "1285cef3",
   "metadata": {},
   "source": [
    "### variable not allowed in python\n",
    "-->starting whith number and special case symbol"
   ]
  },
  {
   "cell_type": "code",
   "execution_count": 4,
   "id": "56381cc1",
   "metadata": {},
   "outputs": [
    {
     "ename": "SyntaxError",
     "evalue": "invalid decimal literal (2464523628.py, line 1)",
     "output_type": "error",
     "traceback": [
      "\u001b[0;36m  Cell \u001b[0;32mIn[4], line 1\u001b[0;36m\u001b[0m\n\u001b[0;31m    12Ab = 10\u001b[0m\n\u001b[0m     ^\u001b[0m\n\u001b[0;31mSyntaxError\u001b[0m\u001b[0;31m:\u001b[0m invalid decimal literal\n"
     ]
    }
   ],
   "source": [
    "12Ab = 10\n",
    "1ab = 30\n",
    "43_ve = 50"
   ]
  }
 ],
 "metadata": {
  "kernelspec": {
   "display_name": "Python 3 (ipykernel)",
   "language": "python",
   "name": "python3"
  },
  "language_info": {
   "codemirror_mode": {
    "name": "ipython",
    "version": 3
   },
   "file_extension": ".py",
   "mimetype": "text/x-python",
   "name": "python",
   "nbconvert_exporter": "python",
   "pygments_lexer": "ipython3",
   "version": "3.10.6"
  }
 },
 "nbformat": 4,
 "nbformat_minor": 5
}
