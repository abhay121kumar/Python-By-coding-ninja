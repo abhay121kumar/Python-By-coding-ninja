{
 "cells": [
  {
   "cell_type": "code",
   "execution_count": null,
   "id": "0bb2fbac",
   "metadata": {},
   "outputs": [],
   "source": [
    "# comment command use #"
   ]
  },
  {
   "cell_type": "markdown",
   "id": "e164c070",
   "metadata": {},
   "source": [
    "### data type"
   ]
  },
  {
   "cell_type": "code",
   "execution_count": 1,
   "id": "95b091c4",
   "metadata": {},
   "outputs": [
    {
     "name": "stdout",
     "output_type": "stream",
     "text": [
      "abcdf\n"
     ]
    }
   ],
   "source": [
    "#1a=10\n",
    "a=10\n",
    "a='a'\n",
    "a=\"abcdf\"\n",
    "print(a)"
   ]
  },
  {
   "cell_type": "code",
   "execution_count": 2,
   "id": "bc8ad937",
   "metadata": {},
   "outputs": [
    {
     "name": "stdout",
     "output_type": "stream",
     "text": [
      "<class 'int'>\n",
      "<class 'str'>\n"
     ]
    }
   ],
   "source": [
    "b=10\n",
    "print(type(b))\n",
    "b=\"abcdv\"\n",
    "print(type(b))"
   ]
  }
 ],
 "metadata": {
  "kernelspec": {
   "display_name": "Python 3 (ipykernel)",
   "language": "python",
   "name": "python3"
  },
  "language_info": {
   "codemirror_mode": {
    "name": "ipython",
    "version": 3
   },
   "file_extension": ".py",
   "mimetype": "text/x-python",
   "name": "python",
   "nbconvert_exporter": "python",
   "pygments_lexer": "ipython3",
   "version": "3.10.6"
  }
 },
 "nbformat": 4,
 "nbformat_minor": 5
}
