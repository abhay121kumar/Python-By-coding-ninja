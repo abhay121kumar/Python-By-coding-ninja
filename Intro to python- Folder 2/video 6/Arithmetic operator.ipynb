{
 "cells": [
  {
   "cell_type": "markdown",
   "id": "c6a08753",
   "metadata": {},
   "source": [
    "## Arithmetic Operator\n",
    "+, -, *, / , %, //, **"
   ]
  },
  {
   "cell_type": "code",
   "execution_count": 2,
   "id": "f524af15",
   "metadata": {},
   "outputs": [
    {
     "name": "stdout",
     "output_type": "stream",
     "text": [
      "30\n",
      "-10\n",
      "0.5\n",
      "0\n",
      "200\n",
      "100000000000000000000\n"
     ]
    }
   ],
   "source": [
    "a=10\n",
    "b=20\n",
    "print(a+b) #add\n",
    "print(a-b) #subtract\n",
    "print(a/b) #floating point division\n",
    "print(a//b)#integer point division\n",
    "print(a*b) #Multiply\n",
    "print(a**b)#exponential"
   ]
  },
  {
   "cell_type": "code",
   "execution_count": 3,
   "id": "deb3a842",
   "metadata": {},
   "outputs": [
    {
     "data": {
      "text/plain": [
       "12"
      ]
     },
     "execution_count": 3,
     "metadata": {},
     "output_type": "execute_result"
    }
   ],
   "source": [
    "2*4+4"
   ]
  },
  {
   "cell_type": "code",
   "execution_count": 4,
   "id": "b7e0b446",
   "metadata": {},
   "outputs": [
    {
     "data": {
      "text/plain": [
       "1.5"
      ]
     },
     "execution_count": 4,
     "metadata": {},
     "output_type": "execute_result"
    }
   ],
   "source": [
    "2*3/4"
   ]
  },
  {
   "cell_type": "code",
   "execution_count": 5,
   "id": "4c4d821b",
   "metadata": {},
   "outputs": [
    {
     "data": {
      "text/plain": [
       "1"
      ]
     },
     "execution_count": 5,
     "metadata": {},
     "output_type": "execute_result"
    }
   ],
   "source": [
    "2*3//4"
   ]
  },
  {
   "cell_type": "markdown",
   "id": "c20407f2",
   "metadata": {},
   "source": [
    "### simple interest"
   ]
  },
  {
   "cell_type": "code",
   "execution_count": 6,
   "id": "49eb2049",
   "metadata": {},
   "outputs": [
    {
     "data": {
      "text/plain": [
       "24"
      ]
     },
     "execution_count": 6,
     "metadata": {},
     "output_type": "execute_result"
    }
   ],
   "source": [
    "p=100\n",
    "r=12\n",
    "t=2\n",
    "#si = p*r*t//100\n",
    "#si = t//100 * r * p\n",
    "si = (p*r*t)//100\n",
    "si"
   ]
  },
  {
   "cell_type": "markdown",
   "id": "24c98f6e",
   "metadata": {},
   "source": [
    "### Far to celcius consersion"
   ]
  },
  {
   "cell_type": "code",
   "execution_count": null,
   "id": "316ea4db",
   "metadata": {},
   "outputs": [],
   "source": []
  }
 ],
 "metadata": {
  "kernelspec": {
   "display_name": "Python 3 (ipykernel)",
   "language": "python",
   "name": "python3"
  },
  "language_info": {
   "codemirror_mode": {
    "name": "ipython",
    "version": 3
   },
   "file_extension": ".py",
   "mimetype": "text/x-python",
   "name": "python",
   "nbconvert_exporter": "python",
   "pygments_lexer": "ipython3",
   "version": "3.10.6"
  }
 },
 "nbformat": 4,
 "nbformat_minor": 5
}
