{
 "cells": [
  {
   "cell_type": "markdown",
   "id": "7c71d099",
   "metadata": {},
   "source": [
    "### Input"
   ]
  },
  {
   "cell_type": "code",
   "execution_count": 3,
   "id": "71c7ffb9",
   "metadata": {},
   "outputs": [
    {
     "name": "stdout",
     "output_type": "stream",
     "text": [
      "5\n"
     ]
    },
    {
     "data": {
      "text/plain": [
       "'5'"
      ]
     },
     "execution_count": 3,
     "metadata": {},
     "output_type": "execute_result"
    }
   ],
   "source": [
    "a=input()\n",
    "a"
   ]
  },
  {
   "cell_type": "code",
   "execution_count": 2,
   "id": "541c0919",
   "metadata": {},
   "outputs": [
    {
     "name": "stdout",
     "output_type": "stream",
     "text": [
      "2\n",
      "3\n"
     ]
    },
    {
     "data": {
      "text/plain": [
       "'23'"
      ]
     },
     "execution_count": 2,
     "metadata": {},
     "output_type": "execute_result"
    }
   ],
   "source": [
    "# adding two number\n",
    "a = input()\n",
    "b = input()\n",
    "s = a + b\n",
    "s"
   ]
  },
  {
   "cell_type": "markdown",
   "id": "c74164b0",
   "metadata": {},
   "source": [
    "### so by defaut input() function returning string"
   ]
  },
  {
   "cell_type": "code",
   "execution_count": 6,
   "id": "6c8c076b",
   "metadata": {},
   "outputs": [
    {
     "name": "stdout",
     "output_type": "stream",
     "text": [
      "4\n",
      "<class 'str'>\n",
      "7\n",
      "<class 'str'>\n",
      "<class 'str'>\n"
     ]
    },
    {
     "data": {
      "text/plain": [
       "'47'"
      ]
     },
     "execution_count": 6,
     "metadata": {},
     "output_type": "execute_result"
    }
   ],
   "source": [
    "a = input()\n",
    "print(type(a))\n",
    "b = input()\n",
    "print(type(b))\n",
    "s = a + b\n",
    "print(type(s))\n",
    "s"
   ]
  },
  {
   "cell_type": "markdown",
   "id": "d6d7cc8c",
   "metadata": {},
   "source": [
    "### Converstion of string to integer,float"
   ]
  },
  {
   "cell_type": "code",
   "execution_count": 11,
   "id": "b5fa1a43",
   "metadata": {},
   "outputs": [
    {
     "name": "stdout",
     "output_type": "stream",
     "text": [
      "type of a: <class 'str'>\n",
      "type of b: <class 'int'>\n",
      "47\n"
     ]
    }
   ],
   "source": [
    "a = \"47\"\n",
    "print(\"type of a:\", type(a))\n",
    "b = int(a)\n",
    "print(\"type of b:\", type(b))\n",
    "print(b)"
   ]
  },
  {
   "cell_type": "code",
   "execution_count": 14,
   "id": "5e417dee",
   "metadata": {},
   "outputs": [
    {
     "name": "stdout",
     "output_type": "stream",
     "text": [
      "47\n",
      "type of a: <class 'str'>\n",
      "65\n",
      "type of b: <class 'int'>\n"
     ]
    }
   ],
   "source": [
    "a1 = input()\n",
    "print(\"type of a:\",type(a1))\n",
    "b1 = int(input())\n",
    "print(\"type of b:\",type(b1))"
   ]
  },
  {
   "cell_type": "code",
   "execution_count": 16,
   "id": "76fe2595",
   "metadata": {},
   "outputs": [
    {
     "name": "stdout",
     "output_type": "stream",
     "text": [
      "34\n"
     ]
    },
    {
     "data": {
      "text/plain": [
       "int"
      ]
     },
     "execution_count": 16,
     "metadata": {},
     "output_type": "execute_result"
    }
   ],
   "source": [
    "a3 = int(input())\n",
    "type(a3)"
   ]
  },
  {
   "cell_type": "code",
   "execution_count": 18,
   "id": "c7263680",
   "metadata": {},
   "outputs": [
    {
     "name": "stdout",
     "output_type": "stream",
     "text": [
      "4.242\n"
     ]
    },
    {
     "data": {
      "text/plain": [
       "4.242"
      ]
     },
     "execution_count": 18,
     "metadata": {},
     "output_type": "execute_result"
    }
   ],
   "source": [
    "a4 = float(input())\n",
    "type(a4)\n",
    "a4"
   ]
  },
  {
   "cell_type": "markdown",
   "id": "263d7cc3",
   "metadata": {},
   "source": [
    "### Simple Interset"
   ]
  },
  {
   "cell_type": "code",
   "execution_count": 21,
   "id": "68cd2c8e",
   "metadata": {},
   "outputs": [
    {
     "name": "stdout",
     "output_type": "stream",
     "text": [
      "100\n",
      "12\n",
      "2\n"
     ]
    },
    {
     "data": {
      "text/plain": [
       "24"
      ]
     },
     "execution_count": 21,
     "metadata": {},
     "output_type": "execute_result"
    }
   ],
   "source": [
    "p = int(input())\n",
    "r = int(input())\n",
    "t = int(input())\n",
    "si = (p*r*t)//100\n",
    "si"
   ]
  },
  {
   "cell_type": "markdown",
   "id": "ab985342",
   "metadata": {},
   "source": [
    "### Far to celcius conversion"
   ]
  },
  {
   "cell_type": "code",
   "execution_count": 24,
   "id": "ecb1b03f",
   "metadata": {},
   "outputs": [
    {
     "name": "stdout",
     "output_type": "stream",
     "text": [
      "100\n"
     ]
    },
    {
     "data": {
      "text/plain": [
       "37.77777777777778"
      ]
     },
     "execution_count": 24,
     "metadata": {},
     "output_type": "execute_result"
    }
   ],
   "source": [
    "f = int(input())\n",
    "c = (f-32) * 5/9\n",
    "c"
   ]
  }
 ],
 "metadata": {
  "kernelspec": {
   "display_name": "Python 3 (ipykernel)",
   "language": "python",
   "name": "python3"
  },
  "language_info": {
   "codemirror_mode": {
    "name": "ipython",
    "version": 3
   },
   "file_extension": ".py",
   "mimetype": "text/x-python",
   "name": "python",
   "nbconvert_exporter": "python",
   "pygments_lexer": "ipython3",
   "version": "3.10.6"
  }
 },
 "nbformat": 4,
 "nbformat_minor": 5
}
