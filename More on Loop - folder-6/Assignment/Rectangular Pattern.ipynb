{
 "cells": [
  {
   "cell_type": "markdown",
   "id": "9b761999",
   "metadata": {},
   "source": [
    "### Rectangular numbers\n",
    "Send Feedback\n",
    "Print the following pattern for the given number of rows.\n",
    "Pattern for N = 4\n",
    "4444444\n",
    "4333334\n",
    "4322234\n",
    "4321234\n",
    "4322234\n",
    "4333334  \n",
    "4444444\n",
    "Input format : N (Total no. of rows)\n",
    "Output format : Pattern in N lines\n",
    "Sample Input :\n",
    "3\n",
    "Sample Output :\n",
    "33333\n",
    "32223\n",
    "32123\n",
    "32223\n",
    "33333\n"
   ]
  },
  {
   "cell_type": "code",
   "execution_count": 1,
   "id": "61d608df",
   "metadata": {},
   "outputs": [
    {
     "name": "stdout",
     "output_type": "stream",
     "text": [
      "4\n",
      "4444\n",
      "4333\n",
      "4322\n",
      "4321\n"
     ]
    }
   ],
   "source": [
    "n = int(input())\n",
    "i=1\n",
    "while i<=n:\n",
    "    j=1\n",
    "    dec=n\n",
    "    while j<i:\n",
    "        print(dec,end='')\n",
    "        dec-=1\n",
    "        j+=1\n",
    "    same1=j\n",
    "    num = n-i+1\n",
    "    while same1<=n:\n",
    "        print(num,end='')\n",
    "        same1+=1\n",
    "    same2=same1\n",
    "    while same2<((2*n)-same1-i+1):\n",
    "        print(num,end='')\n",
    "        same2+=1\n",
    "    inc=same2\n",
    "    while inc<=n:\n",
    "        print(inc,end='')\n",
    "        inc+=1\n",
    "    print()\n",
    "    i+=1\n",
    "        \n",
    "    "
   ]
  },
  {
   "cell_type": "code",
   "execution_count": 17,
   "id": "8848ae36",
   "metadata": {},
   "outputs": [
    {
     "name": "stdout",
     "output_type": "stream",
     "text": [
      "4\n",
      "4444444\n",
      "4333334\n",
      "4322234\n",
      "4321234\n",
      "432334\n",
      "432234\n",
      "411234\n"
     ]
    }
   ],
   "source": [
    "n = int(input())\n",
    "i=1\n",
    "while i<=n:\n",
    "    j=1\n",
    "    dec=n\n",
    "    while j<i:\n",
    "        print(dec,end='')\n",
    "        dec-=1\n",
    "        j+=1\n",
    "    same1=j\n",
    "    num = n-i+1\n",
    "    while same1<=n:\n",
    "        print(num,end='')\n",
    "        same1+=1\n",
    "    same2=same1\n",
    "    k1=0\n",
    "    while k1<(2*n-same1-i+1):\n",
    "        print(num,end='')\n",
    "        same2+=1\n",
    "        k1+=1\n",
    "    inc=same2\n",
    "    k2=n-i+2\n",
    "    while inc<=2*n-1:\n",
    "        print(k2,end='')\n",
    "        inc+=1\n",
    "        k2+=1\n",
    "    print()\n",
    "    i+=1\n",
    "# print(\"erl\")\n",
    "i=1\n",
    "while i<n:\n",
    "    j=0\n",
    "    while j<n-i:\n",
    "        print(n-j,end='')\n",
    "        j+=1\n",
    "    print(j,end='')\n",
    "    k=j\n",
    "    while k<=n:\n",
    "        print(k,end='')\n",
    "        k+=1\n",
    "    print()\n",
    "    i+=1"
   ]
  }
 ],
 "metadata": {
  "kernelspec": {
   "display_name": "Python 3 (ipykernel)",
   "language": "python",
   "name": "python3"
  },
  "language_info": {
   "codemirror_mode": {
    "name": "ipython",
    "version": 3
   },
   "file_extension": ".py",
   "mimetype": "text/x-python",
   "name": "python",
   "nbconvert_exporter": "python",
   "pygments_lexer": "ipython3",
   "version": "3.10.6"
  }
 },
 "nbformat": 4,
 "nbformat_minor": 5
}
