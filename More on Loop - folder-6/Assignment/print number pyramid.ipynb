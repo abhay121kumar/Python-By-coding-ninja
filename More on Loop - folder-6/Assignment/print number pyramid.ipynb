{
 "cells": [
  {
   "attachments": {},
   "cell_type": "markdown",
   "id": "ffe6f48a",
   "metadata": {},
   "source": [
    "### Print Number Pyramid\n",
    "Send Feedback\n",
    "Print the following pattern for a given n.\n",
    "For eg. N = 6\n",
    "\n",
    "Sample Input 1 :\n",
    "4\n",
    "Sample Output 1 :\n",
    "\n"
   ]
  },
  {
   "cell_type": "code",
   "execution_count": 4,
   "id": "f58dd05d",
   "metadata": {},
   "outputs": [
    {
     "name": "stdout",
     "output_type": "stream",
     "text": [
      "6\n",
      "123456\n",
      " 23456\n",
      "  3456\n",
      "   456\n",
      "    56\n",
      "     6\n",
      "    56\n",
      "   456\n",
      "  3456\n",
      " 23456\n",
      "123456\n"
     ]
    }
   ],
   "source": [
    "n = int(input())\n",
    "i=1\n",
    "while i<=n:\n",
    "    space = 1\n",
    "    while space<i:\n",
    "        print(\" \",end='')\n",
    "        space+=1\n",
    "    num = i\n",
    "    while num<=n:\n",
    "        print(num,end='')\n",
    "        num+=1\n",
    "    print()\n",
    "    i+=1\n",
    "j=1\n",
    "while j<n:\n",
    "    space = 1\n",
    "    while space<n-j:\n",
    "        print(\" \",end='')\n",
    "        space+=1\n",
    "    num = space\n",
    "    while num<=n:\n",
    "        print(num,end='')\n",
    "        num+=1\n",
    "    print()\n",
    "    j+=1"
   ]
  }
 ],
 "metadata": {
  "kernelspec": {
   "display_name": "Python 3 (ipykernel)",
   "language": "python",
   "name": "python3"
  },
  "language_info": {
   "codemirror_mode": {
    "name": "ipython",
    "version": 3
   },
   "file_extension": ".py",
   "mimetype": "text/x-python",
   "name": "python",
   "nbconvert_exporter": "python",
   "pygments_lexer": "ipython3",
   "version": "3.10.6"
  }
 },
 "nbformat": 4,
 "nbformat_minor": 5
}
