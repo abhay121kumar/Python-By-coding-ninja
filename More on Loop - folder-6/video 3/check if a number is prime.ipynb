{
 "cells": [
  {
   "cell_type": "code",
   "execution_count": 12,
   "id": "eb591d16",
   "metadata": {},
   "outputs": [
    {
     "name": "stdout",
     "output_type": "stream",
     "text": [
      "8\n",
      "Not Prime Number\n"
     ]
    }
   ],
   "source": [
    "n=int(input())\n",
    "flag=False\n",
    "for d in range(2,n,1):\n",
    "    if n%d==0:\n",
    "        flag=True\n",
    "if flag:\n",
    "    print(\"Not Prime Number\")\n",
    "else:\n",
    "    print(\"Prime Number\")"
   ]
  }
 ],
 "metadata": {
  "kernelspec": {
   "display_name": "Python 3 (ipykernel)",
   "language": "python",
   "name": "python3"
  },
  "language_info": {
   "codemirror_mode": {
    "name": "ipython",
    "version": 3
   },
   "file_extension": ".py",
   "mimetype": "text/x-python",
   "name": "python",
   "nbconvert_exporter": "python",
   "pygments_lexer": "ipython3",
   "version": "3.10.6"
  }
 },
 "nbformat": 4,
 "nbformat_minor": 5
}
