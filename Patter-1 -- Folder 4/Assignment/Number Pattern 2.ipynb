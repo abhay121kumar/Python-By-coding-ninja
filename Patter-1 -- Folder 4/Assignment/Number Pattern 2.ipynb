{
 "cells": [
  {
   "cell_type": "markdown",
   "id": "5c978f69",
   "metadata": {},
   "source": [
    "### Number Pattern 2\n",
    "Send Feedback\n",
    "Print the following pattern for the given N number of rows.\n",
    "Pattern for N = 4\n",
    "1\n",
    "11\n",
    "202\n",
    "3003\n",
    "Input format :\n",
    "Integer N (Total no. of rows)\n",
    "Contraints:\n",
    "1 <= n <= 50\n",
    "Output format :\n",
    "Pattern in N lines\n",
    "Sample Input :\n",
    "5\n",
    "Sample Output :\n",
    "1\n",
    "11\n",
    "202\n",
    "3003\n",
    "40004\n"
   ]
  },
  {
   "cell_type": "code",
   "execution_count": 30,
   "id": "5334a485",
   "metadata": {},
   "outputs": [
    {
     "name": "stdout",
     "output_type": "stream",
     "text": [
      "4\n",
      "1\n",
      "1 1 \n",
      "2 0 2 \n",
      "3 0 0 3 \n",
      "4 0 0 0 4 \n"
     ]
    }
   ],
   "source": [
    "n = int(input())\n",
    "i=1\n",
    "print(1)\n",
    "while i<=n:\n",
    "    j=0\n",
    "    while j<i+1:\n",
    "        if(j==0 or j==i):\n",
    "            print(i,end=' ')\n",
    "        else:\n",
    "            print('0',end=' ')\n",
    "        j+=1\n",
    "    i+=1\n",
    "    print()"
   ]
  },
  {
   "cell_type": "code",
   "execution_count": 10,
   "id": "c0f6014e",
   "metadata": {},
   "outputs": [
    {
     "name": "stdout",
     "output_type": "stream",
     "text": [
      "5\n",
      "1\n",
      "11\n",
      "202\n",
      "3003\n",
      "40004\n"
     ]
    }
   ],
   "source": [
    "n = int(input())\n",
    "i=1\n",
    "print('1')\n",
    "while i<n:\n",
    "    print(i,end='')\n",
    "    j=1\n",
    "    while j<i:\n",
    "        print('0',end='')\n",
    "        j+=1\n",
    "    print(i,end='')\n",
    "    i+=1\n",
    "    print()"
   ]
  },
  {
   "cell_type": "code",
   "execution_count": 19,
   "id": "1621ced5",
   "metadata": {},
   "outputs": [
    {
     "name": "stdout",
     "output_type": "stream",
     "text": [
      "4\n",
      "1\n",
      "11\n",
      "202\n",
      "3003\n",
      "40004\n"
     ]
    }
   ],
   "source": [
    "n = int(input())\n",
    "i=1\n",
    "print('1')\n",
    "while i<=n:\n",
    "    power = 10**i\n",
    "    num = (power*i)+i\n",
    "    print(num)\n",
    "    i+=1"
   ]
  },
  {
   "cell_type": "code",
   "execution_count": 16,
   "id": "9dc2365e",
   "metadata": {},
   "outputs": [
    {
     "name": "stdout",
     "output_type": "stream",
     "text": [
      "3\n"
     ]
    },
    {
     "data": {
      "text/plain": [
       "1000"
      ]
     },
     "execution_count": 16,
     "metadata": {},
     "output_type": "execute_result"
    }
   ],
   "source": [
    "n = int(input())\n",
    "10**n"
   ]
  }
 ],
 "metadata": {
  "kernelspec": {
   "display_name": "Python 3 (ipykernel)",
   "language": "python",
   "name": "python3"
  },
  "language_info": {
   "codemirror_mode": {
    "name": "ipython",
    "version": 3
   },
   "file_extension": ".py",
   "mimetype": "text/x-python",
   "name": "python",
   "nbconvert_exporter": "python",
   "pygments_lexer": "ipython3",
   "version": "3.10.6"
  }
 },
 "nbformat": 4,
 "nbformat_minor": 5
}
