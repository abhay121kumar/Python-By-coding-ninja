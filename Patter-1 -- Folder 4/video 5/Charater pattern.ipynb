{
 "cells": [
  {
   "cell_type": "markdown",
   "id": "c860a7b0",
   "metadata": {},
   "source": [
    "### Print kth alphabet"
   ]
  },
  {
   "cell_type": "code",
   "execution_count": 6,
   "id": "fd8be8ee",
   "metadata": {},
   "outputs": [
    {
     "data": {
      "text/plain": [
       "65"
      ]
     },
     "execution_count": 6,
     "metadata": {},
     "output_type": "execute_result"
    }
   ],
   "source": [
    "ord('A')"
   ]
  },
  {
   "cell_type": "code",
   "execution_count": 7,
   "id": "0b0a7d38",
   "metadata": {},
   "outputs": [
    {
     "data": {
      "text/plain": [
       "'A'"
      ]
     },
     "execution_count": 7,
     "metadata": {},
     "output_type": "execute_result"
    }
   ],
   "source": [
    "chr(65)"
   ]
  },
  {
   "cell_type": "code",
   "execution_count": 5,
   "id": "3cc11b15",
   "metadata": {},
   "outputs": [
    {
     "name": "stdout",
     "output_type": "stream",
     "text": [
      "4\n",
      "D\n"
     ]
    }
   ],
   "source": [
    "k = int(input())\n",
    "# 'A'+k-1\n",
    "x = ord('A')\n",
    "ascii_Target = x + k - 1\n",
    "target_char = chr(ascii_Target)\n",
    "print(target_char)"
   ]
  },
  {
   "cell_type": "markdown",
   "id": "d2380924",
   "metadata": {},
   "source": [
    "### Patter-1"
   ]
  },
  {
   "cell_type": "markdown",
   "id": "5ace86ef",
   "metadata": {},
   "source": [
    "ABCD\n",
    "ABCD\n",
    "ABCD\n",
    "ABCD"
   ]
  },
  {
   "cell_type": "code",
   "execution_count": 8,
   "id": "5d992b68",
   "metadata": {},
   "outputs": [
    {
     "name": "stdout",
     "output_type": "stream",
     "text": [
      "4\n",
      "ABCD\n",
      "ABCD\n",
      "ABCD\n",
      "ABCD\n"
     ]
    }
   ],
   "source": [
    "# n = int(input())\n",
    "# i=1\n",
    "# x='A'\n",
    "# while i<=n:\n",
    "#     j=1\n",
    "#     while j<=n:\n",
    "#         k=ord(x)+j-1\n",
    "#         print(chr(k),end=\"\")\n",
    "#         j+=1\n",
    "#     print()\n",
    "#     i+=1\n",
    "\n",
    "# same thing only sir code i am writing\n",
    "\n",
    "n = int(input())\n",
    "i=1\n",
    "while i<=n:\n",
    "    j=1\n",
    "    while j<=n:\n",
    "        charP=chr(ord('A')+j-1)\n",
    "        print(charP,end=\"\")\n",
    "        j+=1\n",
    "    print()\n",
    "    i+=1"
   ]
  },
  {
   "cell_type": "markdown",
   "id": "6428de3d",
   "metadata": {},
   "source": [
    "### Patter-2"
   ]
  },
  {
   "cell_type": "markdown",
   "id": "2ba011be",
   "metadata": {},
   "source": [
    "ABCD\n",
    "BCDE\n",
    "CDEF\n",
    "DEFG"
   ]
  },
  {
   "cell_type": "code",
   "execution_count": 4,
   "id": "6e1d081c",
   "metadata": {},
   "outputs": [
    {
     "name": "stdout",
     "output_type": "stream",
     "text": [
      "4\n",
      "ABCD\n",
      "BCDE\n",
      "CDEF\n",
      "DEFG\n"
     ]
    }
   ],
   "source": [
    "# n = int(input())\n",
    "# i=1\n",
    "# x='A'\n",
    "# while i<=n:\n",
    "#     y=ord(x)+i-1\n",
    "#     j=1\n",
    "#     while j<=n:\n",
    "#         k=ord(chr(y))+j-1\n",
    "#         print(chr(k),end=\"\")\n",
    "#         j+=1\n",
    "#     print()\n",
    "#     i+=1\n",
    "\n",
    "# same thing only sir code i am writing\n",
    "\n",
    "n = int(input())\n",
    "i=1\n",
    "while i<=n:\n",
    "    j=1\n",
    "    start_char = chr(ord('A') + i - 1)\n",
    "    while j<=n:\n",
    "        CharP = chr(ord(start_char)+j-1)\n",
    "        print(CharP,end=\"\")\n",
    "        j+=1\n",
    "    print()\n",
    "    i+=1"
   ]
  }
 ],
 "metadata": {
  "kernelspec": {
   "display_name": "Python 3 (ipykernel)",
   "language": "python",
   "name": "python3"
  },
  "language_info": {
   "codemirror_mode": {
    "name": "ipython",
    "version": 3
   },
   "file_extension": ".py",
   "mimetype": "text/x-python",
   "name": "python",
   "nbconvert_exporter": "python",
   "pygments_lexer": "ipython3",
   "version": "3.10.6"
  }
 },
 "nbformat": 4,
 "nbformat_minor": 5
}
