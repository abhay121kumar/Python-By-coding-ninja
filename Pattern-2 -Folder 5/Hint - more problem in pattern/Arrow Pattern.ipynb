{
 "cells": [
  {
   "cell_type": "code",
   "execution_count": 6,
   "id": "f3c340cd",
   "metadata": {},
   "outputs": [
    {
     "name": "stdout",
     "output_type": "stream",
     "text": [
      "4\n",
      "*\n",
      "  * *\n",
      "  * * * *\n",
      "    * * * * *\n"
     ]
    }
   ],
   "source": [
    "n=int(input())\n",
    "i=1\n",
    "while i<=n:\n",
    "    space=n-i+1\n",
    "    while space<n:\n",
    "        print(\" \",end='')\n",
    "        space+=1\n",
    "    j=1\n",
    "    while j<=(3*i-2):\n",
    "        if i%2!=0:\n",
    "            if j%2!=0:\n",
    "                print('*',end='')\n",
    "            else:\n",
    "                print(' ',end='')\n",
    "        else:\n",
    "            if j%2==0:\n",
    "                print('*',end='')\n",
    "            else:\n",
    "                print(' ',end='')\n",
    "        j+=1\n",
    "    i+=1\n",
    "    print()\n",
    "        "
   ]
  },
  {
   "cell_type": "code",
   "execution_count": 16,
   "id": "c1df4a8e",
   "metadata": {},
   "outputs": [
    {
     "name": "stdout",
     "output_type": "stream",
     "text": [
      "5\n",
      "* \n",
      " * * \n",
      "  * * * \n",
      "   * * * * \n",
      "    * * * * * \n"
     ]
    }
   ],
   "source": [
    "n=int(input())\n",
    "i=1\n",
    "while i<=n:\n",
    "    space=1\n",
    "    while space<i:\n",
    "        print(\" \",end='')\n",
    "        space+=1\n",
    "    star=1\n",
    "#     count=i\n",
    "    while star<=i:\n",
    "        print(\"*\",end='')\n",
    "        print(\" \",end='')\n",
    "        star+=1\n",
    "    i+=1\n",
    "    print()"
   ]
  },
  {
   "cell_type": "code",
   "execution_count": 20,
   "id": "b4c22770",
   "metadata": {},
   "outputs": [
    {
     "name": "stdout",
     "output_type": "stream",
     "text": [
      "7\n",
      "* \n",
      " * * \n",
      "  * * * \n",
      "   * * * * \n",
      "  * * * \n",
      " * * \n",
      "* \n"
     ]
    }
   ],
   "source": [
    "n=int(input())\n",
    "x=int(n/2)\n",
    "y=n-x\n",
    "i=1\n",
    "while i<=y:\n",
    "    space=1\n",
    "    while space<i:\n",
    "        print(\" \",end='')\n",
    "        space+=1\n",
    "    star=1\n",
    "    while star<=i:\n",
    "        print(\"*\",end='')\n",
    "        print(\" \",end='')\n",
    "        star+=1\n",
    "    i+=1\n",
    "    print()\n",
    "j=1\n",
    "while j<=x:\n",
    "    space=x-j+1\n",
    "    while space>1:\n",
    "        print(\" \",end='')\n",
    "        space-=1\n",
    "    star=x-j+1\n",
    "    while star>=1:\n",
    "        print(\"*\",end='')\n",
    "        print(\" \",end='')\n",
    "        star-=1\n",
    "    j+=1\n",
    "    print()"
   ]
  },
  {
   "cell_type": "code",
   "execution_count": 19,
   "id": "ba400d09",
   "metadata": {},
   "outputs": [
    {
     "name": "stdout",
     "output_type": "stream",
     "text": [
      "7\n",
      "3\n",
      "4\n"
     ]
    }
   ],
   "source": [
    "n=int(input())\n",
    "x=int(n/2)\n",
    "y=n-x\n",
    "print(x)\n",
    "print(y)"
   ]
  }
 ],
 "metadata": {
  "kernelspec": {
   "display_name": "Python 3 (ipykernel)",
   "language": "python",
   "name": "python3"
  },
  "language_info": {
   "codemirror_mode": {
    "name": "ipython",
    "version": 3
   },
   "file_extension": ".py",
   "mimetype": "text/x-python",
   "name": "python",
   "nbconvert_exporter": "python",
   "pygments_lexer": "ipython3",
   "version": "3.10.12"
  }
 },
 "nbformat": 4,
 "nbformat_minor": 5
}
