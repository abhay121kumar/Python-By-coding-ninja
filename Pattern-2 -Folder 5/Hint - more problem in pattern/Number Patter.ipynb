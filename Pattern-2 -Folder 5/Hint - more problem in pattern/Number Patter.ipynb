{
 "cells": [
  {
   "cell_type": "code",
   "execution_count": 1,
   "id": "36fbec54",
   "metadata": {},
   "outputs": [
    {
     "name": "stdout",
     "output_type": "stream",
     "text": [
      "4\n",
      "1      1\n",
      "12    21\n",
      "123  321\n",
      "12344321\n"
     ]
    }
   ],
   "source": [
    "n=int(input())\n",
    "i=1\n",
    "while i<=n:\n",
    "    inc=1\n",
    "    while inc<=i:\n",
    "        print(inc,end='')\n",
    "        inc+=1\n",
    "    spaceInc=1\n",
    "    while spaceInc<=n-i:\n",
    "        print(\" \",end='')\n",
    "        spaceInc+=1\n",
    "    spaceDec=1\n",
    "    while spaceDec<=n-i:\n",
    "        print(' ',end='')\n",
    "        spaceDec+=1\n",
    "    dec=i\n",
    "    while dec>=1:\n",
    "        print(dec,end='')\n",
    "        dec-=1\n",
    "    i+=1\n",
    "    print()"
   ]
  }
 ],
 "metadata": {
  "kernelspec": {
   "display_name": "Python 3 (ipykernel)",
   "language": "python",
   "name": "python3"
  },
  "language_info": {
   "codemirror_mode": {
    "name": "ipython",
    "version": 3
   },
   "file_extension": ".py",
   "mimetype": "text/x-python",
   "name": "python",
   "nbconvert_exporter": "python",
   "pygments_lexer": "ipython3",
   "version": "3.10.12"
  }
 },
 "nbformat": 4,
 "nbformat_minor": 5
}
