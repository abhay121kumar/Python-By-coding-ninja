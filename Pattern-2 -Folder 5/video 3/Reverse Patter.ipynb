{
 "cells": [
  {
   "cell_type": "markdown",
   "id": "78fe4e47",
   "metadata": {},
   "source": [
    "   *\n",
    "  **\n",
    " ***\n",
    "****"
   ]
  },
  {
   "cell_type": "code",
   "execution_count": 4,
   "id": "0d3a3b2b",
   "metadata": {},
   "outputs": [
    {
     "name": "stdout",
     "output_type": "stream",
     "text": [
      "4\n",
      "   *\n",
      "  **\n",
      " ***\n",
      "****\n"
     ]
    }
   ],
   "source": [
    "n=int(input())\n",
    "i=1\n",
    "while i<=n:\n",
    "    space=1\n",
    "    while space<=n-i:\n",
    "        print(' ',end='')\n",
    "        space+=1\n",
    "    star=1\n",
    "    while star<=i:\n",
    "        print('*',end='')\n",
    "        star+=1\n",
    "    i+=1\n",
    "    print()"
   ]
  }
 ],
 "metadata": {
  "kernelspec": {
   "display_name": "Python 3 (ipykernel)",
   "language": "python",
   "name": "python3"
  },
  "language_info": {
   "codemirror_mode": {
    "name": "ipython",
    "version": 3
   },
   "file_extension": ".py",
   "mimetype": "text/x-python",
   "name": "python",
   "nbconvert_exporter": "python",
   "pygments_lexer": "ipython3",
   "version": "3.10.6"
  }
 },
 "nbformat": 4,
 "nbformat_minor": 5
}
