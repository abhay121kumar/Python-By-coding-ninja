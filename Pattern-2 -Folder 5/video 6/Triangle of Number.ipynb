{
 "cells": [
  {
   "cell_type": "markdown",
   "id": "22b0eb79",
   "metadata": {},
   "source": [
    "   1\n",
    "  232\n",
    " 34543\n",
    "4567654"
   ]
  },
  {
   "cell_type": "code",
   "execution_count": 2,
   "id": "e64dedec",
   "metadata": {},
   "outputs": [
    {
     "name": "stdout",
     "output_type": "stream",
     "text": [
      "4\n",
      "   1\n",
      "  232\n",
      " 34543\n",
      "4567654\n"
     ]
    }
   ],
   "source": [
    "n=int(input())\n",
    "i=1\n",
    "while i<=n:\n",
    "    space=1\n",
    "    while space<=n-i:\n",
    "        print(' ',end='')\n",
    "        space+=1\n",
    "    inc=i\n",
    "    val=1\n",
    "    while val<=i:\n",
    "        print(inc,end='')\n",
    "        inc+=1\n",
    "        val+=1\n",
    "    dec=inc-2\n",
    "    while dec>=i:\n",
    "        print(dec,end='')\n",
    "        dec-=1\n",
    "    i+=1\n",
    "    print()"
   ]
  }
 ],
 "metadata": {
  "kernelspec": {
   "display_name": "Python 3 (ipykernel)",
   "language": "python",
   "name": "python3"
  },
  "language_info": {
   "codemirror_mode": {
    "name": "ipython",
    "version": 3
   },
   "file_extension": ".py",
   "mimetype": "text/x-python",
   "name": "python",
   "nbconvert_exporter": "python",
   "pygments_lexer": "ipython3",
   "version": "3.10.6"
  }
 },
 "nbformat": 4,
 "nbformat_minor": 5
}
