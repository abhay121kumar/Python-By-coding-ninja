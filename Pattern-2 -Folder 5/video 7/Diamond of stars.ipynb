{
 "cells": [
  {
   "cell_type": "code",
   "execution_count": null,
   "id": "09e2b028",
   "metadata": {},
   "outputs": [],
   "source": []
  },
  {
   "cell_type": "code",
   "execution_count": 6,
   "id": "dcf0c1ac",
   "metadata": {},
   "outputs": [
    {
     "name": "stdout",
     "output_type": "stream",
     "text": [
      "4\n",
      "   *\n",
      "  ***\n",
      " *****\n",
      "*******\n"
     ]
    }
   ],
   "source": [
    "n=int(input())\n",
    "i=1\n",
    "while i<=n:\n",
    "    space=1\n",
    "    while space<=n-i:\n",
    "        print(' ',end='')\n",
    "        space+=1\n",
    "    inc=i\n",
    "    val=1\n",
    "    while val<=i:\n",
    "        print('*',end='')\n",
    "        inc+=1\n",
    "        val+=1\n",
    "    dec=inc-2\n",
    "    while dec>=i:\n",
    "        print('*',end='')\n",
    "        dec-=1\n",
    "    i+=1\n",
    "    print()"
   ]
  },
  {
   "cell_type": "code",
   "execution_count": 7,
   "id": "c2682028",
   "metadata": {},
   "outputs": [
    {
     "name": "stdout",
     "output_type": "stream",
     "text": [
      "4\n",
      "   *\n",
      "  ***\n",
      " *****\n",
      "*******\n"
     ]
    }
   ],
   "source": [
    "n=int(input())\n",
    "i=1\n",
    "while i<=n:\n",
    "    space=1\n",
    "    while space<=n-i:\n",
    "        print(' ',end='')\n",
    "        space+=1\n",
    "    val=1\n",
    "    while val<=i:\n",
    "        print('*',end='')\n",
    "        val+=1\n",
    "    dec=1\n",
    "    while dec<i:\n",
    "        print('*',end='')\n",
    "        dec+=1\n",
    "    i+=1\n",
    "    print()"
   ]
  },
  {
   "cell_type": "code",
   "execution_count": 8,
   "id": "6d3612d9",
   "metadata": {},
   "outputs": [
    {
     "name": "stdout",
     "output_type": "stream",
     "text": [
      "4\n",
      "*******\n",
      " *****\n",
      "  ***\n",
      "   *\n"
     ]
    }
   ],
   "source": [
    "n=int(input())\n",
    "i=1\n",
    "while i<=n:\n",
    "    space=n-i+1\n",
    "    while space<n:\n",
    "        print(' ',end='')\n",
    "        space+=1\n",
    "    val=1\n",
    "    while val<=n-i+1:\n",
    "        print('*',end='')\n",
    "        val+=1\n",
    "    dec=1\n",
    "    while dec<n-i+1:\n",
    "        print('*',end='')\n",
    "        dec+=1\n",
    "    i+=1\n",
    "    print()\n"
   ]
  },
  {
   "cell_type": "code",
   "execution_count": 9,
   "id": "f0cd4d3e",
   "metadata": {},
   "outputs": [
    {
     "name": "stdout",
     "output_type": "stream",
     "text": [
      "4\n",
      "   *\n",
      "  ***\n",
      " *****\n",
      "*******\n",
      "*******\n",
      " *****\n",
      "  ***\n",
      "   *\n"
     ]
    }
   ],
   "source": [
    "n=int(input())\n",
    "i=1\n",
    "while i<=n:\n",
    "    space=1\n",
    "    while space<=n-i:\n",
    "        print(' ',end='')\n",
    "        space+=1\n",
    "    val=1\n",
    "    while val<=i:\n",
    "        print('*',end='')\n",
    "        val+=1\n",
    "    dec=1\n",
    "    while dec<i:\n",
    "        print('*',end='')\n",
    "        dec+=1\n",
    "    i+=1\n",
    "    print()\n",
    "j=1\n",
    "while j<=n:\n",
    "    space=n-j+1\n",
    "    while space<n:\n",
    "        print(' ',end='')\n",
    "        space+=1\n",
    "    val=1\n",
    "    while val<=n-j+1:\n",
    "        print('*',end='')\n",
    "        val+=1\n",
    "    dec=1\n",
    "    while dec<n-j+1:\n",
    "        print('*',end='')\n",
    "        dec+=1\n",
    "    j+=1\n",
    "    print()"
   ]
  }
 ],
 "metadata": {
  "kernelspec": {
   "display_name": "Python 3 (ipykernel)",
   "language": "python",
   "name": "python3"
  },
  "language_info": {
   "codemirror_mode": {
    "name": "ipython",
    "version": 3
   },
   "file_extension": ".py",
   "mimetype": "text/x-python",
   "name": "python",
   "nbconvert_exporter": "python",
   "pygments_lexer": "ipython3",
   "version": "3.10.6"
  }
 },
 "nbformat": 4,
 "nbformat_minor": 5
}
