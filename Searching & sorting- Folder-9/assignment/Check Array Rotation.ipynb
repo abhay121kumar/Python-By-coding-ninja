{
 "cells": [
  {
   "cell_type": "markdown",
   "id": "22415c8a",
   "metadata": {},
   "source": [
    "Check Array Rotation\n",
    "Send Feedback\n",
    "### You have been given an integer array/list(ARR) of size N. It has been sorted(in increasing order) and then rotated by some number 'K' in the clockwise direction.\n",
    "Your task is to write a function that returns the value of 'K', that means, the index from which the array/list has been rotated.\n",
    "Input format :\n",
    "The first line contains an Integer 't' which denotes the number of test cases or queries to be run. Then the test cases follow.\n",
    "\n",
    "First line of each test case or query contains an integer 'N' representing the size of the array/list.\n",
    "\n",
    "Second line contains 'N' single space separated integers representing the elements in the array/list.\n",
    "Output Format :\n",
    "For each test case, print the value of 'K' or the index from which which the array/list has been rotated.\n",
    "\n",
    "Output for every test case will be printed in a separate line.\n",
    "Constraints :\n",
    "1 <= t <= 10^2\n",
    "0 <= N <= 10^5\n",
    "Time Limit: 1 sec\n",
    "Sample Input 1:\n",
    "1\n",
    "6\n",
    "5 6 1 2 3 4\n",
    "Sample Output 1:\n",
    "2\n",
    "Sample Input 2:\n",
    "2\n",
    "5\n",
    "3 6 8 9 10\n",
    "4\n",
    "10 20 30 1\n",
    "Sample Output 2:\n",
    "0\n",
    "3\n"
   ]
  },
  {
   "cell_type": "code",
   "execution_count": 9,
   "id": "4d363fe5",
   "metadata": {},
   "outputs": [
    {
     "name": "stdout",
     "output_type": "stream",
     "text": [
      "10 20 30 1\n",
      "3\n"
     ]
    }
   ],
   "source": [
    "def Check_Array_Rotation(li):\n",
    "    n = len(li)\n",
    "    count = 0\n",
    "    for i in range(n-1):\n",
    "        if li[i]<=li[i+1]:\n",
    "            count+=1\n",
    "        if i==n-2 and li[n-2]<li[n-1]:\n",
    "            count = 0\n",
    "        if li[i]>li[i+1]:\n",
    "            count+=1\n",
    "            break\n",
    "    return count\n",
    "\n",
    "li = [int(x) for x in input().split()]\n",
    "ans = Check_Array_Rotation(li)\n",
    "print(ans)"
   ]
  }
 ],
 "metadata": {
  "kernelspec": {
   "display_name": "Python 3 (ipykernel)",
   "language": "python",
   "name": "python3"
  },
  "language_info": {
   "codemirror_mode": {
    "name": "ipython",
    "version": 3
   },
   "file_extension": ".py",
   "mimetype": "text/x-python",
   "name": "python",
   "nbconvert_exporter": "python",
   "pygments_lexer": "ipython3",
   "version": "3.10.12"
  }
 },
 "nbformat": 4,
 "nbformat_minor": 5
}
