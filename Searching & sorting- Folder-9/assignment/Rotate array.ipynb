{
 "cells": [
  {
   "cell_type": "markdown",
   "id": "5fcc150a",
   "metadata": {},
   "source": [
    "Rotate array\n",
    "Send Feedback\n",
    "### You have been given a random integer array/list(ARR) of size N. Write a function that rotates the given array/list by D elements(towards the left).\n",
    " Note:\n",
    "Change in the input array/list itself. You don't need to return or print the elements.\n",
    "Input format :\n",
    "The first line contains an Integer 't' which denotes the number of test cases or queries to be run. Then the test cases follow.\n",
    "\n",
    "First line of each test case or query contains an integer 'N' representing the size of the array/list.\n",
    "\n",
    "Second line contains 'N' single space separated integers representing the elements in the array/list.\n",
    "\n",
    "Third line contains the value of 'D' by which the array/list needs to be rotated.\n",
    "Output Format :\n",
    "For each test case, print the rotated array/list in a row separated by a single space.\n",
    "\n",
    "Output for every test case will be printed in a separate line.\n",
    "Constraints :\n",
    "1 <= t <= 10^4\n",
    "0 <= N <= 10^6\n",
    "0 <= D <= N\n",
    "Time Limit: 1 sec\n",
    "Sample Input 1:\n",
    "1\n",
    "7\n",
    "1 2 3 4 5 6 7\n",
    "2\n",
    "Sample Output 1:\n",
    "3 4 5 6 7 1 2\n",
    "Sample Input 2:\n",
    "2\n",
    "7\n",
    "1 2 3 4 5 6 7\n",
    "0\n",
    "4\n",
    "1 2 3 4\n",
    "2\n",
    "Sample Output 2:\n",
    "1 2 3 4 5 6 7\n",
    "3 4 1 2\n"
   ]
  },
  {
   "cell_type": "code",
   "execution_count": 3,
   "id": "3142bc3c",
   "metadata": {},
   "outputs": [
    {
     "name": "stdout",
     "output_type": "stream",
     "text": [
      "1 2 3 4 5 6 7\n",
      "3\n",
      "[4, 5, 6, 7, 1, 2, 3]\n"
     ]
    }
   ],
   "source": [
    "def Rotate_Array(li,d):\n",
    "    n = len(li)\n",
    "    while d>0:\n",
    "        temp = li[0]\n",
    "        for i in range(n-1):\n",
    "            li[i] = li[i+1]\n",
    "        li[n-1] = temp\n",
    "        d-=1\n",
    "\n",
    "li = [int(x) for x in input().split()]\n",
    "d = int(input())\n",
    "Rotate_Array(li,d)\n",
    "print(li)"
   ]
  }
 ],
 "metadata": {
  "kernelspec": {
   "display_name": "Python 3 (ipykernel)",
   "language": "python",
   "name": "python3"
  },
  "language_info": {
   "codemirror_mode": {
    "name": "ipython",
    "version": 3
   },
   "file_extension": ".py",
   "mimetype": "text/x-python",
   "name": "python",
   "nbconvert_exporter": "python",
   "pygments_lexer": "ipython3",
   "version": "3.10.12"
  }
 },
 "nbformat": 4,
 "nbformat_minor": 5
}
