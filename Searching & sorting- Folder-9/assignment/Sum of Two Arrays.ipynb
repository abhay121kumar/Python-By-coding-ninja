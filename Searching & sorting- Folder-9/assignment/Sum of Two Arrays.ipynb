{
 "cells": [
  {
   "cell_type": "markdown",
   "id": "d5b3d2bf",
   "metadata": {},
   "source": [
    "Sum of Two Arrays\n",
    "Send Feedback\n",
    "### Two random integer arrays/lists have been given as ARR1 and ARR2 of size N and M respectively. Both the arrays/lists contain numbers from 0 to 9(i.e. single digit integer is present at every index). The idea here is to represent each array/list as an integer in itself of digits N and M.\n",
    "You need to find the sum of both the input arrays/list treating them as two integers and put the result in another array/list i.e. output array/list will also contain only single digit at every index.\n",
    "Note:\n",
    "The sizes N and M can be different. \n",
    "\n",
    "Output array/list(of all 0s) has been provided as a function argument. Its size will always be one more than the size of the bigger array/list. Place 0 at the 0th index if there is no carry. \n",
    "\n",
    "No need to print the elements of the output array/list.\n",
    "Input format :\n",
    "The first line contains an Integer 't' which denotes the number of test cases or queries to be run. Then the test cases follow.\n",
    "\n",
    "First line of each test case or query contains an integer 'N' representing the size of the first array/list.\n",
    "\n",
    "Second line contains 'N' single space separated integers representing the elements of the first array/list.\n",
    "\n",
    "Third line contains an integer 'M' representing the size of the second array/list.\n",
    "\n",
    "Fourth line contains 'M' single space separated integers representing the elements of the second array/list.\n",
    "Output Format :\n",
    "For each test case, print the required sum of the arrays/list in a row, separated by a single space.\n",
    "\n",
    "Output for every test case will be printed in a separate line.\n",
    "Constraints :\n",
    "1 <= t <= 10^2\n",
    "0 <= N <= 10^5\n",
    "0 <= M <= 10^5\n",
    "Time Limit: 1 sec \n",
    "Sample Input 1:\n",
    "1\n",
    "3\n",
    "6 2 4\n",
    "3\n",
    "7 5 6\n",
    "Sample Output 1:\n",
    "1 3 8 0\n",
    "Sample Input 2:\n",
    "2\n",
    "3\n",
    "8 5 2\n",
    "2\n",
    "1 3\n",
    "4\n",
    "9 7 6 1\n",
    "3\n",
    "4 5 9\n",
    "Sample Output 2:\n",
    "0 8 6 5\n",
    "1 0 2 2 0 \n"
   ]
  },
  {
   "cell_type": "code",
   "execution_count": 10,
   "id": "3d325715",
   "metadata": {},
   "outputs": [
    {
     "name": "stdout",
     "output_type": "stream",
     "text": [
      "4\n",
      "3\n",
      "9 7 6 1\n",
      "4 5 9\n",
      "[1, 0, 2, 2, 0]\n"
     ]
    }
   ],
   "source": [
    "def Sum_of_two_array(li1,li2,n1,n2):\n",
    "    i=n1-1\n",
    "    j=n2-1\n",
    "    temp = 0\n",
    "    newsum=0\n",
    "    sum = 0\n",
    "    li3 = []\n",
    "    while(i>=0 and j>=0):\n",
    "        sum = li1[i] + li2[j] + temp\n",
    "        if sum>=10:\n",
    "            newsum = sum%10\n",
    "            li3.insert(0,newsum)\n",
    "            temp = 1\n",
    "        else:\n",
    "            temp = 0\n",
    "            li3.insert(0,sum)\n",
    "        i-=1\n",
    "        j-=1\n",
    "        \n",
    "    while i>=0:\n",
    "        sum = temp + li1[i]\n",
    "        if sum>=10:\n",
    "            newsum = sum%10\n",
    "            li3.insert(0,newsum)\n",
    "            temp = 1\n",
    "        else:\n",
    "            temp = 0\n",
    "            li3.insert(0,sum)\n",
    "        i-=1\n",
    "    while j>=0:\n",
    "        sum = temp + li2[j]\n",
    "        if sum>=10:\n",
    "            newsum = sum%10\n",
    "            li3.insert(0,newsum)\n",
    "            temp = 1\n",
    "        else:\n",
    "            temp = 0\n",
    "            li3.insert(0,sum)\n",
    "        j-=1\n",
    "    if temp == 1 and i<0 and j<0:\n",
    "        li3.insert(0,temp)\n",
    "        \n",
    "    return li3\n",
    "\n",
    "n1 = int(input())\n",
    "n2 = int(input())\n",
    "li1 = [int(x) for x in input().split()]\n",
    "li2 = [int(x) for x in input().split()]\n",
    "ans= Sum_of_two_array(li1,li2,n1,n2)\n",
    "print(ans)"
   ]
  },
  {
   "cell_type": "code",
   "execution_count": 1,
   "id": "26c877ae",
   "metadata": {},
   "outputs": [
    {
     "name": "stdout",
     "output_type": "stream",
     "text": [
      "[33, 1, 2, 3, 4]\n"
     ]
    }
   ],
   "source": [
    "li = [1,2,3,4]\n",
    "li.insert(0,33)\n",
    "print(li)"
   ]
  }
 ],
 "metadata": {
  "kernelspec": {
   "display_name": "Python 3 (ipykernel)",
   "language": "python",
   "name": "python3"
  },
  "language_info": {
   "codemirror_mode": {
    "name": "ipython",
    "version": 3
   },
   "file_extension": ".py",
   "mimetype": "text/x-python",
   "name": "python",
   "nbconvert_exporter": "python",
   "pygments_lexer": "ipython3",
   "version": "3.10.12"
  }
 },
 "nbformat": 4,
 "nbformat_minor": 5
}
