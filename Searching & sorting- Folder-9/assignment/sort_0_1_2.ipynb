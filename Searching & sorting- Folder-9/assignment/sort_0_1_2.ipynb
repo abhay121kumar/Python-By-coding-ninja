{
 "cells": [
  {
   "cell_type": "markdown",
   "id": "5ca20d93",
   "metadata": {},
   "source": [
    "Sort 0 1 2\n",
    "Send Feedback\n",
    "### You are given an integer array/list(ARR) of size N. It contains only 0s, 1s and 2s. Write a solution to sort this array/list in a 'single scan'.\n",
    "'Single Scan' refers to iterating over the array/list just once or to put it in other words, you will be visiting each element in the array/list just once.\n",
    "Note:\n",
    "You need to change in the given array/list itself. Hence, no need to return or print anything. \n",
    "Input format :\n",
    "The first line contains an Integer 't' which denotes the number of test cases or queries to be run. Then the test cases follow.\n",
    "\n",
    "First line of each test case or query contains an integer 'N' representing the size of the array/list.\n",
    "\n",
    "Second line contains 'N' single space separated integers(all 0s, 1s and 2s) representing the elements in the array/list.\n",
    "Output Format :\n",
    "For each test case, print the sorted array/list elements in a row separated by a single space.\n",
    "\n",
    "Output for every test case will be printed in a separate line.\n",
    "Constraints :\n",
    "1 <= t <= 10^2\n",
    "0 <= N <= 10^5\n",
    "Time Limit: 1 sec\n",
    "Sample Input 1:\n",
    "1\n",
    "7\n",
    "0 1 2 0 2 0 1\n",
    "Sample Output 1:\n",
    "0 0 0 1 1 2 2 \n",
    "Sample Input 2:\n",
    "2\n",
    "5\n",
    "2 2 0 1 1\n",
    "7\n",
    "0 1 2 0 1 2 0\n",
    "Sample Output 2:\n",
    "0 1 1 2 2 \n",
    "0 0 0 1 1 2 2\n",
    "\n",
    "\n"
   ]
  },
  {
   "cell_type": "code",
   "execution_count": null,
   "id": "e2a3887d",
   "metadata": {},
   "outputs": [],
   "source": [
    "def sort_0_1_2(li):\n",
    "    n = len(li)\n",
    "    i=0\n",
    "    j = n-1\n",
    "    k=0\n",
    "    while i<j:\n",
    "        if li[i]==0:\n",
    "            li[j]"
   ]
  }
 ],
 "metadata": {
  "kernelspec": {
   "display_name": "Python 3 (ipykernel)",
   "language": "python",
   "name": "python3"
  },
  "language_info": {
   "codemirror_mode": {
    "name": "ipython",
    "version": 3
   },
   "file_extension": ".py",
   "mimetype": "text/x-python",
   "name": "python",
   "nbconvert_exporter": "python",
   "pygments_lexer": "ipython3",
   "version": "3.10.12"
  }
 },
 "nbformat": 4,
 "nbformat_minor": 5
}
