{
 "cells": [
  {
   "cell_type": "markdown",
   "id": "cb015460",
   "metadata": {},
   "source": [
    "Code Binary Search\n",
    "Send Feedback\n",
    "You have been given a sorted(in ascending order) integer array/list(ARR) of size N and an element X. Write a function to search this element in the given input array/list using 'Binary Search'. Return the index of the element in the input array/list. In case the element is not present in the array/list, then return -1.\n",
    "Input format :\n",
    "The first line contains an Integer 'N' which denotes the size of the array/list.\n",
    "\n",
    "Second line contains 'N' single space separated integers representing the elements in the array/list.\n",
    "\n",
    "Third line contains an Integer 't' which denotes the number of test cases or queries to be run. Then the test cases follow..\n",
    "\n",
    "All the 't' lines henceforth, will take the value of X to be searched for in the array/list.\n",
    "Output Format :\n",
    "For each test case, print the index at which X is present, -1 otherwise.\n",
    "\n",
    "Output for every test case will be printed in a separate line.\n",
    "Constraints :\n",
    "1 <= t <= 10^4\n",
    "0 <= N <= 10^6\n",
    "0 <= X <= 10^9\n",
    "Time Limit: 1 sec\n",
    "Sample Input 1:\n",
    "7\n",
    "1 3 7 9 11 12 45\n",
    "1\n",
    "3\n",
    "Sample Output 1:\n",
    "1\n",
    "Sample Input 2:\n",
    "7\n",
    "1 2 3 4 5 6 7\n",
    "2\n",
    "9\n",
    "7\n",
    "Sample Output 2:\n",
    "-1\n",
    "6\n"
   ]
  },
  {
   "cell_type": "code",
   "execution_count": 8,
   "id": "8e370195",
   "metadata": {},
   "outputs": [
    {
     "name": "stdout",
     "output_type": "stream",
     "text": [
      "7\n",
      "1 3 7 9 11 12 45\n",
      "3\n",
      "1\n"
     ]
    }
   ],
   "source": [
    "def Binary_Search(n,li,x):\n",
    "    s = 0\n",
    "    e = n-1\n",
    "    while(s<=e):\n",
    "        mid = (s+e)//2\n",
    "        if(li[mid]==x):\n",
    "            return mid\n",
    "        elif(li[mid]<x):\n",
    "            s = mid+1\n",
    "        else:\n",
    "            e = mid-1\n",
    "    return -1\n",
    "\n",
    "n = int(input())\n",
    "li = [int(x) for x in input().split()]\n",
    "x = int(input())\n",
    "ans = Binary_Search(n,li,x)\n",
    "print(ans)"
   ]
  }
 ],
 "metadata": {
  "kernelspec": {
   "display_name": "Python 3 (ipykernel)",
   "language": "python",
   "name": "python3"
  },
  "language_info": {
   "codemirror_mode": {
    "name": "ipython",
    "version": 3
   },
   "file_extension": ".py",
   "mimetype": "text/x-python",
   "name": "python",
   "nbconvert_exporter": "python",
   "pygments_lexer": "ipython3",
   "version": "3.10.12"
  }
 },
 "nbformat": 4,
 "nbformat_minor": 5
}
