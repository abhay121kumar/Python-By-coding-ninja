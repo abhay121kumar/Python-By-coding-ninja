{
 "cells": [
  {
   "cell_type": "markdown",
   "id": "7bf76953",
   "metadata": {},
   "source": [
    "Code Merge Two Sorted Arrays\n",
    "Send Feedback\n",
    "You have been given two sorted arrays/lists(ARR1 and ARR2) of size N and M respectively, merge them into a third array/list such that the third array is also sorted.\n",
    "Input Format :\n",
    "The first line contains an Integer 't' which denotes the number of test cases or queries to be run. Then the test cases follow.\n",
    "\n",
    "First line of each test case or query contains an integer 'N' representing the size of the first array/list.\n",
    "\n",
    "Second line contains 'N' single space separated integers representing the elements of the first array/list.\n",
    "\n",
    "Third line contains an integer 'M' representing the size of the second array/list.\n",
    "\n",
    "Fourth line contains 'M' single space separated integers representing the elements of the second array/list.\n",
    "Output Format :\n",
    "For each test case, print the sorted array/list(of size N + M) in a single row, separated by a single space.\n",
    "\n",
    "Output for every test case will be printed in a separate line.\n",
    "Constraints :\n",
    "1 <= t <= 10^2\n",
    "0 <= N <= 10^5\n",
    "0 <= M <= 10^5\n",
    "Time Limit: 1 sec \n",
    "Sample Input 1 :\n",
    "1\n",
    "5\n",
    "1 3 4 7 11\n",
    "4\n",
    "2 4 6 13\n",
    "Sample Output 1 :\n",
    "1 2 3 4 4 6 7 11 13 \n",
    "Sample Input 2 :\n",
    "2\n",
    "3\n",
    "10 100 500\n",
    "7\n",
    "4 7 9 25 30 300 450\n",
    "4\n",
    "7 45 89 90\n",
    "0\n",
    "Sample Output 2 :\n",
    "4 7 9 10 25 30 100 300 450 500\n",
    "7 45 89 90\n"
   ]
  },
  {
   "cell_type": "code",
   "execution_count": 3,
   "id": "14600880",
   "metadata": {},
   "outputs": [
    {
     "name": "stdout",
     "output_type": "stream",
     "text": [
      "10 100 500\n",
      "4 7 9 25 30 300 450\n",
      "[4, 7, 9, 10, 25, 30, 100, 300, 450, 500]\n"
     ]
    }
   ],
   "source": [
    "def Merge_Two_Sorted_Array(li1,li2):\n",
    "    n1 = len(li1)\n",
    "    n2 = len(li2)\n",
    "    li3 = []\n",
    "    i=0\n",
    "    j=0\n",
    "    while(i<n1 and j<n2):\n",
    "        if li1[i]<=li2[j]:\n",
    "            li3.append(li1[i])\n",
    "            i+=1\n",
    "        else:\n",
    "            li3.append(li2[j])\n",
    "            j+=1\n",
    "    while(i<n1):\n",
    "        li3.append(li1[i])\n",
    "        i+=1\n",
    "    while(j<n2):\n",
    "        li3.append(li2[j])\n",
    "        j+=1\n",
    "    return li3\n",
    "\n",
    "li1 = [int(i) for i in input().split()]\n",
    "li2 = [int(i) for i in input().split()]\n",
    "ans = Merge_Two_Sorted_Array(li1,li2)\n",
    "print(ans)"
   ]
  }
 ],
 "metadata": {
  "kernelspec": {
   "display_name": "Python 3 (ipykernel)",
   "language": "python",
   "name": "python3"
  },
  "language_info": {
   "codemirror_mode": {
    "name": "ipython",
    "version": 3
   },
   "file_extension": ".py",
   "mimetype": "text/x-python",
   "name": "python",
   "nbconvert_exporter": "python",
   "pygments_lexer": "ipython3",
   "version": "3.10.12"
  }
 },
 "nbformat": 4,
 "nbformat_minor": 5
}
