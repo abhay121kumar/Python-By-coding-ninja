{
 "cells": [
  {
   "cell_type": "code",
   "execution_count": 7,
   "id": "53cb3a75",
   "metadata": {},
   "outputs": [
    {
     "name": "stdout",
     "output_type": "stream",
     "text": [
      "0 1 5 3 0 7 2 6 0 1\n",
      "[0, 0, 0, 1, 1, 2, 3, 5, 6, 7]\n"
     ]
    }
   ],
   "source": [
    "def Selection_Sort(li):\n",
    "    n = len(li)\n",
    "    for i in range(n-1):\n",
    "        for j in range(i+1,n,1):\n",
    "            if li[i]<li[j]:\n",
    "                continue\n",
    "            else:\n",
    "#                 temp = li[i]\n",
    "#                 li[i] = li[j]\n",
    "#                 li[j] = temp\n",
    "                li[i],li[j] = li[j],li[i]\n",
    "                \n",
    "# n = int(input())\n",
    "li = [int(i) for i in input().split()]\n",
    "Selection_Sort(li)\n",
    "print(li)"
   ]
  }
 ],
 "metadata": {
  "kernelspec": {
   "display_name": "Python 3 (ipykernel)",
   "language": "python",
   "name": "python3"
  },
  "language_info": {
   "codemirror_mode": {
    "name": "ipython",
    "version": 3
   },
   "file_extension": ".py",
   "mimetype": "text/x-python",
   "name": "python",
   "nbconvert_exporter": "python",
   "pygments_lexer": "ipython3",
   "version": "3.10.12"
  }
 },
 "nbformat": 4,
 "nbformat_minor": 5
}
