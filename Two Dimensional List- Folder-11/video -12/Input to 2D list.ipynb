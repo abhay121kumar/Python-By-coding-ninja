{
 "cells": [
  {
   "cell_type": "markdown",
   "id": "b77939ee",
   "metadata": {},
   "source": [
    "n = row\n",
    "m = column"
   ]
  },
  {
   "cell_type": "code",
   "execution_count": 5,
   "id": "bc18b3e4",
   "metadata": {},
   "outputs": [
    {
     "name": "stdout",
     "output_type": "stream",
     "text": [
      "3 4\n",
      "1 2 3 4\n",
      "5 6 7 8\n",
      "9 10 1 1\n",
      "[[1, 2, 3, 4], [5, 6, 7, 8], [9, 10, 1, 1]]\n"
     ]
    }
   ],
   "source": [
    "str = input().split()\n",
    "n,m = int(str[0]),int(str[1])\n",
    "li = [[int(j) for j in input().split()] for i in range(n)]\n",
    "print(li)"
   ]
  },
  {
   "cell_type": "markdown",
   "id": "7db8079e",
   "metadata": {},
   "source": [
    "### jagged list"
   ]
  },
  {
   "cell_type": "code",
   "execution_count": 6,
   "id": "a4f286eb",
   "metadata": {},
   "outputs": [
    {
     "name": "stdout",
     "output_type": "stream",
     "text": [
      "4\n",
      "1 2 3 4\n",
      "5 6\n",
      "8\n",
      "9 0 2 10\n",
      "[[1, 2, 3, 4], [5, 6], [8], [9, 0, 2, 10]]\n"
     ]
    }
   ],
   "source": [
    "n = int(input())\n",
    "li = [[int(j) for j in input().split()] for i in range(n)]\n",
    "print(li)"
   ]
  },
  {
   "cell_type": "code",
   "execution_count": null,
   "id": "920f108b",
   "metadata": {},
   "outputs": [],
   "source": []
  }
 ],
 "metadata": {
  "kernelspec": {
   "display_name": "Python 3 (ipykernel)",
   "language": "python",
   "name": "python3"
  },
  "language_info": {
   "codemirror_mode": {
    "name": "ipython",
    "version": 3
   },
   "file_extension": ".py",
   "mimetype": "text/x-python",
   "name": "python",
   "nbconvert_exporter": "python",
   "pygments_lexer": "ipython3",
   "version": "3.10.12"
  }
 },
 "nbformat": 4,
 "nbformat_minor": 5
}
