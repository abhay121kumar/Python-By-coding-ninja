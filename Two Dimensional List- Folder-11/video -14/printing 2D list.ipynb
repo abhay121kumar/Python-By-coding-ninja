{
 "cells": [
  {
   "cell_type": "code",
   "execution_count": 1,
   "id": "42066344",
   "metadata": {},
   "outputs": [
    {
     "name": "stdout",
     "output_type": "stream",
     "text": [
      "3 4 1 2 3 4 5 6 7 8 9 10 11 12\n"
     ]
    }
   ],
   "source": [
    "str = input().split()\n",
    "n,m = int(str[0]),int(str[1])\n",
    "b = str[2:]\n",
    "li = [[int(b[m*i+j]) for j in range(m)] for i in range(n)]"
   ]
  },
  {
   "cell_type": "code",
   "execution_count": 2,
   "id": "e57538d3",
   "metadata": {},
   "outputs": [
    {
     "name": "stdout",
     "output_type": "stream",
     "text": [
      "1 2 3 4 \n",
      "5 6 7 8 \n",
      "9 10 11 12 \n"
     ]
    }
   ],
   "source": [
    "for i in range(n):\n",
    "    for j in range(m):\n",
    "        print(li[i][j],end=' ')\n",
    "    print()"
   ]
  },
  {
   "cell_type": "markdown",
   "id": "1e67ca3a",
   "metadata": {},
   "source": [
    "### for jagged list"
   ]
  },
  {
   "cell_type": "code",
   "execution_count": 4,
   "id": "664c6eec",
   "metadata": {},
   "outputs": [
    {
     "name": "stdout",
     "output_type": "stream",
     "text": [
      "4\n",
      "1 2 3 4\n",
      "4 5\n",
      "6\n",
      "7 8 9\n"
     ]
    }
   ],
   "source": [
    "n = int(input())\n",
    "li = [[int(j) for j in input().split()] for i in range(n)]"
   ]
  },
  {
   "cell_type": "code",
   "execution_count": 5,
   "id": "9b719482",
   "metadata": {},
   "outputs": [
    {
     "name": "stdout",
     "output_type": "stream",
     "text": [
      "1 2 3 4 \n",
      "4 5 \n",
      "6 \n",
      "7 8 9 \n"
     ]
    }
   ],
   "source": [
    "for i in li:\n",
    "    for j in i:\n",
    "        print(j,end=' ')\n",
    "    print()"
   ]
  },
  {
   "cell_type": "markdown",
   "id": "1553eba2",
   "metadata": {},
   "source": [
    "### Join function"
   ]
  },
  {
   "cell_type": "code",
   "execution_count": 6,
   "id": "b22068ef",
   "metadata": {},
   "outputs": [
    {
     "data": {
      "text/plain": [
       "'axybxycxyd'"
      ]
     },
     "execution_count": 6,
     "metadata": {},
     "output_type": "execute_result"
    }
   ],
   "source": [
    "'xy'.join('abcd')"
   ]
  },
  {
   "cell_type": "markdown",
   "id": "f162ed52",
   "metadata": {},
   "source": [
    "### for last d it is not appended"
   ]
  },
  {
   "cell_type": "markdown",
   "id": "2fb2db99",
   "metadata": {},
   "source": [
    "### concatenation of two string are possible \n",
    "### but\n",
    "### concatenation of string and integer are not possible"
   ]
  },
  {
   "cell_type": "code",
   "execution_count": 8,
   "id": "ff400065",
   "metadata": {},
   "outputs": [
    {
     "name": "stdout",
     "output_type": "stream",
     "text": [
      "b1\n"
     ]
    }
   ],
   "source": [
    "a = 'b'\n",
    "string = '1'\n",
    "a+=string\n",
    "print(a)"
   ]
  },
  {
   "cell_type": "code",
   "execution_count": 9,
   "id": "272d901a",
   "metadata": {},
   "outputs": [
    {
     "data": {
      "text/plain": [
       "'1aa2aa3'"
      ]
     },
     "execution_count": 9,
     "metadata": {},
     "output_type": "execute_result"
    }
   ],
   "source": [
    "'aa'.join(['1','2','3'])"
   ]
  },
  {
   "cell_type": "code",
   "execution_count": null,
   "id": "c3f7f6fd",
   "metadata": {},
   "outputs": [],
   "source": []
  },
  {
   "cell_type": "code",
   "execution_count": 10,
   "id": "eb5adc05",
   "metadata": {},
   "outputs": [
    {
     "name": "stdout",
     "output_type": "stream",
     "text": [
      "3\n",
      "1 2 3 4\n",
      "5 6\n",
      "9 10 11\n"
     ]
    }
   ],
   "source": [
    "n = int(input())\n",
    "li = [[int(j) for j in input().split()] for i in range(n)]"
   ]
  },
  {
   "cell_type": "code",
   "execution_count": 11,
   "id": "28f2cafa",
   "metadata": {},
   "outputs": [
    {
     "ename": "TypeError",
     "evalue": "'list' object is not callable",
     "output_type": "error",
     "traceback": [
      "\u001b[0;31m---------------------------------------------------------------------------\u001b[0m",
      "\u001b[0;31mTypeError\u001b[0m                                 Traceback (most recent call last)",
      "Cell \u001b[0;32mIn[11], line 2\u001b[0m\n\u001b[1;32m      1\u001b[0m \u001b[38;5;28;01mfor\u001b[39;00m i \u001b[38;5;129;01min\u001b[39;00m li:\n\u001b[0;32m----> 2\u001b[0m     ans \u001b[38;5;241m=\u001b[39m \u001b[38;5;124m'\u001b[39m\u001b[38;5;124m \u001b[39m\u001b[38;5;124m'\u001b[39m\u001b[38;5;241m.\u001b[39mjoin([\u001b[38;5;28mstr\u001b[39m(ele) \u001b[38;5;28;01mfor\u001b[39;00m ele \u001b[38;5;129;01min\u001b[39;00m i])\n\u001b[1;32m      3\u001b[0m     \u001b[38;5;28mprint\u001b[39m(ans)\n",
      "Cell \u001b[0;32mIn[11], line 2\u001b[0m, in \u001b[0;36m<listcomp>\u001b[0;34m(.0)\u001b[0m\n\u001b[1;32m      1\u001b[0m \u001b[38;5;28;01mfor\u001b[39;00m i \u001b[38;5;129;01min\u001b[39;00m li:\n\u001b[0;32m----> 2\u001b[0m     ans \u001b[38;5;241m=\u001b[39m \u001b[38;5;124m'\u001b[39m\u001b[38;5;124m \u001b[39m\u001b[38;5;124m'\u001b[39m\u001b[38;5;241m.\u001b[39mjoin([\u001b[38;5;28;43mstr\u001b[39;49m\u001b[43m(\u001b[49m\u001b[43mele\u001b[49m\u001b[43m)\u001b[49m \u001b[38;5;28;01mfor\u001b[39;00m ele \u001b[38;5;129;01min\u001b[39;00m i])\n\u001b[1;32m      3\u001b[0m     \u001b[38;5;28mprint\u001b[39m(ans)\n",
      "\u001b[0;31mTypeError\u001b[0m: 'list' object is not callable"
     ]
    }
   ],
   "source": [
    "for i in li:\n",
    "    ans = ' '.join([str(ele) for ele in i])\n",
    "    print(ans)"
   ]
  },
  {
   "cell_type": "markdown",
   "id": "6b72b439",
   "metadata": {},
   "source": [
    "## in sir compiler above code is running "
   ]
  },
  {
   "cell_type": "code",
   "execution_count": null,
   "id": "a331ab46",
   "metadata": {},
   "outputs": [],
   "source": [
    "for i in li:\n",
    "    ans = ' '.join([str(ele) for ele in i])\n",
    "    print(ans)"
   ]
  }
 ],
 "metadata": {
  "kernelspec": {
   "display_name": "Python 3 (ipykernel)",
   "language": "python",
   "name": "python3"
  },
  "language_info": {
   "codemirror_mode": {
    "name": "ipython",
    "version": 3
   },
   "file_extension": ".py",
   "mimetype": "text/x-python",
   "name": "python",
   "nbconvert_exporter": "python",
   "pygments_lexer": "ipython3",
   "version": "3.10.12"
  }
 },
 "nbformat": 4,
 "nbformat_minor": 5
}
