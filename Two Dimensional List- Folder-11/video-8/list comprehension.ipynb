{
 "cells": [
  {
   "cell_type": "code",
   "execution_count": 2,
   "id": "b8c82cf1",
   "metadata": {},
   "outputs": [
    {
     "name": "stdout",
     "output_type": "stream",
     "text": [
      "[1, 4, 16, 25]\n"
     ]
    }
   ],
   "source": [
    "li = [1,2,4,5]\n",
    "li_new = []\n",
    "for ele in li:\n",
    "    li_new.append(ele**2)\n",
    "print(li_new)"
   ]
  },
  {
   "cell_type": "markdown",
   "id": "b7fee77f",
   "metadata": {},
   "source": [
    "### M-2 using kist comprehension"
   ]
  },
  {
   "cell_type": "code",
   "execution_count": 3,
   "id": "0e1973c0",
   "metadata": {},
   "outputs": [
    {
     "name": "stdout",
     "output_type": "stream",
     "text": [
      "[1, 4, 16, 25]\n"
     ]
    }
   ],
   "source": [
    "li_comp = [ele**2 for ele in li]\n",
    "print(li_comp)"
   ]
  },
  {
   "cell_type": "code",
   "execution_count": 4,
   "id": "fdf68706",
   "metadata": {},
   "outputs": [
    {
     "name": "stdout",
     "output_type": "stream",
     "text": [
      "[4, 16]\n"
     ]
    }
   ],
   "source": [
    "li_even = [ele**2 for ele in li if ele%2==0]\n",
    "\n",
    "print(li_even)"
   ]
  },
  {
   "cell_type": "code",
   "execution_count": 7,
   "id": "214c65d1",
   "metadata": {},
   "outputs": [
    {
     "name": "stdout",
     "output_type": "stream",
     "text": [
      "[8, 64]\n"
     ]
    }
   ],
   "source": [
    "li_even_cube = []\n",
    "for ele in li:\n",
    "    if ele%2==0:\n",
    "        li_even_cube.append(ele**3)\n",
    "        \n",
    "print(li_even_cube)"
   ]
  },
  {
   "cell_type": "code",
   "execution_count": null,
   "id": "26999d06",
   "metadata": {},
   "outputs": [],
   "source": []
  },
  {
   "cell_type": "code",
   "execution_count": 9,
   "id": "c8f75bb7",
   "metadata": {},
   "outputs": [
    {
     "name": "stdout",
     "output_type": "stream",
     "text": [
      "[6]\n"
     ]
    }
   ],
   "source": [
    "li_2 = [1,2,3,4,5,6,7,8,9]\n",
    "li_new = []\n",
    "for ele in li_2:\n",
    "    if ele%2==0:\n",
    "        if ele%3==0:\n",
    "            li_new.append(ele)\n",
    "            \n",
    "print(li_new)"
   ]
  },
  {
   "cell_type": "code",
   "execution_count": 11,
   "id": "688e10e7",
   "metadata": {},
   "outputs": [
    {
     "name": "stdout",
     "output_type": "stream",
     "text": [
      "[6, 12]\n"
     ]
    }
   ],
   "source": [
    "li_new_2 = [1,2,3,4,5,6,7,8,9,12]\n",
    "li_22 = [ele for ele in li_new_2 if ele%2==0 if ele%3==0]\n",
    "print(li_22)"
   ]
  },
  {
   "cell_type": "code",
   "execution_count": null,
   "id": "01ac2861",
   "metadata": {},
   "outputs": [],
   "source": []
  },
  {
   "cell_type": "code",
   "execution_count": 12,
   "id": "7d22d897",
   "metadata": {},
   "outputs": [
    {
     "name": "stdout",
     "output_type": "stream",
     "text": [
      "[2, 3, 4]\n"
     ]
    }
   ],
   "source": [
    "li_1 = [1,2,3,4,5]\n",
    "li_2 = [2,3,4,6,7,8]\n",
    "li_3 = []\n",
    "for ele in li_1:\n",
    "    for ele2 in li_2:\n",
    "        if ele==ele2:\n",
    "            li_3.append(ele)\n",
    "            \n",
    "print(li_3)"
   ]
  },
  {
   "cell_type": "code",
   "execution_count": 14,
   "id": "4c54516b",
   "metadata": {},
   "outputs": [
    {
     "name": "stdout",
     "output_type": "stream",
     "text": [
      "[2, 4]\n"
     ]
    }
   ],
   "source": [
    "li_1 = [1,2,4,5]\n",
    "li_2 = [2,3,4,6,7,8]\n",
    "li_inter = [ele for ele in li_1 for ele2 in li_2 if ele==ele2]\n",
    "print(li_inter)"
   ]
  },
  {
   "cell_type": "code",
   "execution_count": null,
   "id": "f55bb3a3",
   "metadata": {},
   "outputs": [],
   "source": []
  },
  {
   "cell_type": "code",
   "execution_count": 15,
   "id": "470e04c1",
   "metadata": {},
   "outputs": [
    {
     "name": "stdout",
     "output_type": "stream",
     "text": [
      "[1, 4, 3, 16, 5, 36]\n"
     ]
    }
   ],
   "source": [
    "li = [1,2,3,4,5,6]\n",
    "li_ifelse = [ele**2 if ele%2==0 else ele for ele in li]\n",
    "print(li_ifelse)"
   ]
  },
  {
   "cell_type": "code",
   "execution_count": 16,
   "id": "6fdca7b3",
   "metadata": {},
   "outputs": [
    {
     "name": "stdout",
     "output_type": "stream",
     "text": [
      "['P', 'a', 'r', 'i', 'k', 'h']\n"
     ]
    }
   ],
   "source": [
    "s = \"Parikh\"\n",
    "li = [ele for ele in s]\n",
    "print(li)"
   ]
  },
  {
   "cell_type": "code",
   "execution_count": 17,
   "id": "4598ea9e",
   "metadata": {},
   "outputs": [
    {
     "name": "stdout",
     "output_type": "stream",
     "text": [
      "['Parikh', 'Parikh', 'Parikh', 'Parikh', 'Parikh', 'Parikh']\n"
     ]
    }
   ],
   "source": [
    "s = \"Parikh\"\n",
    "li = [s for ele in s]\n",
    "print(li)"
   ]
  },
  {
   "cell_type": "code",
   "execution_count": null,
   "id": "b69af414",
   "metadata": {},
   "outputs": [],
   "source": []
  },
  {
   "cell_type": "code",
   "execution_count": 18,
   "id": "3751699a",
   "metadata": {},
   "outputs": [
    {
     "name": "stdout",
     "output_type": "stream",
     "text": [
      "[['P', 'a', 'r', 'i', 'k', 'h'], ['R', 'o', 'h', 'a', 'n'], ['A', 'n', 'k', 'u', 's', 'h']]\n"
     ]
    }
   ],
   "source": [
    "li = [\"Parikh\",\"Rohan\",\"Ankush\"]\n",
    "li_2d = [[s for s in ele] for ele in li]\n",
    "print(li_2d)"
   ]
  },
  {
   "cell_type": "code",
   "execution_count": null,
   "id": "704c43bf",
   "metadata": {},
   "outputs": [],
   "source": []
  }
 ],
 "metadata": {
  "kernelspec": {
   "display_name": "Python 3 (ipykernel)",
   "language": "python",
   "name": "python3"
  },
  "language_info": {
   "codemirror_mode": {
    "name": "ipython",
    "version": 3
   },
   "file_extension": ".py",
   "mimetype": "text/x-python",
   "name": "python",
   "nbconvert_exporter": "python",
   "pygments_lexer": "ipython3",
   "version": "3.10.12"
  }
 },
 "nbformat": 4,
 "nbformat_minor": 5
}
