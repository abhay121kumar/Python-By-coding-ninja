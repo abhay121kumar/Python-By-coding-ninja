{
 "cells": [
  {
   "cell_type": "markdown",
   "id": "a72f05db",
   "metadata": {},
   "source": [
    "Compress the String\n",
    "Send Feedback\n",
    "### Write a program to do basic string compression. For a character which is consecutively repeated more than once, replace consecutive duplicate occurrences with the count of repetitions.\n",
    "Exmple:\n",
    "If a string has 'x' repeated 5 times, replace this \"xxxxx\" with \"x5\".\n",
    "\n",
    "The string is compressed only when the repeated character count is more than 1.\n",
    "Note :\n",
    "Consecutive count of every character in the input string is less than or equal to 9.\n",
    "Input Format:\n",
    "The first and only line of input contains a string without any leading and trailing spaces.\n",
    "Output Format:\n",
    "The only line of output prints the updated string.\n",
    "Note:\n",
    "You are not required to print anything. It has already been taken care of.\n",
    "Constraints:\n",
    "0 <= N <= 10^6\n",
    "Where N is the length of the input string.\n",
    "\n",
    "Time Limit: 1 second\n",
    "Sample Input 1:\n",
    "aaabbccdsa\n",
    "Sample Output 1:\n",
    "a3b2c2dsa\n",
    "Sample Input 2:\n",
    "aaabbcddeeeee\n",
    "Sample Output 2:\n",
    "a3b2cd2e5\n",
    "\n"
   ]
  },
  {
   "cell_type": "code",
   "execution_count": 21,
   "id": "a407f5ac",
   "metadata": {},
   "outputs": [
    {
     "name": "stdout",
     "output_type": "stream",
     "text": [
      "aaabbcddeeeee\n"
     ]
    },
    {
     "ename": "TypeError",
     "evalue": "can only concatenate str (not \"int\") to str",
     "output_type": "error",
     "traceback": [
      "\u001b[0;31m---------------------------------------------------------------------------\u001b[0m",
      "\u001b[0;31mTypeError\u001b[0m                                 Traceback (most recent call last)",
      "Cell \u001b[0;32mIn[21], line 17\u001b[0m\n\u001b[1;32m     15\u001b[0m     \u001b[38;5;28;01mreturn\u001b[39;00m ans      \n\u001b[1;32m     16\u001b[0m \u001b[38;5;28mstr\u001b[39m \u001b[38;5;241m=\u001b[39m \u001b[38;5;28minput\u001b[39m()\n\u001b[0;32m---> 17\u001b[0m ans \u001b[38;5;241m=\u001b[39m \u001b[43mCompress_the_String\u001b[49m\u001b[43m(\u001b[49m\u001b[38;5;28;43mstr\u001b[39;49m\u001b[43m)\u001b[49m\n\u001b[1;32m     18\u001b[0m \u001b[38;5;28mprint\u001b[39m(ans)\n",
      "Cell \u001b[0;32mIn[21], line 11\u001b[0m, in \u001b[0;36mCompress_the_String\u001b[0;34m(str)\u001b[0m\n\u001b[1;32m      9\u001b[0m     ans\u001b[38;5;241m+\u001b[39m\u001b[38;5;241m=\u001b[39mchar\n\u001b[1;32m     10\u001b[0m     x \u001b[38;5;241m=\u001b[39m li[\u001b[38;5;28mord\u001b[39m(char)]\n\u001b[0;32m---> 11\u001b[0m     ans\u001b[38;5;241m+\u001b[39m\u001b[38;5;241m=\u001b[39mx\n\u001b[1;32m     12\u001b[0m \u001b[38;5;28;01melse\u001b[39;00m:\n\u001b[1;32m     13\u001b[0m     ans\u001b[38;5;241m+\u001b[39m\u001b[38;5;241m=\u001b[39mchar\n",
      "\u001b[0;31mTypeError\u001b[0m: can only concatenate str (not \"int\") to str"
     ]
    }
   ],
   "source": [
    "def Compress_the_String(str):\n",
    "    count=1\n",
    "    ans = \"\"\n",
    "    li = [0]*256\n",
    "    for i in str:\n",
    "        li[ord(i)]+=1\n",
    "    for char in str:\n",
    "        if li[ord(char)]>=2:\n",
    "            ans+=char\n",
    "            x = li[ord(char)]\n",
    "            ans+=x\n",
    "        else:\n",
    "            ans+=char\n",
    "            \n",
    "    return ans      \n",
    "str = input()\n",
    "ans = Compress_the_String(str)\n",
    "print(ans)"
   ]
  },
  {
   "cell_type": "code",
   "execution_count": 5,
   "id": "55676351",
   "metadata": {},
   "outputs": [
    {
     "name": "stdout",
     "output_type": "stream",
     "text": [
      "abc1\n"
     ]
    }
   ],
   "source": [
    "str = \"abc\"\n",
    "str+=\"1\"\n",
    "print(str)"
   ]
  },
  {
   "cell_type": "code",
   "execution_count": 20,
   "id": "b5a1d851",
   "metadata": {},
   "outputs": [
    {
     "ename": "TypeError",
     "evalue": "'str' object is not callable",
     "output_type": "error",
     "traceback": [
      "\u001b[0;31m---------------------------------------------------------------------------\u001b[0m",
      "\u001b[0;31mTypeError\u001b[0m                                 Traceback (most recent call last)",
      "Cell \u001b[0;32mIn[20], line 10\u001b[0m\n\u001b[1;32m      8\u001b[0m ans \u001b[38;5;241m=\u001b[39m \u001b[38;5;124m\"\u001b[39m\u001b[38;5;124m\"\u001b[39m\n\u001b[1;32m      9\u001b[0m i\u001b[38;5;241m=\u001b[39m\u001b[38;5;241m3\u001b[39m\n\u001b[0;32m---> 10\u001b[0m ans\u001b[38;5;241m+\u001b[39m\u001b[38;5;241m=\u001b[39m\u001b[38;5;28;43mstr\u001b[39;49m\u001b[43m(\u001b[49m\u001b[43mi\u001b[49m\u001b[43m)\u001b[49m\n\u001b[1;32m     11\u001b[0m \u001b[38;5;28mprint\u001b[39m(ans)\n",
      "\u001b[0;31mTypeError\u001b[0m: 'str' object is not callable"
     ]
    }
   ],
   "source": [
    "# li = [1,2,3,67,4]\n",
    "# x = li[3]\n",
    "# print(x)\n",
    "# ans = 'a'\n",
    "# ans+=str(x)\n",
    "# print(ans)\n",
    "import string\n",
    "ans = \"\"\n",
    "i=3\n",
    "ans+=str(i)\n",
    "print(ans)"
   ]
  }
 ],
 "metadata": {
  "kernelspec": {
   "display_name": "Python 3 (ipykernel)",
   "language": "python",
   "name": "python3"
  },
  "language_info": {
   "codemirror_mode": {
    "name": "ipython",
    "version": 3
   },
   "file_extension": ".py",
   "mimetype": "text/x-python",
   "name": "python",
   "nbconvert_exporter": "python",
   "pygments_lexer": "ipython3",
   "version": "3.10.12"
  }
 },
 "nbformat": 4,
 "nbformat_minor": 5
}
