{
 "cells": [
  {
   "cell_type": "markdown",
   "id": "1005b0e4",
   "metadata": {},
   "source": [
    "Check Permutation\n",
    "Send Feedback\n",
    "For a given two strings, 'str1' and 'str2', check whether they are a permutation of each other or not.\n",
    "Permutations of each other\n",
    "### Two strings are said to be a permutation of each other when either of the string's characters can be rearranged so that it becomes identical to the other one.\n",
    "\n",
    "Example: \n",
    "str1= \"sinrtg\" \n",
    "str2 = \"string\"\n",
    "\n",
    "The character of the first string(str1) can be rearranged to form str2 and hence we can say that the given strings are a permutation of each other.\n",
    "Input Format:\n",
    "The first line of input contains a string without any leading and trailing spaces, representing the first string 'str1'.\n",
    "\n",
    "The second line of input contains a string without any leading and trailing spaces, representing the second string 'str2'.\n",
    "Note:\n",
    "### All the characters in the input strings would be in lower case.\n",
    "Output Format:\n",
    "The only line of output prints either 'true' or 'false', denoting whether the two strings are a permutation of each other or not.\n",
    "\n",
    "You are not required to print anything. It has already been taken care of. Just implement the function. \n",
    "Constraints:\n",
    "0 <= N <= 10^6\n",
    "Where N is the length of the input string.\n",
    "\n",
    "Time Limit: 1 second\n",
    "Sample Input 1:\n",
    "abcde\n",
    "baedc\n",
    "Sample Output 1:\n",
    "true\n",
    "Sample Input 2:\n",
    "abc\n",
    "cbd\n",
    "Sample Output 2:\n",
    "false\n"
   ]
  },
  {
   "cell_type": "markdown",
   "id": "35c13d6a",
   "metadata": {},
   "source": [
    "## M-1"
   ]
  },
  {
   "cell_type": "code",
   "execution_count": 4,
   "id": "ed98879e",
   "metadata": {},
   "outputs": [
    {
     "name": "stdout",
     "output_type": "stream",
     "text": [
      "abcde\n",
      "baedcc\n",
      "False\n"
     ]
    }
   ],
   "source": [
    "def checkPermutation(str1,str2):\n",
    "    count=0\n",
    "    for char1 in str1:\n",
    "        for char2 in str2:\n",
    "            if char1==char2:\n",
    "                count+=1\n",
    "                char2 = '-1'\n",
    "    if count==len(str1):\n",
    "        return True\n",
    "    else:\n",
    "        return False\n",
    "\n",
    "str1 = input()\n",
    "str2 = input()\n",
    "print(checkPermutation(str1,str2))"
   ]
  },
  {
   "cell_type": "markdown",
   "id": "bfa3dd65",
   "metadata": {},
   "source": [
    "## M-2"
   ]
  },
  {
   "cell_type": "code",
   "execution_count": 39,
   "id": "cf8102b8",
   "metadata": {},
   "outputs": [
    {
     "name": "stdout",
     "output_type": "stream",
     "text": [
      "112\n",
      "211\n",
      "True\n"
     ]
    }
   ],
   "source": [
    "def checkPermutation(str1,str2):\n",
    "    if len(str1)!=len(str2):\n",
    "        return False\n",
    "    li = [None]*256\n",
    "    for i in range(256):\n",
    "        li[i] = 0\n",
    "    for char1 in str1:\n",
    "        li[ord(char1)] +=1\n",
    "    for char2 in str2:\n",
    "        li[ord(char2)] -=1\n",
    "    \n",
    "    for i in range(256):\n",
    "        if li[i]!=0:\n",
    "            return False\n",
    "    return True\n",
    "\n",
    "str1 = input()\n",
    "str2 = input()\n",
    "print(checkPermutation(str1,str2))"
   ]
  },
  {
   "cell_type": "code",
   "execution_count": 41,
   "id": "cc8e4df8",
   "metadata": {},
   "outputs": [
    {
     "name": "stdout",
     "output_type": "stream",
     "text": [
      "0\n",
      "0\n",
      "0\n"
     ]
    }
   ],
   "source": [
    "li = [None]*256\n",
    "for i in range(256):\n",
    "    li[i] = 0\n",
    "    \n",
    "for i in range(3):\n",
    "    print(li[i])"
   ]
  },
  {
   "cell_type": "code",
   "execution_count": 25,
   "id": "41feca75",
   "metadata": {},
   "outputs": [
    {
     "name": "stdout",
     "output_type": "stream",
     "text": [
      "97\n",
      "98\n",
      "99\n",
      "100\n"
     ]
    }
   ],
   "source": [
    "str = 'abcd'\n",
    "for char1 in str:\n",
    "    print(ord(char1))"
   ]
  },
  {
   "cell_type": "markdown",
   "id": "b0b8bea6",
   "metadata": {},
   "source": [
    "### M-3"
   ]
  },
  {
   "cell_type": "code",
   "execution_count": 31,
   "id": "28b61b1f",
   "metadata": {},
   "outputs": [
    {
     "name": "stdout",
     "output_type": "stream",
     "text": [
      "abcde\n",
      "edcab\n",
      "True\n"
     ]
    }
   ],
   "source": [
    "def checkPermutation(str1,str2):\n",
    "    count=0\n",
    "    for char1 in str1:\n",
    "        index = str2.find(char1)\n",
    "        if(index!=-1):\n",
    "            char1 = '-2'\n",
    "            count+=1\n",
    "    if(len(str2)==count):\n",
    "        return True\n",
    "    else:\n",
    "        return False\n",
    "    \n",
    "str1 = input()\n",
    "str2 = input()\n",
    "print(checkPermutation(str1,str2))"
   ]
  }
 ],
 "metadata": {
  "kernelspec": {
   "display_name": "Python 3 (ipykernel)",
   "language": "python",
   "name": "python3"
  },
  "language_info": {
   "codemirror_mode": {
    "name": "ipython",
    "version": 3
   },
   "file_extension": ".py",
   "mimetype": "text/x-python",
   "name": "python",
   "nbconvert_exporter": "python",
   "pygments_lexer": "ipython3",
   "version": "3.10.12"
  }
 },
 "nbformat": 4,
 "nbformat_minor": 5
}
