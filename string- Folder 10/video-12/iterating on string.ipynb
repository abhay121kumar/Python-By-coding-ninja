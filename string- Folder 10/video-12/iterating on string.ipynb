{
 "cells": [
  {
   "cell_type": "markdown",
   "id": "9d6d5283",
   "metadata": {},
   "source": [
    "how to iterate on string"
   ]
  },
  {
   "cell_type": "code",
   "execution_count": 1,
   "id": "9f19fdaa",
   "metadata": {},
   "outputs": [],
   "source": [
    "str = \"Hello World\""
   ]
  },
  {
   "cell_type": "code",
   "execution_count": 2,
   "id": "21476589",
   "metadata": {},
   "outputs": [
    {
     "name": "stdout",
     "output_type": "stream",
     "text": [
      "3\n"
     ]
    }
   ],
   "source": [
    "#each character on string\n",
    "count = 0\n",
    "for letter in str:\n",
    "    if (letter == 'l'):\n",
    "        count = count + 1\n",
    "print(count)"
   ]
  },
  {
   "cell_type": "code",
   "execution_count": 3,
   "id": "508a8e5f",
   "metadata": {},
   "outputs": [
    {
     "name": "stdout",
     "output_type": "stream",
     "text": [
      "3\n"
     ]
    }
   ],
   "source": [
    "#index wise\n",
    "count = 0\n",
    "for i in range(len(str)):\n",
    "    if(str[i]=='l'):\n",
    "        count+=1\n",
    "print(count)"
   ]
  },
  {
   "cell_type": "markdown",
   "id": "d80a5b38",
   "metadata": {},
   "source": [
    "### in and notin operation on string"
   ]
  },
  {
   "cell_type": "markdown",
   "id": "16de97c6",
   "metadata": {},
   "source": [
    "#### if you want to check weather a substring i part of string or not u can use in operator"
   ]
  },
  {
   "cell_type": "markdown",
   "id": "83aba49a",
   "metadata": {},
   "source": [
    "### notin operator check wheather that substring present or not"
   ]
  },
  {
   "cell_type": "code",
   "execution_count": 4,
   "id": "de61ca7d",
   "metadata": {},
   "outputs": [],
   "source": [
    "str = \"hello\""
   ]
  },
  {
   "cell_type": "code",
   "execution_count": 5,
   "id": "b0696514",
   "metadata": {},
   "outputs": [
    {
     "name": "stdout",
     "output_type": "stream",
     "text": [
      "yes it is substring\n"
     ]
    }
   ],
   "source": [
    "if 'hel' in str:\n",
    "    print(\"yes it is substring\")"
   ]
  },
  {
   "cell_type": "code",
   "execution_count": 6,
   "id": "ad2b8867",
   "metadata": {},
   "outputs": [
    {
     "name": "stdout",
     "output_type": "stream",
     "text": [
      "yes it is substring\n"
     ]
    }
   ],
   "source": [
    "if 'hel' in str:\n",
    "    print(\"yes it is substring\")\n",
    "else:\n",
    "    print(\"no it is not substring\")"
   ]
  },
  {
   "cell_type": "code",
   "execution_count": 7,
   "id": "8aabd4c9",
   "metadata": {},
   "outputs": [
    {
     "name": "stdout",
     "output_type": "stream",
     "text": [
      "no it is not substring\n"
     ]
    }
   ],
   "source": [
    "if 'hol' in str:\n",
    "    print(\"yes it is substring\")\n",
    "else:\n",
    "    print(\"no it is not substring\")"
   ]
  },
  {
   "cell_type": "code",
   "execution_count": 8,
   "id": "9e72a0f9",
   "metadata": {},
   "outputs": [
    {
     "name": "stdout",
     "output_type": "stream",
     "text": [
      "yes it is not a substring\n"
     ]
    }
   ],
   "source": [
    "if 'hol' not in str:\n",
    "    print(\"yes it is not a substring\")\n",
    "else:\n",
    "    print(\"no it is a substring\")"
   ]
  },
  {
   "cell_type": "code",
   "execution_count": null,
   "id": "6ca52c4d",
   "metadata": {},
   "outputs": [],
   "source": []
  }
 ],
 "metadata": {
  "kernelspec": {
   "display_name": "Python 3 (ipykernel)",
   "language": "python",
   "name": "python3"
  },
  "language_info": {
   "codemirror_mode": {
    "name": "ipython",
    "version": 3
   },
   "file_extension": ".py",
   "mimetype": "text/x-python",
   "name": "python",
   "nbconvert_exporter": "python",
   "pygments_lexer": "ipython3",
   "version": "3.10.12"
  }
 },
 "nbformat": 4,
 "nbformat_minor": 5
}
