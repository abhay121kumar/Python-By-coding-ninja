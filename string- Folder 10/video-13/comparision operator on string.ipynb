{
 "cells": [
  {
   "cell_type": "markdown",
   "id": "495d53da",
   "metadata": {},
   "source": [
    "### >= <= < > == !="
   ]
  },
  {
   "cell_type": "markdown",
   "id": "8aff7fd6",
   "metadata": {},
   "source": [
    "comparision on the basic of ascii value\n",
    "A-65 . .\n",
    "a-97 . ."
   ]
  },
  {
   "cell_type": "code",
   "execution_count": 1,
   "id": "de383a8c",
   "metadata": {},
   "outputs": [],
   "source": [
    "a = \"Parikh\" == \"Parikh\""
   ]
  },
  {
   "cell_type": "code",
   "execution_count": 2,
   "id": "d708193c",
   "metadata": {},
   "outputs": [
    {
     "data": {
      "text/plain": [
       "True"
      ]
     },
     "execution_count": 2,
     "metadata": {},
     "output_type": "execute_result"
    }
   ],
   "source": [
    "a"
   ]
  },
  {
   "cell_type": "code",
   "execution_count": 3,
   "id": "d8846469",
   "metadata": {},
   "outputs": [],
   "source": [
    "a = \"Rarikh\" >= \"Parikh\""
   ]
  },
  {
   "cell_type": "code",
   "execution_count": 4,
   "id": "4ad81283",
   "metadata": {},
   "outputs": [
    {
     "data": {
      "text/plain": [
       "True"
      ]
     },
     "execution_count": 4,
     "metadata": {},
     "output_type": "execute_result"
    }
   ],
   "source": [
    "a"
   ]
  },
  {
   "cell_type": "code",
   "execution_count": 5,
   "id": "85e476b6",
   "metadata": {},
   "outputs": [],
   "source": [
    "a = \"Pbrikh\" >= \"Parikh\""
   ]
  },
  {
   "cell_type": "code",
   "execution_count": 6,
   "id": "2ed47774",
   "metadata": {},
   "outputs": [
    {
     "data": {
      "text/plain": [
       "True"
      ]
     },
     "execution_count": 6,
     "metadata": {},
     "output_type": "execute_result"
    }
   ],
   "source": [
    "a"
   ]
  },
  {
   "cell_type": "code",
   "execution_count": 7,
   "id": "c74cbfbc",
   "metadata": {},
   "outputs": [],
   "source": [
    "a = \"parikh\" >= \"Parikh\""
   ]
  },
  {
   "cell_type": "code",
   "execution_count": 8,
   "id": "74b8703e",
   "metadata": {},
   "outputs": [
    {
     "data": {
      "text/plain": [
       "True"
      ]
     },
     "execution_count": 8,
     "metadata": {},
     "output_type": "execute_result"
    }
   ],
   "source": [
    "a"
   ]
  },
  {
   "cell_type": "code",
   "execution_count": 9,
   "id": "f04c52d3",
   "metadata": {},
   "outputs": [],
   "source": [
    "a = \"par\" >= \"parikh\""
   ]
  },
  {
   "cell_type": "code",
   "execution_count": 10,
   "id": "12e6de0d",
   "metadata": {},
   "outputs": [
    {
     "data": {
      "text/plain": [
       "False"
      ]
     },
     "execution_count": 10,
     "metadata": {},
     "output_type": "execute_result"
    }
   ],
   "source": [
    "a"
   ]
  },
  {
   "cell_type": "code",
   "execution_count": 11,
   "id": "da5efd59",
   "metadata": {},
   "outputs": [
    {
     "data": {
      "text/plain": [
       "True"
      ]
     },
     "execution_count": 11,
     "metadata": {},
     "output_type": "execute_result"
    }
   ],
   "source": [
    "\"parikh\" >= \"par\""
   ]
  },
  {
   "cell_type": "code",
   "execution_count": 13,
   "id": "3ec4d4a5",
   "metadata": {},
   "outputs": [
    {
     "data": {
      "text/plain": [
       "True"
      ]
     },
     "execution_count": 13,
     "metadata": {},
     "output_type": "execute_result"
    }
   ],
   "source": [
    "\"parikh\" >= \"parikh\""
   ]
  },
  {
   "cell_type": "code",
   "execution_count": 14,
   "id": "f118b2bc",
   "metadata": {},
   "outputs": [
    {
     "data": {
      "text/plain": [
       "False"
      ]
     },
     "execution_count": 14,
     "metadata": {},
     "output_type": "execute_result"
    }
   ],
   "source": [
    "\"parikh\" > \"parikh\""
   ]
  },
  {
   "cell_type": "code",
   "execution_count": 15,
   "id": "d6fb66c4",
   "metadata": {},
   "outputs": [
    {
     "data": {
      "text/plain": [
       "False"
      ]
     },
     "execution_count": 15,
     "metadata": {},
     "output_type": "execute_result"
    }
   ],
   "source": [
    "\"parikh\" != \"parikh\""
   ]
  },
  {
   "cell_type": "code",
   "execution_count": 20,
   "id": "4eabceab",
   "metadata": {},
   "outputs": [
    {
     "data": {
      "text/plain": [
       "True"
      ]
     },
     "execution_count": 20,
     "metadata": {},
     "output_type": "execute_result"
    }
   ],
   "source": [
    "\"par\" != \"parikh\""
   ]
  },
  {
   "cell_type": "code",
   "execution_count": null,
   "id": "fda1ccfd",
   "metadata": {},
   "outputs": [],
   "source": []
  },
  {
   "cell_type": "code",
   "execution_count": 19,
   "id": "7ebeb192",
   "metadata": {},
   "outputs": [
    {
     "data": {
      "text/plain": [
       "True"
      ]
     },
     "execution_count": 19,
     "metadata": {},
     "output_type": "execute_result"
    }
   ],
   "source": [
    "\"abce\" >= \"abcdef\""
   ]
  },
  {
   "cell_type": "code",
   "execution_count": null,
   "id": "cad9195a",
   "metadata": {},
   "outputs": [],
   "source": []
  },
  {
   "cell_type": "code",
   "execution_count": null,
   "id": "ecc33955",
   "metadata": {},
   "outputs": [],
   "source": []
  }
 ],
 "metadata": {
  "kernelspec": {
   "display_name": "Python 3 (ipykernel)",
   "language": "python",
   "name": "python3"
  },
  "language_info": {
   "codemirror_mode": {
    "name": "ipython",
    "version": 3
   },
   "file_extension": ".py",
   "mimetype": "text/x-python",
   "name": "python",
   "nbconvert_exporter": "python",
   "pygments_lexer": "ipython3",
   "version": "3.10.12"
  }
 },
 "nbformat": 4,
 "nbformat_minor": 5
}
