{
 "cells": [
  {
   "cell_type": "markdown",
   "id": "3f58c6b5",
   "metadata": {},
   "source": [
    "## function on string"
   ]
  },
  {
   "cell_type": "markdown",
   "id": "44300907",
   "metadata": {},
   "source": [
    "### split"
   ]
  },
  {
   "cell_type": "code",
   "execution_count": 1,
   "id": "42435a3a",
   "metadata": {},
   "outputs": [
    {
     "name": "stdout",
     "output_type": "stream",
     "text": [
      "['My', 'name', 'is', 'Parikh']\n"
     ]
    }
   ],
   "source": [
    "str = \"My name is Parikh\"\n",
    "li = str.split()\n",
    "print(li)\n",
    "#by defult it split on the basic of space"
   ]
  },
  {
   "cell_type": "code",
   "execution_count": 3,
   "id": "cc9a30ec",
   "metadata": {},
   "outputs": [
    {
     "name": "stdout",
     "output_type": "stream",
     "text": [
      "['Myna', 'mei', 'sPar', 'ikh']\n"
     ]
    }
   ],
   "source": [
    "str = \"Myna?mei?sPar?ikh\"\n",
    "li = str.split('?')\n",
    "print(li)"
   ]
  },
  {
   "cell_type": "code",
   "execution_count": 4,
   "id": "9934f09e",
   "metadata": {},
   "outputs": [
    {
     "name": "stdout",
     "output_type": "stream",
     "text": [
      "['M', 'y na', 'me i', 's Par', 'ikh']\n"
     ]
    }
   ],
   "source": [
    "str = \"M,y na,me i,s Par,ikh\"\n",
    "li = str.split(',')\n",
    "print(li)"
   ]
  },
  {
   "cell_type": "code",
   "execution_count": 6,
   "id": "653a91b7",
   "metadata": {},
   "outputs": [
    {
     "name": "stdout",
     "output_type": "stream",
     "text": [
      "['My', 'name&is&Parikh']\n"
     ]
    }
   ],
   "source": [
    " str = \"My&name&is&Parikh\"\n",
    "li = str.split('&',1)\n",
    "print(li)"
   ]
  },
  {
   "cell_type": "markdown",
   "id": "b1a3fa6d",
   "metadata": {},
   "source": [
    "### replace"
   ]
  },
  {
   "cell_type": "code",
   "execution_count": 8,
   "id": "c4243c2b",
   "metadata": {},
   "outputs": [
    {
     "name": "stdout",
     "output_type": "stream",
     "text": [
      "My name is Parikh\n"
     ]
    }
   ],
   "source": [
    "str = \"My name is Parikh\"\n",
    "str.replace(\"Parikh\",\"Rohan\")\n",
    "print(str)"
   ]
  },
  {
   "cell_type": "markdown",
   "id": "75c14de1",
   "metadata": {},
   "source": [
    "Not change str because string are immutable in python"
   ]
  },
  {
   "cell_type": "code",
   "execution_count": 9,
   "id": "7c4d2475",
   "metadata": {},
   "outputs": [
    {
     "name": "stdout",
     "output_type": "stream",
     "text": [
      "My name is Parikh\n",
      "My name is Rohan\n"
     ]
    }
   ],
   "source": [
    "str = \"My name is Parikh\"\n",
    "strnew = str.replace(\"Parikh\",\"Rohan\")\n",
    "print(str)\n",
    "print(strnew)"
   ]
  },
  {
   "cell_type": "code",
   "execution_count": 10,
   "id": "8692b96e",
   "metadata": {},
   "outputs": [
    {
     "name": "stdout",
     "output_type": "stream",
     "text": [
      "My name is Parikh\n",
      "My name is Parikh\n"
     ]
    }
   ],
   "source": [
    "str = \"My name is Parikh\"\n",
    "strnew = str.replace(\"which\",\"Rohan\")\n",
    "print(str)\n",
    "print(strnew)"
   ]
  },
  {
   "cell_type": "code",
   "execution_count": 11,
   "id": "c5742134",
   "metadata": {},
   "outputs": [
    {
     "name": "stdout",
     "output_type": "stream",
     "text": [
      "My name is Parikh Parikh and Parikh\n",
      "My name is Rohan Rohan and Rohan\n"
     ]
    }
   ],
   "source": [
    "str = \"My name is Parikh Parikh and Parikh\"\n",
    "strnew = str.replace(\"Parikh\",\"Rohan\")\n",
    "print(str)\n",
    "print(strnew)"
   ]
  },
  {
   "cell_type": "code",
   "execution_count": 12,
   "id": "922a5425",
   "metadata": {},
   "outputs": [
    {
     "name": "stdout",
     "output_type": "stream",
     "text": [
      "My name is Parikh Parikh and Parikh\n",
      "My name is Rohan Rohan and Parikh\n"
     ]
    }
   ],
   "source": [
    "str = \"My name is Parikh Parikh and Parikh\"\n",
    "strnew = str.replace(\"Parikh\",\"Rohan\",2)\n",
    "print(str)\n",
    "print(strnew)"
   ]
  },
  {
   "cell_type": "markdown",
   "id": "48fac729",
   "metadata": {},
   "source": [
    "### find -> return index of the substring"
   ]
  },
  {
   "cell_type": "code",
   "execution_count": 13,
   "id": "b7bf127f",
   "metadata": {},
   "outputs": [
    {
     "name": "stdout",
     "output_type": "stream",
     "text": [
      "3\n"
     ]
    }
   ],
   "source": [
    "str = \"My name is Parikh\"\n",
    "index = str.find(\"na\")\n",
    "print(index)"
   ]
  },
  {
   "cell_type": "code",
   "execution_count": 14,
   "id": "c668a93d",
   "metadata": {},
   "outputs": [
    {
     "name": "stdout",
     "output_type": "stream",
     "text": [
      "-1\n"
     ]
    }
   ],
   "source": [
    "str = \"My name is Parikh\"\n",
    "index = str.find(\"nae\")\n",
    "print(index)"
   ]
  },
  {
   "cell_type": "code",
   "execution_count": 16,
   "id": "b7da8008",
   "metadata": {},
   "outputs": [
    {
     "name": "stdout",
     "output_type": "stream",
     "text": [
      "11\n"
     ]
    }
   ],
   "source": [
    "str = \"My name is Parikh Parikh\"\n",
    "index = str.find(\"Par\")\n",
    "print(index)"
   ]
  },
  {
   "cell_type": "code",
   "execution_count": 17,
   "id": "a742f07c",
   "metadata": {},
   "outputs": [
    {
     "name": "stdout",
     "output_type": "stream",
     "text": [
      "-1\n"
     ]
    }
   ],
   "source": [
    "str = \"My name is Parikh Parikh\"\n",
    "index = str.find(\"Par\",16,20)\n",
    "print(index)"
   ]
  },
  {
   "cell_type": "code",
   "execution_count": 18,
   "id": "66ee2e76",
   "metadata": {},
   "outputs": [
    {
     "name": "stdout",
     "output_type": "stream",
     "text": [
      "18\n"
     ]
    }
   ],
   "source": [
    "str = \"My name is Parikh Parikh\"\n",
    "index = str.find(\"Par\",16,21)\n",
    "print(index)"
   ]
  },
  {
   "cell_type": "markdown",
   "id": "4de0f5f5",
   "metadata": {},
   "source": [
    "### lower and upper"
   ]
  },
  {
   "cell_type": "code",
   "execution_count": 19,
   "id": "f34b17f3",
   "metadata": {},
   "outputs": [
    {
     "name": "stdout",
     "output_type": "stream",
     "text": [
      "my name is parikh parikh\n"
     ]
    }
   ],
   "source": [
    "str = \"My name is Parikh Parikh\"\n",
    "str = str.lower()\n",
    "print(str)"
   ]
  },
  {
   "cell_type": "code",
   "execution_count": 20,
   "id": "48477d7f",
   "metadata": {},
   "outputs": [
    {
     "name": "stdout",
     "output_type": "stream",
     "text": [
      "MY NAME IS PARIKH PARIKH\n"
     ]
    }
   ],
   "source": [
    "str = \"My name is Parikh Parikh\"\n",
    "str = str.upper()\n",
    "print(str)"
   ]
  },
  {
   "cell_type": "markdown",
   "id": "57919fdf",
   "metadata": {},
   "source": [
    "### startswith"
   ]
  },
  {
   "cell_type": "code",
   "execution_count": 22,
   "id": "c064aeb0",
   "metadata": {},
   "outputs": [
    {
     "name": "stdout",
     "output_type": "stream",
     "text": [
      "True\n"
     ]
    }
   ],
   "source": [
    "str = \"My name is Parikh\"\n",
    "ans = str.startswith(\"My na\")\n",
    "print(ans)"
   ]
  },
  {
   "cell_type": "code",
   "execution_count": 23,
   "id": "c4ef0fb7",
   "metadata": {},
   "outputs": [
    {
     "name": "stdout",
     "output_type": "stream",
     "text": [
      "False\n"
     ]
    }
   ],
   "source": [
    "str = \"My name is Parikh\"\n",
    "ans = str.startswith(\"My Na\")\n",
    "print(ans)"
   ]
  },
  {
   "cell_type": "code",
   "execution_count": 24,
   "id": "ac22fcfc",
   "metadata": {},
   "outputs": [
    {
     "name": "stdout",
     "output_type": "stream",
     "text": [
      "True\n"
     ]
    }
   ],
   "source": [
    "str = \"My name is Parikh\"\n",
    "ans = str.startswith(\"Pa\",11,25)\n",
    "print(ans)"
   ]
  },
  {
   "cell_type": "code",
   "execution_count": 25,
   "id": "641c0b14",
   "metadata": {},
   "outputs": [
    {
     "name": "stdout",
     "output_type": "stream",
     "text": [
      "False\n"
     ]
    }
   ],
   "source": [
    "str = \"My name is Parikh\"\n",
    "ans = str.startswith(\"Pae\",11,25)\n",
    "print(ans)"
   ]
  },
  {
   "cell_type": "code",
   "execution_count": null,
   "id": "51f3d83c",
   "metadata": {},
   "outputs": [],
   "source": []
  },
  {
   "cell_type": "code",
   "execution_count": null,
   "id": "58c8710b",
   "metadata": {},
   "outputs": [],
   "source": []
  },
  {
   "cell_type": "code",
   "execution_count": null,
   "id": "3ae3b3da",
   "metadata": {},
   "outputs": [],
   "source": []
  },
  {
   "cell_type": "code",
   "execution_count": null,
   "id": "1a12ba30",
   "metadata": {},
   "outputs": [],
   "source": []
  }
 ],
 "metadata": {
  "kernelspec": {
   "display_name": "Python 3 (ipykernel)",
   "language": "python",
   "name": "python3"
  },
  "language_info": {
   "codemirror_mode": {
    "name": "ipython",
    "version": 3
   },
   "file_extension": ".py",
   "mimetype": "text/x-python",
   "name": "python",
   "nbconvert_exporter": "python",
   "pygments_lexer": "ipython3",
   "version": "3.10.12"
  }
 },
 "nbformat": 4,
 "nbformat_minor": 5
}
