{
 "cells": [
  {
   "cell_type": "code",
   "execution_count": 5,
   "id": "4ad72078",
   "metadata": {},
   "outputs": [
    {
     "name": "stdout",
     "output_type": "stream",
     "text": [
      "aaabbbccddee\n",
      "b\n",
      "z\n",
      "aaazzzccddee\n"
     ]
    }
   ],
   "source": [
    "def replaceChar(str,k1,k2):\n",
    "    strnew = \"\"\n",
    "    for letter in str:\n",
    "        if letter==k1:\n",
    "            strnew = str.replace(letter,k2)\n",
    "    return strnew   \n",
    "str = input()\n",
    "k1 = input()\n",
    "k2 = input()\n",
    "newstr = replaceChar(str,k1,k2)\n",
    "print(newstr)"
   ]
  },
  {
   "cell_type": "code",
   "execution_count": 6,
   "id": "1b151454",
   "metadata": {},
   "outputs": [
    {
     "name": "stdout",
     "output_type": "stream",
     "text": [
      "abcdeefgee\n",
      "e\n",
      "x\n",
      "abcdxxfgxx\n"
     ]
    }
   ],
   "source": [
    "def replaceChar(str,k1,k2):\n",
    "    strnew = \"\"\n",
    "    for letter in str:\n",
    "        if letter==k1:\n",
    "            strnew +=k2\n",
    "        else:\n",
    "            strnew+=letter\n",
    "    return strnew   \n",
    "str = input()\n",
    "k1 = input()\n",
    "k2 = input()\n",
    "newstr = replaceChar(str,k1,k2)\n",
    "print(newstr)"
   ]
  },
  {
   "cell_type": "code",
   "execution_count": null,
   "id": "e2bf573c",
   "metadata": {},
   "outputs": [],
   "source": []
  }
 ],
 "metadata": {
  "kernelspec": {
   "display_name": "Python 3 (ipykernel)",
   "language": "python",
   "name": "python3"
  },
  "language_info": {
   "codemirror_mode": {
    "name": "ipython",
    "version": 3
   },
   "file_extension": ".py",
   "mimetype": "text/x-python",
   "name": "python",
   "nbconvert_exporter": "python",
   "pygments_lexer": "ipython3",
   "version": "3.10.12"
  }
 },
 "nbformat": 4,
 "nbformat_minor": 5
}
