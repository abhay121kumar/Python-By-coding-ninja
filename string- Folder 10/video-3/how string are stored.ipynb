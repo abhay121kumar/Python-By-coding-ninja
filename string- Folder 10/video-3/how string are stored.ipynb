{
 "cells": [
  {
   "cell_type": "code",
   "execution_count": 1,
   "id": "56b227f8",
   "metadata": {},
   "outputs": [],
   "source": [
    "s = \"parikh\""
   ]
  },
  {
   "cell_type": "code",
   "execution_count": 2,
   "id": "8dc492fa",
   "metadata": {},
   "outputs": [
    {
     "data": {
      "text/plain": [
       "140319723340720"
      ]
     },
     "execution_count": 2,
     "metadata": {},
     "output_type": "execute_result"
    }
   ],
   "source": [
    "id(s)"
   ]
  },
  {
   "cell_type": "code",
   "execution_count": 3,
   "id": "d676ae99",
   "metadata": {},
   "outputs": [
    {
     "name": "stdout",
     "output_type": "stream",
     "text": [
      "parikh\n"
     ]
    }
   ],
   "source": [
    "print(s)"
   ]
  },
  {
   "cell_type": "code",
   "execution_count": 7,
   "id": "2517f5ca",
   "metadata": {},
   "outputs": [],
   "source": [
    "a = \"rohan\""
   ]
  },
  {
   "cell_type": "code",
   "execution_count": 8,
   "id": "6ae6e964",
   "metadata": {},
   "outputs": [
    {
     "data": {
      "text/plain": [
       "140319671151344"
      ]
     },
     "execution_count": 8,
     "metadata": {},
     "output_type": "execute_result"
    }
   ],
   "source": [
    "id(a)"
   ]
  },
  {
   "cell_type": "code",
   "execution_count": 9,
   "id": "69442d66",
   "metadata": {},
   "outputs": [],
   "source": [
    "a = \"parikh\""
   ]
  },
  {
   "cell_type": "code",
   "execution_count": 10,
   "id": "be91c0f4",
   "metadata": {},
   "outputs": [
    {
     "data": {
      "text/plain": [
       "140319723340720"
      ]
     },
     "execution_count": 10,
     "metadata": {},
     "output_type": "execute_result"
    }
   ],
   "source": [
    "id(a)"
   ]
  },
  {
   "cell_type": "code",
   "execution_count": 11,
   "id": "c0de3ec0",
   "metadata": {},
   "outputs": [
    {
     "data": {
      "text/plain": [
       "140319723340720"
      ]
     },
     "execution_count": 11,
     "metadata": {},
     "output_type": "execute_result"
    }
   ],
   "source": [
    "id(s)"
   ]
  },
  {
   "cell_type": "markdown",
   "id": "2a9078b2",
   "metadata": {},
   "source": [
    "### string are immutable in python ->means u can not make changes"
   ]
  },
  {
   "cell_type": "code",
   "execution_count": 12,
   "id": "6301661a",
   "metadata": {},
   "outputs": [],
   "source": [
    "a = \"pariikh\""
   ]
  },
  {
   "cell_type": "code",
   "execution_count": 13,
   "id": "bc70d786",
   "metadata": {},
   "outputs": [
    {
     "data": {
      "text/plain": [
       "'p'"
      ]
     },
     "execution_count": 13,
     "metadata": {},
     "output_type": "execute_result"
    }
   ],
   "source": [
    "a[0]"
   ]
  },
  {
   "cell_type": "code",
   "execution_count": 15,
   "id": "7a0b2b98",
   "metadata": {},
   "outputs": [
    {
     "ename": "TypeError",
     "evalue": "'str' object does not support item assignment",
     "output_type": "error",
     "traceback": [
      "\u001b[0;31m---------------------------------------------------------------------------\u001b[0m",
      "\u001b[0;31mTypeError\u001b[0m                                 Traceback (most recent call last)",
      "Cell \u001b[0;32mIn[15], line 1\u001b[0m\n\u001b[0;32m----> 1\u001b[0m \u001b[43ma\u001b[49m\u001b[43m[\u001b[49m\u001b[38;5;241;43m0\u001b[39;49m\u001b[43m]\u001b[49m \u001b[38;5;241m=\u001b[39m \u001b[38;5;124m\"\u001b[39m\u001b[38;5;124mr\u001b[39m\u001b[38;5;124m\"\u001b[39m\n",
      "\u001b[0;31mTypeError\u001b[0m: 'str' object does not support item assignment"
     ]
    }
   ],
   "source": [
    "a[0] = \"r\""
   ]
  },
  {
   "cell_type": "code",
   "execution_count": 16,
   "id": "eb3f4d79",
   "metadata": {},
   "outputs": [],
   "source": [
    "a = \"rarikh\""
   ]
  },
  {
   "cell_type": "code",
   "execution_count": 17,
   "id": "c126ee03",
   "metadata": {},
   "outputs": [
    {
     "data": {
      "text/plain": [
       "'r'"
      ]
     },
     "execution_count": 17,
     "metadata": {},
     "output_type": "execute_result"
    }
   ],
   "source": [
    "a[0]"
   ]
  },
  {
   "cell_type": "code",
   "execution_count": null,
   "id": "3963379a",
   "metadata": {},
   "outputs": [],
   "source": []
  },
  {
   "cell_type": "code",
   "execution_count": null,
   "id": "55e76e67",
   "metadata": {},
   "outputs": [],
   "source": []
  }
 ],
 "metadata": {
  "kernelspec": {
   "display_name": "Python 3 (ipykernel)",
   "language": "python",
   "name": "python3"
  },
  "language_info": {
   "codemirror_mode": {
    "name": "ipython",
    "version": 3
   },
   "file_extension": ".py",
   "mimetype": "text/x-python",
   "name": "python",
   "nbconvert_exporter": "python",
   "pygments_lexer": "ipython3",
   "version": "3.10.12"
  }
 },
 "nbformat": 4,
 "nbformat_minor": 5
}
