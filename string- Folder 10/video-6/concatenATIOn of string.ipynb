{
 "cells": [
  {
   "cell_type": "code",
   "execution_count": 1,
   "id": "84588402",
   "metadata": {},
   "outputs": [],
   "source": [
    "a = \"red\""
   ]
  },
  {
   "cell_type": "code",
   "execution_count": 5,
   "id": "90bc0741",
   "metadata": {},
   "outputs": [
    {
     "data": {
      "text/plain": [
       "'redblue'"
      ]
     },
     "execution_count": 5,
     "metadata": {},
     "output_type": "execute_result"
    }
   ],
   "source": [
    "a"
   ]
  },
  {
   "cell_type": "markdown",
   "id": "d90a607a",
   "metadata": {},
   "source": [
    "### using + operator"
   ]
  },
  {
   "cell_type": "code",
   "execution_count": 3,
   "id": "5308a297",
   "metadata": {},
   "outputs": [],
   "source": [
    "a = a + \"blue\""
   ]
  },
  {
   "cell_type": "code",
   "execution_count": 4,
   "id": "f67f11a0",
   "metadata": {},
   "outputs": [
    {
     "data": {
      "text/plain": [
       "'redblue'"
      ]
     },
     "execution_count": 4,
     "metadata": {},
     "output_type": "execute_result"
    }
   ],
   "source": [
    "a"
   ]
  },
  {
   "cell_type": "code",
   "execution_count": 6,
   "id": "aaa1475d",
   "metadata": {},
   "outputs": [],
   "source": [
    "a = a + \"green\" + \"blue\""
   ]
  },
  {
   "cell_type": "code",
   "execution_count": 7,
   "id": "efd7fb61",
   "metadata": {},
   "outputs": [
    {
     "data": {
      "text/plain": [
       "'redbluegreenblue'"
      ]
     },
     "execution_count": 7,
     "metadata": {},
     "output_type": "execute_result"
    }
   ],
   "source": [
    "a"
   ]
  },
  {
   "cell_type": "code",
   "execution_count": 8,
   "id": "72af9cf8",
   "metadata": {},
   "outputs": [],
   "source": [
    "a+=\"okayy\""
   ]
  },
  {
   "cell_type": "code",
   "execution_count": 9,
   "id": "1b15bf81",
   "metadata": {},
   "outputs": [
    {
     "data": {
      "text/plain": [
       "'redbluegreenblueokayy'"
      ]
     },
     "execution_count": 9,
     "metadata": {},
     "output_type": "execute_result"
    }
   ],
   "source": [
    "a"
   ]
  },
  {
   "cell_type": "code",
   "execution_count": 10,
   "id": "1abbe6b2",
   "metadata": {},
   "outputs": [
    {
     "data": {
      "text/plain": [
       "139987618025584"
      ]
     },
     "execution_count": 10,
     "metadata": {},
     "output_type": "execute_result"
    }
   ],
   "source": [
    "id(a)"
   ]
  },
  {
   "cell_type": "code",
   "execution_count": 11,
   "id": "b7bf940f",
   "metadata": {},
   "outputs": [],
   "source": [
    "a+=\"yellow\""
   ]
  },
  {
   "cell_type": "code",
   "execution_count": 12,
   "id": "be7dd978",
   "metadata": {},
   "outputs": [
    {
     "data": {
      "text/plain": [
       "'redbluegreenblueokayyyellow'"
      ]
     },
     "execution_count": 12,
     "metadata": {},
     "output_type": "execute_result"
    }
   ],
   "source": [
    "a"
   ]
  },
  {
   "cell_type": "code",
   "execution_count": 13,
   "id": "290459f4",
   "metadata": {},
   "outputs": [
    {
     "data": {
      "text/plain": [
       "139987618027184"
      ]
     },
     "execution_count": 13,
     "metadata": {},
     "output_type": "execute_result"
    }
   ],
   "source": [
    "id(a)"
   ]
  },
  {
   "cell_type": "code",
   "execution_count": 14,
   "id": "5a1fa899",
   "metadata": {},
   "outputs": [],
   "source": [
    "a = \"blue\""
   ]
  },
  {
   "cell_type": "code",
   "execution_count": 15,
   "id": "4d84d41b",
   "metadata": {},
   "outputs": [],
   "source": [
    "a = a*3"
   ]
  },
  {
   "cell_type": "code",
   "execution_count": 16,
   "id": "48500a15",
   "metadata": {},
   "outputs": [
    {
     "data": {
      "text/plain": [
       "'blueblueblue'"
      ]
     },
     "execution_count": 16,
     "metadata": {},
     "output_type": "execute_result"
    }
   ],
   "source": [
    "a"
   ]
  },
  {
   "cell_type": "code",
   "execution_count": 17,
   "id": "49e49433",
   "metadata": {},
   "outputs": [],
   "source": [
    "a = a*3"
   ]
  },
  {
   "cell_type": "code",
   "execution_count": 18,
   "id": "64c972f2",
   "metadata": {},
   "outputs": [
    {
     "data": {
      "text/plain": [
       "'blueblueblueblueblueblueblueblueblue'"
      ]
     },
     "execution_count": 18,
     "metadata": {},
     "output_type": "execute_result"
    }
   ],
   "source": [
    "a"
   ]
  },
  {
   "cell_type": "code",
   "execution_count": 19,
   "id": "6fdc6b7a",
   "metadata": {},
   "outputs": [],
   "source": [
    "a = a*1"
   ]
  },
  {
   "cell_type": "code",
   "execution_count": 20,
   "id": "37f69d4e",
   "metadata": {},
   "outputs": [
    {
     "data": {
      "text/plain": [
       "'blueblueblueblueblueblueblueblueblue'"
      ]
     },
     "execution_count": 20,
     "metadata": {},
     "output_type": "execute_result"
    }
   ],
   "source": [
    "a"
   ]
  },
  {
   "cell_type": "code",
   "execution_count": 21,
   "id": "1d6076af",
   "metadata": {},
   "outputs": [
    {
     "data": {
      "text/plain": [
       "139987617974864"
      ]
     },
     "execution_count": 21,
     "metadata": {},
     "output_type": "execute_result"
    }
   ],
   "source": [
    "id(a)"
   ]
  },
  {
   "cell_type": "code",
   "execution_count": 22,
   "id": "dcb32b47",
   "metadata": {},
   "outputs": [],
   "source": [
    "a = a*2"
   ]
  },
  {
   "cell_type": "code",
   "execution_count": 23,
   "id": "01bf6926",
   "metadata": {},
   "outputs": [
    {
     "data": {
      "text/plain": [
       "'blueblueblueblueblueblueblueblueblueblueblueblueblueblueblueblueblueblue'"
      ]
     },
     "execution_count": 23,
     "metadata": {},
     "output_type": "execute_result"
    }
   ],
   "source": [
    "a"
   ]
  },
  {
   "cell_type": "code",
   "execution_count": 24,
   "id": "23fe27de",
   "metadata": {},
   "outputs": [
    {
     "data": {
      "text/plain": [
       "139987652806960"
      ]
     },
     "execution_count": 24,
     "metadata": {},
     "output_type": "execute_result"
    }
   ],
   "source": [
    "id(a)"
   ]
  },
  {
   "cell_type": "code",
   "execution_count": 25,
   "id": "0184c1cf",
   "metadata": {},
   "outputs": [],
   "source": [
    "a = \"white\""
   ]
  },
  {
   "cell_type": "code",
   "execution_count": 26,
   "id": "8b99bf10",
   "metadata": {},
   "outputs": [
    {
     "ename": "TypeError",
     "evalue": "can only concatenate str (not \"int\") to str",
     "output_type": "error",
     "traceback": [
      "\u001b[0;31m---------------------------------------------------------------------------\u001b[0m",
      "\u001b[0;31mTypeError\u001b[0m                                 Traceback (most recent call last)",
      "Cell \u001b[0;32mIn[26], line 1\u001b[0m\n\u001b[0;32m----> 1\u001b[0m a \u001b[38;5;241m=\u001b[39m \u001b[43ma\u001b[49m\u001b[38;5;241;43m+\u001b[39;49m\u001b[38;5;241;43m3\u001b[39;49m\n",
      "\u001b[0;31mTypeError\u001b[0m: can only concatenate str (not \"int\") to str"
     ]
    }
   ],
   "source": [
    "a = a+3"
   ]
  },
  {
   "cell_type": "code",
   "execution_count": 27,
   "id": "c7ccf983",
   "metadata": {},
   "outputs": [],
   "source": [
    "a = a + str(3)"
   ]
  },
  {
   "cell_type": "code",
   "execution_count": 28,
   "id": "45930084",
   "metadata": {},
   "outputs": [
    {
     "data": {
      "text/plain": [
       "'white3'"
      ]
     },
     "execution_count": 28,
     "metadata": {},
     "output_type": "execute_result"
    }
   ],
   "source": [
    "a"
   ]
  },
  {
   "cell_type": "code",
   "execution_count": null,
   "id": "4ed1c0c8",
   "metadata": {},
   "outputs": [],
   "source": []
  }
 ],
 "metadata": {
  "kernelspec": {
   "display_name": "Python 3 (ipykernel)",
   "language": "python",
   "name": "python3"
  },
  "language_info": {
   "codemirror_mode": {
    "name": "ipython",
    "version": 3
   },
   "file_extension": ".py",
   "mimetype": "text/x-python",
   "name": "python",
   "nbconvert_exporter": "python",
   "pygments_lexer": "ipython3",
   "version": "3.10.12"
  }
 },
 "nbformat": 4,
 "nbformat_minor": 5
}
